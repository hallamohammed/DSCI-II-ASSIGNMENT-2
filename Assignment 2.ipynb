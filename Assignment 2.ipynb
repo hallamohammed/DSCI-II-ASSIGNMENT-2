{
 "cells": [
  {
   "cell_type": "markdown",
   "id": "45e80c9a",
   "metadata": {},
   "source": [
    "Assignment 2- Halla Mohammed (900211491)"
   ]
  },
  {
   "cell_type": "markdown",
   "id": "5515a973",
   "metadata": {},
   "source": [
    "Part I"
   ]
  },
  {
   "cell_type": "markdown",
   "id": "cbd3f0ac",
   "metadata": {},
   "source": [
    "1. The probability of (winning/losing) of the most repeated countries in the dataset in terms of several factors.\n",
    "1. The probability of (winning/losing) of the most repeated countries in the dataset in terms of several factors.\n",
    "2. Comparing confidence intervals.\n",
    "3. Drawing the corresponding graphs.\n",
    "4. Description of the results."
   ]
  },
  {
   "cell_type": "code",
   "execution_count": 304,
   "id": "7e16a8d7",
   "metadata": {},
   "outputs": [
    {
     "name": "stdout",
     "output_type": "stream",
     "text": [
      "/Users/halahatem\n"
     ]
    }
   ],
   "source": [
    "#importing necessary libraries \n",
    "\n",
    "import pandas as pd\n",
    "import numpy as np\n",
    "import statsmodels.api as sm\n",
    "import matplotlib.pyplot as plt\n",
    "import scipy \n",
    "from scipy import stats\n",
    "import math\n",
    "from statsmodels.stats.proportion import proportion_confint\n",
    "from scipy.stats import norm,t\n",
    "\n",
    "\n",
    "#importing a csv file from my laptop\n",
    "\n",
    "import os\n",
    "working_directory= os.getcwd()\n",
    "print(working_directory)"
   ]
  },
  {
   "cell_type": "code",
   "execution_count": 305,
   "id": "a01924ef",
   "metadata": {},
   "outputs": [],
   "source": [
    "excercise1 = working_directory + '/Desktop/results.csv'\n",
    "dataframe= pd.read_csv(excercise1)"
   ]
  },
  {
   "cell_type": "code",
   "execution_count": 306,
   "id": "6f118a44",
   "metadata": {},
   "outputs": [
    {
     "data": {
      "text/html": [
       "<div>\n",
       "<style scoped>\n",
       "    .dataframe tbody tr th:only-of-type {\n",
       "        vertical-align: middle;\n",
       "    }\n",
       "\n",
       "    .dataframe tbody tr th {\n",
       "        vertical-align: top;\n",
       "    }\n",
       "\n",
       "    .dataframe thead th {\n",
       "        text-align: right;\n",
       "    }\n",
       "</style>\n",
       "<table border=\"1\" class=\"dataframe\">\n",
       "  <thead>\n",
       "    <tr style=\"text-align: right;\">\n",
       "      <th></th>\n",
       "      <th>date</th>\n",
       "      <th>home_team</th>\n",
       "      <th>away_team</th>\n",
       "      <th>home_score</th>\n",
       "      <th>away_score</th>\n",
       "      <th>tournament</th>\n",
       "      <th>city</th>\n",
       "      <th>country</th>\n",
       "      <th>neutral</th>\n",
       "    </tr>\n",
       "  </thead>\n",
       "  <tbody>\n",
       "    <tr>\n",
       "      <th>0</th>\n",
       "      <td>1872-11-30</td>\n",
       "      <td>Scotland</td>\n",
       "      <td>England</td>\n",
       "      <td>0</td>\n",
       "      <td>0</td>\n",
       "      <td>Friendly</td>\n",
       "      <td>Glasgow</td>\n",
       "      <td>Scotland</td>\n",
       "      <td>False</td>\n",
       "    </tr>\n",
       "    <tr>\n",
       "      <th>1</th>\n",
       "      <td>1873-03-08</td>\n",
       "      <td>England</td>\n",
       "      <td>Scotland</td>\n",
       "      <td>4</td>\n",
       "      <td>2</td>\n",
       "      <td>Friendly</td>\n",
       "      <td>London</td>\n",
       "      <td>England</td>\n",
       "      <td>False</td>\n",
       "    </tr>\n",
       "    <tr>\n",
       "      <th>2</th>\n",
       "      <td>1874-03-07</td>\n",
       "      <td>Scotland</td>\n",
       "      <td>England</td>\n",
       "      <td>2</td>\n",
       "      <td>1</td>\n",
       "      <td>Friendly</td>\n",
       "      <td>Glasgow</td>\n",
       "      <td>Scotland</td>\n",
       "      <td>False</td>\n",
       "    </tr>\n",
       "    <tr>\n",
       "      <th>3</th>\n",
       "      <td>1875-03-06</td>\n",
       "      <td>England</td>\n",
       "      <td>Scotland</td>\n",
       "      <td>2</td>\n",
       "      <td>2</td>\n",
       "      <td>Friendly</td>\n",
       "      <td>London</td>\n",
       "      <td>England</td>\n",
       "      <td>False</td>\n",
       "    </tr>\n",
       "    <tr>\n",
       "      <th>4</th>\n",
       "      <td>1876-03-04</td>\n",
       "      <td>Scotland</td>\n",
       "      <td>England</td>\n",
       "      <td>3</td>\n",
       "      <td>0</td>\n",
       "      <td>Friendly</td>\n",
       "      <td>Glasgow</td>\n",
       "      <td>Scotland</td>\n",
       "      <td>False</td>\n",
       "    </tr>\n",
       "  </tbody>\n",
       "</table>\n",
       "</div>"
      ],
      "text/plain": [
       "         date home_team away_team  home_score  away_score tournament     city  \\\n",
       "0  1872-11-30  Scotland   England           0           0   Friendly  Glasgow   \n",
       "1  1873-03-08   England  Scotland           4           2   Friendly   London   \n",
       "2  1874-03-07  Scotland   England           2           1   Friendly  Glasgow   \n",
       "3  1875-03-06   England  Scotland           2           2   Friendly   London   \n",
       "4  1876-03-04  Scotland   England           3           0   Friendly  Glasgow   \n",
       "\n",
       "    country  neutral  \n",
       "0  Scotland    False  \n",
       "1   England    False  \n",
       "2  Scotland    False  \n",
       "3   England    False  \n",
       "4  Scotland    False  "
      ]
     },
     "execution_count": 306,
     "metadata": {},
     "output_type": "execute_result"
    }
   ],
   "source": [
    "dataframe.head()"
   ]
  },
  {
   "cell_type": "code",
   "execution_count": 307,
   "id": "4690ec65",
   "metadata": {},
   "outputs": [],
   "source": [
    "x=dataframe['home_score']-dataframe['away_score']\n",
    "conditions = [\n",
    "    (x<0),\n",
    "    (x>0),\n",
    "    (x==0)\n",
    "    ]"
   ]
  },
  {
   "cell_type": "code",
   "execution_count": 308,
   "id": "1d51c113",
   "metadata": {},
   "outputs": [],
   "source": [
    "values= ['win','lose','draw']"
   ]
  },
  {
   "cell_type": "code",
   "execution_count": 309,
   "id": "951684ad",
   "metadata": {},
   "outputs": [],
   "source": [
    "dataframe['type_of_result'] = np.select(conditions, values)"
   ]
  },
  {
   "cell_type": "code",
   "execution_count": 310,
   "id": "bdd4ff1d",
   "metadata": {},
   "outputs": [],
   "source": [
    "x=dataframe['type_of_result'].value_counts()"
   ]
  },
  {
   "cell_type": "code",
   "execution_count": 311,
   "id": "d8adfafa",
   "metadata": {},
   "outputs": [
    {
     "data": {
      "text/plain": [
       "lose    0.486455\n",
       "win     0.283042\n",
       "draw    0.230504\n",
       "Name: type_of_result, dtype: float64"
      ]
     },
     "execution_count": 311,
     "metadata": {},
     "output_type": "execute_result"
    }
   ],
   "source": [
    "dataframe['type_of_result'].value_counts(normalize=True)"
   ]
  },
  {
   "cell_type": "code",
   "execution_count": 312,
   "id": "3d2caebe",
   "metadata": {},
   "outputs": [
    {
     "data": {
      "text/html": [
       "<div>\n",
       "<style scoped>\n",
       "    .dataframe tbody tr th:only-of-type {\n",
       "        vertical-align: middle;\n",
       "    }\n",
       "\n",
       "    .dataframe tbody tr th {\n",
       "        vertical-align: top;\n",
       "    }\n",
       "\n",
       "    .dataframe thead th {\n",
       "        text-align: right;\n",
       "    }\n",
       "</style>\n",
       "<table border=\"1\" class=\"dataframe\">\n",
       "  <thead>\n",
       "    <tr style=\"text-align: right;\">\n",
       "      <th></th>\n",
       "      <th>date</th>\n",
       "      <th>home_team</th>\n",
       "      <th>away_team</th>\n",
       "      <th>home_score</th>\n",
       "      <th>away_score</th>\n",
       "      <th>tournament</th>\n",
       "      <th>city</th>\n",
       "      <th>country</th>\n",
       "      <th>neutral</th>\n",
       "      <th>type_of_result</th>\n",
       "    </tr>\n",
       "  </thead>\n",
       "  <tbody>\n",
       "    <tr>\n",
       "      <th>0</th>\n",
       "      <td>1872-11-30</td>\n",
       "      <td>Scotland</td>\n",
       "      <td>England</td>\n",
       "      <td>0</td>\n",
       "      <td>0</td>\n",
       "      <td>Friendly</td>\n",
       "      <td>Glasgow</td>\n",
       "      <td>Scotland</td>\n",
       "      <td>False</td>\n",
       "      <td>draw</td>\n",
       "    </tr>\n",
       "    <tr>\n",
       "      <th>1</th>\n",
       "      <td>1873-03-08</td>\n",
       "      <td>England</td>\n",
       "      <td>Scotland</td>\n",
       "      <td>4</td>\n",
       "      <td>2</td>\n",
       "      <td>Friendly</td>\n",
       "      <td>London</td>\n",
       "      <td>England</td>\n",
       "      <td>False</td>\n",
       "      <td>lose</td>\n",
       "    </tr>\n",
       "    <tr>\n",
       "      <th>2</th>\n",
       "      <td>1874-03-07</td>\n",
       "      <td>Scotland</td>\n",
       "      <td>England</td>\n",
       "      <td>2</td>\n",
       "      <td>1</td>\n",
       "      <td>Friendly</td>\n",
       "      <td>Glasgow</td>\n",
       "      <td>Scotland</td>\n",
       "      <td>False</td>\n",
       "      <td>lose</td>\n",
       "    </tr>\n",
       "    <tr>\n",
       "      <th>3</th>\n",
       "      <td>1875-03-06</td>\n",
       "      <td>England</td>\n",
       "      <td>Scotland</td>\n",
       "      <td>2</td>\n",
       "      <td>2</td>\n",
       "      <td>Friendly</td>\n",
       "      <td>London</td>\n",
       "      <td>England</td>\n",
       "      <td>False</td>\n",
       "      <td>draw</td>\n",
       "    </tr>\n",
       "    <tr>\n",
       "      <th>4</th>\n",
       "      <td>1876-03-04</td>\n",
       "      <td>Scotland</td>\n",
       "      <td>England</td>\n",
       "      <td>3</td>\n",
       "      <td>0</td>\n",
       "      <td>Friendly</td>\n",
       "      <td>Glasgow</td>\n",
       "      <td>Scotland</td>\n",
       "      <td>False</td>\n",
       "      <td>lose</td>\n",
       "    </tr>\n",
       "  </tbody>\n",
       "</table>\n",
       "</div>"
      ],
      "text/plain": [
       "         date home_team away_team  home_score  away_score tournament     city  \\\n",
       "0  1872-11-30  Scotland   England           0           0   Friendly  Glasgow   \n",
       "1  1873-03-08   England  Scotland           4           2   Friendly   London   \n",
       "2  1874-03-07  Scotland   England           2           1   Friendly  Glasgow   \n",
       "3  1875-03-06   England  Scotland           2           2   Friendly   London   \n",
       "4  1876-03-04  Scotland   England           3           0   Friendly  Glasgow   \n",
       "\n",
       "    country  neutral type_of_result  \n",
       "0  Scotland    False           draw  \n",
       "1   England    False           lose  \n",
       "2  Scotland    False           lose  \n",
       "3   England    False           draw  \n",
       "4  Scotland    False           lose  "
      ]
     },
     "execution_count": 312,
     "metadata": {},
     "output_type": "execute_result"
    }
   ],
   "source": [
    "dataframe.head()"
   ]
  },
  {
   "cell_type": "code",
   "execution_count": 313,
   "id": "6dbc495f",
   "metadata": {},
   "outputs": [],
   "source": [
    "x=dataframe['country'].unique()"
   ]
  },
  {
   "cell_type": "markdown",
   "id": "f367acc2",
   "metadata": {},
   "source": [
    "France "
   ]
  },
  {
   "cell_type": "code",
   "execution_count": 314,
   "id": "cca5b853",
   "metadata": {},
   "outputs": [],
   "source": [
    "dffrance=dataframe[dataframe['country']=='France']"
   ]
  },
  {
   "cell_type": "code",
   "execution_count": 315,
   "id": "69a8307b",
   "metadata": {},
   "outputs": [
    {
     "data": {
      "text/html": [
       "<div>\n",
       "<style scoped>\n",
       "    .dataframe tbody tr th:only-of-type {\n",
       "        vertical-align: middle;\n",
       "    }\n",
       "\n",
       "    .dataframe tbody tr th {\n",
       "        vertical-align: top;\n",
       "    }\n",
       "\n",
       "    .dataframe thead th {\n",
       "        text-align: right;\n",
       "    }\n",
       "</style>\n",
       "<table border=\"1\" class=\"dataframe\">\n",
       "  <thead>\n",
       "    <tr style=\"text-align: right;\">\n",
       "      <th></th>\n",
       "      <th>date</th>\n",
       "      <th>home_team</th>\n",
       "      <th>away_team</th>\n",
       "      <th>home_score</th>\n",
       "      <th>away_score</th>\n",
       "      <th>tournament</th>\n",
       "      <th>city</th>\n",
       "      <th>country</th>\n",
       "      <th>neutral</th>\n",
       "      <th>type_of_result</th>\n",
       "    </tr>\n",
       "  </thead>\n",
       "  <tbody>\n",
       "    <tr>\n",
       "      <th>166</th>\n",
       "      <td>2/12/1905</td>\n",
       "      <td>France</td>\n",
       "      <td>Switzerland</td>\n",
       "      <td>1</td>\n",
       "      <td>0</td>\n",
       "      <td>Friendly</td>\n",
       "      <td>Paris</td>\n",
       "      <td>France</td>\n",
       "      <td>False</td>\n",
       "      <td>lose</td>\n",
       "    </tr>\n",
       "    <tr>\n",
       "      <th>185</th>\n",
       "      <td>4/22/1906</td>\n",
       "      <td>France</td>\n",
       "      <td>Belgium</td>\n",
       "      <td>0</td>\n",
       "      <td>5</td>\n",
       "      <td>Friendly</td>\n",
       "      <td>Saint-Cloud</td>\n",
       "      <td>France</td>\n",
       "      <td>False</td>\n",
       "      <td>win</td>\n",
       "    </tr>\n",
       "    <tr>\n",
       "      <th>215</th>\n",
       "      <td>4/12/1908</td>\n",
       "      <td>France</td>\n",
       "      <td>Belgium</td>\n",
       "      <td>1</td>\n",
       "      <td>2</td>\n",
       "      <td>Friendly</td>\n",
       "      <td>Colombes</td>\n",
       "      <td>France</td>\n",
       "      <td>False</td>\n",
       "      <td>win</td>\n",
       "    </tr>\n",
       "    <tr>\n",
       "      <th>257</th>\n",
       "      <td>4/3/1910</td>\n",
       "      <td>France</td>\n",
       "      <td>Belgium</td>\n",
       "      <td>0</td>\n",
       "      <td>4</td>\n",
       "      <td>Friendly</td>\n",
       "      <td>Gentilly</td>\n",
       "      <td>France</td>\n",
       "      <td>False</td>\n",
       "      <td>win</td>\n",
       "    </tr>\n",
       "    <tr>\n",
       "      <th>277</th>\n",
       "      <td>1/1/1911</td>\n",
       "      <td>France</td>\n",
       "      <td>Hungary</td>\n",
       "      <td>0</td>\n",
       "      <td>3</td>\n",
       "      <td>Friendly</td>\n",
       "      <td>Maisons-Alfort</td>\n",
       "      <td>France</td>\n",
       "      <td>False</td>\n",
       "      <td>win</td>\n",
       "    </tr>\n",
       "  </tbody>\n",
       "</table>\n",
       "</div>"
      ],
      "text/plain": [
       "          date home_team    away_team  home_score  away_score tournament  \\\n",
       "166  2/12/1905    France  Switzerland           1           0   Friendly   \n",
       "185  4/22/1906    France      Belgium           0           5   Friendly   \n",
       "215  4/12/1908    France      Belgium           1           2   Friendly   \n",
       "257   4/3/1910    France      Belgium           0           4   Friendly   \n",
       "277   1/1/1911    France      Hungary           0           3   Friendly   \n",
       "\n",
       "               city country  neutral type_of_result  \n",
       "166           Paris  France    False           lose  \n",
       "185     Saint-Cloud  France    False            win  \n",
       "215        Colombes  France    False            win  \n",
       "257        Gentilly  France    False            win  \n",
       "277  Maisons-Alfort  France    False            win  "
      ]
     },
     "execution_count": 315,
     "metadata": {},
     "output_type": "execute_result"
    }
   ],
   "source": [
    "dffrance.head()"
   ]
  },
  {
   "cell_type": "markdown",
   "id": "3786e4eb",
   "metadata": {},
   "source": [
    "Tournament"
   ]
  },
  {
   "cell_type": "code",
   "execution_count": 316,
   "id": "2fae8a3e",
   "metadata": {},
   "outputs": [],
   "source": [
    "conditions = [\n",
    "    (dffrance['tournament']=='FIFA World Cup qualification'),\n",
    "    (dffrance['tournament']=='FIFA World Cup')\n",
    "    ]"
   ]
  },
  {
   "cell_type": "code",
   "execution_count": 317,
   "id": "c0d3eeee",
   "metadata": {},
   "outputs": [],
   "source": [
    "#extracting unique values\n",
    "\n",
    "y=dataframe['tournament'].unique()"
   ]
  },
  {
   "cell_type": "code",
   "execution_count": 318,
   "id": "e05d9840",
   "metadata": {},
   "outputs": [],
   "source": [
    "values=['FIFA World Cup qualification','FIFA World Cup']"
   ]
  },
  {
   "cell_type": "code",
   "execution_count": 319,
   "id": "debdd62f",
   "metadata": {},
   "outputs": [
    {
     "name": "stderr",
     "output_type": "stream",
     "text": [
      "/var/folders/nn/br8l6_013s1_8h_kpkbg9m9w0000gn/T/ipykernel_2497/1704040084.py:1: SettingWithCopyWarning: \n",
      "A value is trying to be set on a copy of a slice from a DataFrame.\n",
      "Try using .loc[row_indexer,col_indexer] = value instead\n",
      "\n",
      "See the caveats in the documentation: https://pandas.pydata.org/pandas-docs/stable/user_guide/indexing.html#returning-a-view-versus-a-copy\n",
      "  dffrance['typematch'] = np.select(conditions, values)\n"
     ]
    }
   ],
   "source": [
    "dffrance['typematch'] = np.select(conditions, values)"
   ]
  },
  {
   "cell_type": "code",
   "execution_count": 320,
   "id": "72dff655",
   "metadata": {},
   "outputs": [
    {
     "data": {
      "text/plain": [
       "0                               673\n",
       "FIFA World Cup                   82\n",
       "FIFA World Cup qualification     63\n",
       "Name: typematch, dtype: int64"
      ]
     },
     "execution_count": 320,
     "metadata": {},
     "output_type": "execute_result"
    }
   ],
   "source": [
    "dffrance['typematch'].value_counts()"
   ]
  },
  {
   "cell_type": "code",
   "execution_count": 321,
   "id": "95b7be80",
   "metadata": {},
   "outputs": [],
   "source": [
    "dffrance=dffrance[dffrance['typematch']!=\"0\"]"
   ]
  },
  {
   "cell_type": "code",
   "execution_count": 322,
   "id": "26812324",
   "metadata": {},
   "outputs": [
    {
     "data": {
      "text/html": [
       "<div>\n",
       "<style scoped>\n",
       "    .dataframe tbody tr th:only-of-type {\n",
       "        vertical-align: middle;\n",
       "    }\n",
       "\n",
       "    .dataframe tbody tr th {\n",
       "        vertical-align: top;\n",
       "    }\n",
       "\n",
       "    .dataframe thead th {\n",
       "        text-align: right;\n",
       "    }\n",
       "</style>\n",
       "<table border=\"1\" class=\"dataframe\">\n",
       "  <thead>\n",
       "    <tr style=\"text-align: right;\">\n",
       "      <th>type_of_result</th>\n",
       "      <th>draw</th>\n",
       "      <th>lose</th>\n",
       "      <th>win</th>\n",
       "      <th>All</th>\n",
       "    </tr>\n",
       "    <tr>\n",
       "      <th>typematch</th>\n",
       "      <th></th>\n",
       "      <th></th>\n",
       "      <th></th>\n",
       "      <th></th>\n",
       "    </tr>\n",
       "  </thead>\n",
       "  <tbody>\n",
       "    <tr>\n",
       "      <th>FIFA World Cup</th>\n",
       "      <td>22</td>\n",
       "      <td>39</td>\n",
       "      <td>21</td>\n",
       "      <td>82</td>\n",
       "    </tr>\n",
       "    <tr>\n",
       "      <th>FIFA World Cup qualification</th>\n",
       "      <td>13</td>\n",
       "      <td>44</td>\n",
       "      <td>6</td>\n",
       "      <td>63</td>\n",
       "    </tr>\n",
       "    <tr>\n",
       "      <th>All</th>\n",
       "      <td>35</td>\n",
       "      <td>83</td>\n",
       "      <td>27</td>\n",
       "      <td>145</td>\n",
       "    </tr>\n",
       "  </tbody>\n",
       "</table>\n",
       "</div>"
      ],
      "text/plain": [
       "type_of_result                draw  lose  win  All\n",
       "typematch                                         \n",
       "FIFA World Cup                  22    39   21   82\n",
       "FIFA World Cup qualification    13    44    6   63\n",
       "All                             35    83   27  145"
      ]
     },
     "execution_count": 322,
     "metadata": {},
     "output_type": "execute_result"
    }
   ],
   "source": [
    "z=pd.crosstab(dffrance['typematch'],dffrance['type_of_result'],margins=True)\n",
    "z"
   ]
  },
  {
   "cell_type": "code",
   "execution_count": 323,
   "id": "c8c18e96",
   "metadata": {},
   "outputs": [
    {
     "data": {
      "text/plain": [
       "array([[ 22,  39,  21,  82],\n",
       "       [ 13,  44,   6,  63],\n",
       "       [ 35,  83,  27, 145]])"
      ]
     },
     "execution_count": 323,
     "metadata": {},
     "output_type": "execute_result"
    }
   ],
   "source": [
    "z=np.array(z)\n",
    "z"
   ]
  },
  {
   "cell_type": "markdown",
   "id": "4aee2bdf",
   "metadata": {},
   "source": [
    "Confidence Interval (Tournament)"
   ]
  },
  {
   "cell_type": "code",
   "execution_count": 324,
   "id": "46cf3733",
   "metadata": {},
   "outputs": [
    {
     "data": {
      "text/plain": [
       "(0.16162582903253128, 0.3505692929186882)"
      ]
     },
     "execution_count": 324,
     "metadata": {},
     "output_type": "execute_result"
    }
   ],
   "source": [
    "#FWCQ= FIFA World Cup qualification\n",
    "CI_frwin_FWCQ=proportion_confint(count=z[0,2],nobs=z[0,3],alpha=(1-.95))\n",
    "CI_frwin_FWCQ"
   ]
  },
  {
   "cell_type": "markdown",
   "id": "ad53d678",
   "metadata": {},
   "source": [
    "Description of Results:\n",
    "This concludes that we are 95% confident that the proportion of France winning the FIFA World Cup qualification lies between 16% and 35% of the total."
   ]
  },
  {
   "cell_type": "code",
   "execution_count": 325,
   "id": "071fc656",
   "metadata": {},
   "outputs": [
    {
     "data": {
      "text/plain": [
       "(0.022752731952352376, 0.16772345852383808)"
      ]
     },
     "execution_count": 325,
     "metadata": {},
     "output_type": "execute_result"
    }
   ],
   "source": [
    "#FWC= FIFA World Cup\n",
    "CI_frwin_FWC=proportion_confint(count=z[1,2],nobs=z[1,3],alpha=(1-.95))\n",
    "CI_frwin_FWC"
   ]
  },
  {
   "cell_type": "markdown",
   "id": "46f91e8e",
   "metadata": {},
   "source": [
    "Description of Results:\n",
    "This concludes that we are 95% confident that the proportion of France winning the FIFA World Cup lies between 2% and 16.7% of the total."
   ]
  },
  {
   "cell_type": "markdown",
   "id": "2569bf34",
   "metadata": {},
   "source": [
    "Plotting (Tournament)"
   ]
  },
  {
   "cell_type": "code",
   "execution_count": 326,
   "id": "031e2292",
   "metadata": {},
   "outputs": [
    {
     "data": {
      "text/html": [
       "<div>\n",
       "<style scoped>\n",
       "    .dataframe tbody tr th:only-of-type {\n",
       "        vertical-align: middle;\n",
       "    }\n",
       "\n",
       "    .dataframe tbody tr th {\n",
       "        vertical-align: top;\n",
       "    }\n",
       "\n",
       "    .dataframe thead th {\n",
       "        text-align: right;\n",
       "    }\n",
       "</style>\n",
       "<table border=\"1\" class=\"dataframe\">\n",
       "  <thead>\n",
       "    <tr style=\"text-align: right;\">\n",
       "      <th></th>\n",
       "      <th>Typematch</th>\n",
       "      <th>lb</th>\n",
       "      <th>ub</th>\n",
       "    </tr>\n",
       "  </thead>\n",
       "  <tbody>\n",
       "    <tr>\n",
       "      <th>0</th>\n",
       "      <td>FIFA World Cup qualification</td>\n",
       "      <td>0.161626</td>\n",
       "      <td>0.350569</td>\n",
       "    </tr>\n",
       "    <tr>\n",
       "      <th>1</th>\n",
       "      <td>FIFA World Cup</td>\n",
       "      <td>0.022753</td>\n",
       "      <td>0.350569</td>\n",
       "    </tr>\n",
       "  </tbody>\n",
       "</table>\n",
       "</div>"
      ],
      "text/plain": [
       "                      Typematch        lb        ub\n",
       "0  FIFA World Cup qualification  0.161626  0.350569\n",
       "1                FIFA World Cup  0.022753  0.350569"
      ]
     },
     "execution_count": 326,
     "metadata": {},
     "output_type": "execute_result"
    }
   ],
   "source": [
    "ci_frwin = {}\n",
    "ci_frwin['Typematch'] = ['FIFA World Cup qualification','FIFA World Cup']\n",
    "ci_frwin['lb'] = [CI_frwin_FWCQ[0],CI_frwin_FWC[0]]\n",
    "ci_frwin['ub'] = [CI_frwin_FWCQ[1],CI_frwin_FWCQ[1]]\n",
    "df_ci= pd.DataFrame(ci_frwin)\n",
    "df_ci"
   ]
  },
  {
   "cell_type": "code",
   "execution_count": 327,
   "id": "96da0933",
   "metadata": {},
   "outputs": [
    {
     "data": {
      "text/plain": [
       "([<matplotlib.axis.YTick at 0x7fc44edc0520>,\n",
       "  <matplotlib.axis.YTick at 0x7fc44edba6d0>],\n",
       " [Text(0, 0, 'FIFA World Cup qualification'), Text(0, 1, 'FIFA World Cup')])"
      ]
     },
     "execution_count": 327,
     "metadata": {},
     "output_type": "execute_result"
    },
    {
     "data": {
      "image/png": "[encoded data removed]",
      "text/plain": [
       "<Figure size 432x288 with 1 Axes>"
      ]
     },
     "metadata": {
      "needs_background": "light"
     },
     "output_type": "display_data"
    }
   ],
   "source": [
    "for lb,ub,y in zip(df_ci['lb'],df_ci['ub'],range(len(df_ci))):\n",
    "    plt.plot((lb,ub),(y,y),'ro-')\n",
    "plt.yticks(range(len(df_ci)),list(df_ci['Typematch']))"
   ]
  },
  {
   "cell_type": "markdown",
   "id": "d4db9b00",
   "metadata": {},
   "source": [
    "Home/ Away"
   ]
  },
  {
   "cell_type": "code",
   "execution_count": 328,
   "id": "4dfaf223",
   "metadata": {},
   "outputs": [],
   "source": [
    "dffrance['home']=(dffrance['home_team']=='France')"
   ]
  },
  {
   "cell_type": "code",
   "execution_count": 329,
   "id": "429ca86a",
   "metadata": {},
   "outputs": [
    {
     "data": {
      "text/plain": [
       "False    78\n",
       "True     67\n",
       "Name: home, dtype: int64"
      ]
     },
     "execution_count": 329,
     "metadata": {},
     "output_type": "execute_result"
    }
   ],
   "source": [
    "dffrance['home'].value_counts()"
   ]
  },
  {
   "cell_type": "code",
   "execution_count": 330,
   "id": "94661519",
   "metadata": {},
   "outputs": [
    {
     "data": {
      "text/html": [
       "<div>\n",
       "<style scoped>\n",
       "    .dataframe tbody tr th:only-of-type {\n",
       "        vertical-align: middle;\n",
       "    }\n",
       "\n",
       "    .dataframe tbody tr th {\n",
       "        vertical-align: top;\n",
       "    }\n",
       "\n",
       "    .dataframe thead th {\n",
       "        text-align: right;\n",
       "    }\n",
       "</style>\n",
       "<table border=\"1\" class=\"dataframe\">\n",
       "  <thead>\n",
       "    <tr style=\"text-align: right;\">\n",
       "      <th>type_of_result</th>\n",
       "      <th>draw</th>\n",
       "      <th>lose</th>\n",
       "      <th>win</th>\n",
       "      <th>All</th>\n",
       "    </tr>\n",
       "    <tr>\n",
       "      <th>home</th>\n",
       "      <th></th>\n",
       "      <th></th>\n",
       "      <th></th>\n",
       "      <th></th>\n",
       "    </tr>\n",
       "  </thead>\n",
       "  <tbody>\n",
       "    <tr>\n",
       "      <th>False</th>\n",
       "      <td>23</td>\n",
       "      <td>33</td>\n",
       "      <td>22</td>\n",
       "      <td>78</td>\n",
       "    </tr>\n",
       "    <tr>\n",
       "      <th>True</th>\n",
       "      <td>12</td>\n",
       "      <td>50</td>\n",
       "      <td>5</td>\n",
       "      <td>67</td>\n",
       "    </tr>\n",
       "    <tr>\n",
       "      <th>All</th>\n",
       "      <td>35</td>\n",
       "      <td>83</td>\n",
       "      <td>27</td>\n",
       "      <td>145</td>\n",
       "    </tr>\n",
       "  </tbody>\n",
       "</table>\n",
       "</div>"
      ],
      "text/plain": [
       "type_of_result  draw  lose  win  All\n",
       "home                                \n",
       "False             23    33   22   78\n",
       "True              12    50    5   67\n",
       "All               35    83   27  145"
      ]
     },
     "execution_count": 330,
     "metadata": {},
     "output_type": "execute_result"
    }
   ],
   "source": [
    "x=pd.crosstab(dffrance['home'],dffrance['type_of_result'],margins=True)\n",
    "x"
   ]
  },
  {
   "cell_type": "code",
   "execution_count": 331,
   "id": "41cbcebf",
   "metadata": {},
   "outputs": [
    {
     "data": {
      "text/plain": [
       "array([[ 23,  33,  22,  78],\n",
       "       [ 12,  50,   5,  67],\n",
       "       [ 35,  83,  27, 145]])"
      ]
     },
     "execution_count": 331,
     "metadata": {},
     "output_type": "execute_result"
    }
   ],
   "source": [
    "x=np.array(x)\n",
    "x"
   ]
  },
  {
   "cell_type": "markdown",
   "id": "4f664dea",
   "metadata": {},
   "source": [
    "Confidence Interval (Home/Away)"
   ]
  },
  {
   "cell_type": "code",
   "execution_count": 332,
   "id": "9f823ed9",
   "metadata": {},
   "outputs": [
    {
     "data": {
      "text/plain": [
       "(0.011702806050245207, 0.13755092529303836)"
      ]
     },
     "execution_count": 332,
     "metadata": {},
     "output_type": "execute_result"
    }
   ],
   "source": [
    "CI_frwin_home=proportion_confint(count=x[1,2],nobs=x[1,3],alpha=(1-.95))\n",
    "CI_frwin_home"
   ]
  },
  {
   "cell_type": "markdown",
   "id": "afdf9821",
   "metadata": {},
   "source": [
    "Description of Results:\n",
    "This concludes that we are 95% confident that the proportion of France winning at home lies between 1.17% and 13.76% of the total."
   ]
  },
  {
   "cell_type": "code",
   "execution_count": 333,
   "id": "e6026033",
   "metadata": {},
   "outputs": [
    {
     "data": {
      "text/plain": [
       "(0.18218668801004265, 0.3819158760925214)"
      ]
     },
     "execution_count": 333,
     "metadata": {},
     "output_type": "execute_result"
    }
   ],
   "source": [
    "CI_frwin_away=proportion_confint(count=x[0,2],nobs=x[0,3],alpha=(1-.95))\n",
    "CI_frwin_away"
   ]
  },
  {
   "cell_type": "markdown",
   "id": "1bad5a53",
   "metadata": {},
   "source": [
    "Description of Results:\n",
    "This concludes that we are 95% confident that the proportion of France winning away from home lies between 18% and 38% of the total."
   ]
  },
  {
   "cell_type": "markdown",
   "id": "70ae1b13",
   "metadata": {},
   "source": [
    "Plotting "
   ]
  },
  {
   "cell_type": "code",
   "execution_count": 334,
   "id": "6d170361",
   "metadata": {},
   "outputs": [
    {
     "data": {
      "text/html": [
       "<div>\n",
       "<style scoped>\n",
       "    .dataframe tbody tr th:only-of-type {\n",
       "        vertical-align: middle;\n",
       "    }\n",
       "\n",
       "    .dataframe tbody tr th {\n",
       "        vertical-align: top;\n",
       "    }\n",
       "\n",
       "    .dataframe thead th {\n",
       "        text-align: right;\n",
       "    }\n",
       "</style>\n",
       "<table border=\"1\" class=\"dataframe\">\n",
       "  <thead>\n",
       "    <tr style=\"text-align: right;\">\n",
       "      <th></th>\n",
       "      <th>home</th>\n",
       "      <th>lb</th>\n",
       "      <th>ub</th>\n",
       "    </tr>\n",
       "  </thead>\n",
       "  <tbody>\n",
       "    <tr>\n",
       "      <th>0</th>\n",
       "      <td>Yes</td>\n",
       "      <td>0.011703</td>\n",
       "      <td>0.137551</td>\n",
       "    </tr>\n",
       "    <tr>\n",
       "      <th>1</th>\n",
       "      <td>No</td>\n",
       "      <td>0.182187</td>\n",
       "      <td>0.381916</td>\n",
       "    </tr>\n",
       "  </tbody>\n",
       "</table>\n",
       "</div>"
      ],
      "text/plain": [
       "  home        lb        ub\n",
       "0  Yes  0.011703  0.137551\n",
       "1   No  0.182187  0.381916"
      ]
     },
     "execution_count": 334,
     "metadata": {},
     "output_type": "execute_result"
    }
   ],
   "source": [
    "ci_frwin = {}\n",
    "ci_frwin['home'] = ['Yes','No']\n",
    "ci_frwin['lb'] = [CI_frwin_home[0],CI_frwin_away[0]]\n",
    "ci_frwin['ub'] = [CI_frwin_home[1],CI_frwin_away[1]]\n",
    "df_ci= pd.DataFrame(ci_frwin)\n",
    "df_ci"
   ]
  },
  {
   "cell_type": "code",
   "execution_count": 335,
   "id": "2f8d918f",
   "metadata": {},
   "outputs": [
    {
     "data": {
      "text/plain": [
       "([<matplotlib.axis.YTick at 0x7fc44e164130>,\n",
       "  <matplotlib.axis.YTick at 0x7fc44e164640>],\n",
       " [Text(0, 0, 'Yes'), Text(0, 1, 'No')])"
      ]
     },
     "execution_count": 335,
     "metadata": {},
     "output_type": "execute_result"
    },
    {
     "data": {
      "image/png": "[encoded data removed]",
      "text/plain": [
       "<Figure size 432x288 with 1 Axes>"
      ]
     },
     "metadata": {
      "needs_background": "light"
     },
     "output_type": "display_data"
    }
   ],
   "source": [
    "for lb,ub,y in zip(df_ci['lb'],df_ci['ub'],range(len(df_ci))):\n",
    "    plt.plot((lb,ub),(y,y),'ro-')\n",
    "plt.yticks(range(len(df_ci)),list(df_ci['home']))"
   ]
  },
  {
   "cell_type": "markdown",
   "id": "140dd786",
   "metadata": {},
   "source": [
    "Egypt"
   ]
  },
  {
   "cell_type": "code",
   "execution_count": 336,
   "id": "084b31a8",
   "metadata": {},
   "outputs": [],
   "source": [
    "dfegy=dataframe[dataframe['country']=='Egypt']"
   ]
  },
  {
   "cell_type": "code",
   "execution_count": 337,
   "id": "d8e58898",
   "metadata": {},
   "outputs": [
    {
     "data": {
      "text/html": [
       "<div>\n",
       "<style scoped>\n",
       "    .dataframe tbody tr th:only-of-type {\n",
       "        vertical-align: middle;\n",
       "    }\n",
       "\n",
       "    .dataframe tbody tr th {\n",
       "        vertical-align: top;\n",
       "    }\n",
       "\n",
       "    .dataframe thead th {\n",
       "        text-align: right;\n",
       "    }\n",
       "</style>\n",
       "<table border=\"1\" class=\"dataframe\">\n",
       "  <thead>\n",
       "    <tr style=\"text-align: right;\">\n",
       "      <th></th>\n",
       "      <th>date</th>\n",
       "      <th>home_team</th>\n",
       "      <th>away_team</th>\n",
       "      <th>home_score</th>\n",
       "      <th>away_score</th>\n",
       "      <th>tournament</th>\n",
       "      <th>city</th>\n",
       "      <th>country</th>\n",
       "      <th>neutral</th>\n",
       "      <th>type_of_result</th>\n",
       "    </tr>\n",
       "  </thead>\n",
       "  <tbody>\n",
       "    <tr>\n",
       "      <th>1463</th>\n",
       "      <td>2/19/1932</td>\n",
       "      <td>Egypt</td>\n",
       "      <td>Hungary</td>\n",
       "      <td>0</td>\n",
       "      <td>0</td>\n",
       "      <td>Friendly</td>\n",
       "      <td>Cairo</td>\n",
       "      <td>Egypt</td>\n",
       "      <td>False</td>\n",
       "      <td>draw</td>\n",
       "    </tr>\n",
       "    <tr>\n",
       "      <th>1661</th>\n",
       "      <td>3/16/1934</td>\n",
       "      <td>Egypt</td>\n",
       "      <td>Israel</td>\n",
       "      <td>7</td>\n",
       "      <td>1</td>\n",
       "      <td>FIFA World Cup qualification</td>\n",
       "      <td>Cairo</td>\n",
       "      <td>Egypt</td>\n",
       "      <td>False</td>\n",
       "      <td>lose</td>\n",
       "    </tr>\n",
       "    <tr>\n",
       "      <th>1895</th>\n",
       "      <td>6/19/1936</td>\n",
       "      <td>Egypt</td>\n",
       "      <td>Greece</td>\n",
       "      <td>3</td>\n",
       "      <td>1</td>\n",
       "      <td>Friendly</td>\n",
       "      <td>Cairo</td>\n",
       "      <td>Egypt</td>\n",
       "      <td>False</td>\n",
       "      <td>lose</td>\n",
       "    </tr>\n",
       "    <tr>\n",
       "      <th>2927</th>\n",
       "      <td>12/24/1948</td>\n",
       "      <td>Egypt</td>\n",
       "      <td>Norway</td>\n",
       "      <td>1</td>\n",
       "      <td>1</td>\n",
       "      <td>Friendly</td>\n",
       "      <td>Cairo</td>\n",
       "      <td>Egypt</td>\n",
       "      <td>False</td>\n",
       "      <td>draw</td>\n",
       "    </tr>\n",
       "    <tr>\n",
       "      <th>3080</th>\n",
       "      <td>2/17/1950</td>\n",
       "      <td>Egypt</td>\n",
       "      <td>Greece</td>\n",
       "      <td>2</td>\n",
       "      <td>0</td>\n",
       "      <td>Friendly</td>\n",
       "      <td>Cairo</td>\n",
       "      <td>Egypt</td>\n",
       "      <td>False</td>\n",
       "      <td>lose</td>\n",
       "    </tr>\n",
       "  </tbody>\n",
       "</table>\n",
       "</div>"
      ],
      "text/plain": [
       "            date home_team away_team  home_score  away_score  \\\n",
       "1463   2/19/1932     Egypt   Hungary           0           0   \n",
       "1661   3/16/1934     Egypt    Israel           7           1   \n",
       "1895   6/19/1936     Egypt    Greece           3           1   \n",
       "2927  12/24/1948     Egypt    Norway           1           1   \n",
       "3080   2/17/1950     Egypt    Greece           2           0   \n",
       "\n",
       "                        tournament   city country  neutral type_of_result  \n",
       "1463                      Friendly  Cairo   Egypt    False           draw  \n",
       "1661  FIFA World Cup qualification  Cairo   Egypt    False           lose  \n",
       "1895                      Friendly  Cairo   Egypt    False           lose  \n",
       "2927                      Friendly  Cairo   Egypt    False           draw  \n",
       "3080                      Friendly  Cairo   Egypt    False           lose  "
      ]
     },
     "execution_count": 337,
     "metadata": {},
     "output_type": "execute_result"
    }
   ],
   "source": [
    "dfegy.head()"
   ]
  },
  {
   "cell_type": "markdown",
   "id": "59cecd4b",
   "metadata": {},
   "source": [
    "Tournament"
   ]
  },
  {
   "cell_type": "code",
   "execution_count": 338,
   "id": "4945b01c",
   "metadata": {},
   "outputs": [],
   "source": [
    "conditions = [\n",
    "    (dfegy['tournament']=='Friendly'),\n",
    "    (dfegy['tournament']!='Friendly')\n",
    "    ]"
   ]
  },
  {
   "cell_type": "code",
   "execution_count": 339,
   "id": "7fb8f91f",
   "metadata": {},
   "outputs": [],
   "source": [
    "values=['Friendly','Official']"
   ]
  },
  {
   "cell_type": "code",
   "execution_count": 340,
   "id": "2a21d6f1",
   "metadata": {},
   "outputs": [
    {
     "name": "stderr",
     "output_type": "stream",
     "text": [
      "/var/folders/nn/br8l6_013s1_8h_kpkbg9m9w0000gn/T/ipykernel_2497/2597929672.py:1: SettingWithCopyWarning: \n",
      "A value is trying to be set on a copy of a slice from a DataFrame.\n",
      "Try using .loc[row_indexer,col_indexer] = value instead\n",
      "\n",
      "See the caveats in the documentation: https://pandas.pydata.org/pandas-docs/stable/user_guide/indexing.html#returning-a-view-versus-a-copy\n",
      "  dfegy['typematch'] = np.select(conditions, values)\n"
     ]
    }
   ],
   "source": [
    "dfegy['typematch'] = np.select(conditions, values)"
   ]
  },
  {
   "cell_type": "code",
   "execution_count": 341,
   "id": "2d915ec4",
   "metadata": {},
   "outputs": [
    {
     "data": {
      "text/plain": [
       "Official    226\n",
       "Friendly    181\n",
       "Name: typematch, dtype: int64"
      ]
     },
     "execution_count": 341,
     "metadata": {},
     "output_type": "execute_result"
    }
   ],
   "source": [
    "dfegy['typematch'].value_counts()"
   ]
  },
  {
   "cell_type": "code",
   "execution_count": 342,
   "id": "d98b51b8",
   "metadata": {},
   "outputs": [
    {
     "data": {
      "text/html": [
       "<div>\n",
       "<style scoped>\n",
       "    .dataframe tbody tr th:only-of-type {\n",
       "        vertical-align: middle;\n",
       "    }\n",
       "\n",
       "    .dataframe tbody tr th {\n",
       "        vertical-align: top;\n",
       "    }\n",
       "\n",
       "    .dataframe thead th {\n",
       "        text-align: right;\n",
       "    }\n",
       "</style>\n",
       "<table border=\"1\" class=\"dataframe\">\n",
       "  <thead>\n",
       "    <tr style=\"text-align: right;\">\n",
       "      <th>type_of_result</th>\n",
       "      <th>draw</th>\n",
       "      <th>lose</th>\n",
       "      <th>win</th>\n",
       "      <th>All</th>\n",
       "    </tr>\n",
       "    <tr>\n",
       "      <th>typematch</th>\n",
       "      <th></th>\n",
       "      <th></th>\n",
       "      <th></th>\n",
       "      <th></th>\n",
       "    </tr>\n",
       "  </thead>\n",
       "  <tbody>\n",
       "    <tr>\n",
       "      <th>Friendly</th>\n",
       "      <td>37</td>\n",
       "      <td>99</td>\n",
       "      <td>45</td>\n",
       "      <td>181</td>\n",
       "    </tr>\n",
       "    <tr>\n",
       "      <th>Official</th>\n",
       "      <td>40</td>\n",
       "      <td>139</td>\n",
       "      <td>47</td>\n",
       "      <td>226</td>\n",
       "    </tr>\n",
       "    <tr>\n",
       "      <th>All</th>\n",
       "      <td>77</td>\n",
       "      <td>238</td>\n",
       "      <td>92</td>\n",
       "      <td>407</td>\n",
       "    </tr>\n",
       "  </tbody>\n",
       "</table>\n",
       "</div>"
      ],
      "text/plain": [
       "type_of_result  draw  lose  win  All\n",
       "typematch                           \n",
       "Friendly          37    99   45  181\n",
       "Official          40   139   47  226\n",
       "All               77   238   92  407"
      ]
     },
     "execution_count": 342,
     "metadata": {},
     "output_type": "execute_result"
    }
   ],
   "source": [
    "x=pd.crosstab(dfegy['typematch'],dfegy['type_of_result'],margins=True)\n",
    "x"
   ]
  },
  {
   "cell_type": "code",
   "execution_count": 343,
   "id": "afadb506",
   "metadata": {},
   "outputs": [
    {
     "data": {
      "text/plain": [
       "array([[ 37,  99,  45, 181],\n",
       "       [ 40, 139,  47, 226],\n",
       "       [ 77, 238,  92, 407]])"
      ]
     },
     "execution_count": 343,
     "metadata": {},
     "output_type": "execute_result"
    }
   ],
   "source": [
    "x=np.array(x)\n",
    "x"
   ]
  },
  {
   "cell_type": "markdown",
   "id": "712f53fe",
   "metadata": {},
   "source": [
    "Confidence Interval (Tournament)"
   ]
  },
  {
   "cell_type": "code",
   "execution_count": 344,
   "id": "df7f5c09",
   "metadata": {},
   "outputs": [
    {
     "data": {
      "text/plain": [
       "(0.1856528084886489, 0.3115847605721246)"
      ]
     },
     "execution_count": 344,
     "metadata": {},
     "output_type": "execute_result"
    }
   ],
   "source": [
    "CI_egywin_friendly=proportion_confint(count=x[0,2],nobs=x[0,3],alpha=(1-.95))\n",
    "CI_egywin_friendly"
   ]
  },
  {
   "cell_type": "markdown",
   "id": "9c2fd4ca",
   "metadata": {},
   "source": [
    "Description of Results:\n",
    "This concludes that we are 95% confident that the proportion of Egypt winning friendly matches lies between 18% and 31.16% of the total."
   ]
  },
  {
   "cell_type": "code",
   "execution_count": 345,
   "id": "88f27bfd",
   "metadata": {},
   "outputs": [
    {
     "data": {
      "text/plain": [
       "(0.1550517855722795, 0.2608774179675435)"
      ]
     },
     "execution_count": 345,
     "metadata": {},
     "output_type": "execute_result"
    }
   ],
   "source": [
    "CI_egywin_official=proportion_confint(count=x[1,2],nobs=x[1,3],alpha=(1-.95))\n",
    "CI_egywin_official"
   ]
  },
  {
   "cell_type": "markdown",
   "id": "16ca57ec",
   "metadata": {},
   "source": [
    "Description of Results:\n",
    "This concludes that we are 95% confident that the proportion of Egypt winning other official matches lies between 15.5% and 26% of the total."
   ]
  },
  {
   "cell_type": "markdown",
   "id": "d0c8f8c0",
   "metadata": {},
   "source": [
    "Plotting (Tournament)"
   ]
  },
  {
   "cell_type": "code",
   "execution_count": 346,
   "id": "a35f860f",
   "metadata": {},
   "outputs": [
    {
     "data": {
      "text/html": [
       "<div>\n",
       "<style scoped>\n",
       "    .dataframe tbody tr th:only-of-type {\n",
       "        vertical-align: middle;\n",
       "    }\n",
       "\n",
       "    .dataframe tbody tr th {\n",
       "        vertical-align: top;\n",
       "    }\n",
       "\n",
       "    .dataframe thead th {\n",
       "        text-align: right;\n",
       "    }\n",
       "</style>\n",
       "<table border=\"1\" class=\"dataframe\">\n",
       "  <thead>\n",
       "    <tr style=\"text-align: right;\">\n",
       "      <th></th>\n",
       "      <th>Typematch</th>\n",
       "      <th>lb</th>\n",
       "      <th>ub</th>\n",
       "    </tr>\n",
       "  </thead>\n",
       "  <tbody>\n",
       "    <tr>\n",
       "      <th>0</th>\n",
       "      <td>Friendly</td>\n",
       "      <td>0.185653</td>\n",
       "      <td>0.311585</td>\n",
       "    </tr>\n",
       "    <tr>\n",
       "      <th>1</th>\n",
       "      <td>Official</td>\n",
       "      <td>0.155052</td>\n",
       "      <td>0.260877</td>\n",
       "    </tr>\n",
       "  </tbody>\n",
       "</table>\n",
       "</div>"
      ],
      "text/plain": [
       "  Typematch        lb        ub\n",
       "0  Friendly  0.185653  0.311585\n",
       "1  Official  0.155052  0.260877"
      ]
     },
     "execution_count": 346,
     "metadata": {},
     "output_type": "execute_result"
    }
   ],
   "source": [
    "ci_egywin = {}\n",
    "ci_egywin['Typematch'] = ['Friendly','Official']\n",
    "ci_egywin['lb'] = [CI_egywin_friendly[0],CI_egywin_official[0]]\n",
    "ci_egywin['ub'] = [CI_egywin_friendly[1],CI_egywin_official[1]]\n",
    "df_ci= pd.DataFrame(ci_egywin)\n",
    "df_ci"
   ]
  },
  {
   "cell_type": "code",
   "execution_count": 347,
   "id": "bc86d855",
   "metadata": {},
   "outputs": [
    {
     "data": {
      "text/plain": [
       "([<matplotlib.axis.YTick at 0x7fc44d910ca0>,\n",
       "  <matplotlib.axis.YTick at 0x7fc44d910c40>],\n",
       " [Text(0, 0, 'Friendly'), Text(0, 1, 'Official')])"
      ]
     },
     "execution_count": 347,
     "metadata": {},
     "output_type": "execute_result"
    },
    {
     "data": {
      "image/png": "[encoded data removed]",
      "text/plain": [
       "<Figure size 432x288 with 1 Axes>"
      ]
     },
     "metadata": {
      "needs_background": "light"
     },
     "output_type": "display_data"
    }
   ],
   "source": [
    "for lb,ub,y in zip(df_ci['lb'],df_ci['ub'],range(len(df_ci))):\n",
    "    plt.plot((lb,ub),(y,y),'ro-')\n",
    "plt.yticks(range(len(df_ci)),list(df_ci['Typematch']))"
   ]
  },
  {
   "cell_type": "markdown",
   "id": "7a18e17a",
   "metadata": {},
   "source": [
    "Home/ Away"
   ]
  },
  {
   "cell_type": "code",
   "execution_count": 348,
   "id": "80eb3edb",
   "metadata": {},
   "outputs": [
    {
     "name": "stderr",
     "output_type": "stream",
     "text": [
      "/var/folders/nn/br8l6_013s1_8h_kpkbg9m9w0000gn/T/ipykernel_2497/2175071764.py:1: SettingWithCopyWarning: \n",
      "A value is trying to be set on a copy of a slice from a DataFrame.\n",
      "Try using .loc[row_indexer,col_indexer] = value instead\n",
      "\n",
      "See the caveats in the documentation: https://pandas.pydata.org/pandas-docs/stable/user_guide/indexing.html#returning-a-view-versus-a-copy\n",
      "  dfegy['home']=(dfegy['home_team']=='Egypt')\n"
     ]
    }
   ],
   "source": [
    "dfegy['home']=(dfegy['home_team']=='Egypt')"
   ]
  },
  {
   "cell_type": "code",
   "execution_count": 349,
   "id": "d582ce51",
   "metadata": {},
   "outputs": [
    {
     "data": {
      "text/plain": [
       "True     258\n",
       "False    149\n",
       "Name: home, dtype: int64"
      ]
     },
     "execution_count": 349,
     "metadata": {},
     "output_type": "execute_result"
    }
   ],
   "source": [
    "dfegy['home'].value_counts()"
   ]
  },
  {
   "cell_type": "code",
   "execution_count": 350,
   "id": "7c0dac14",
   "metadata": {},
   "outputs": [
    {
     "data": {
      "text/html": [
       "<div>\n",
       "<style scoped>\n",
       "    .dataframe tbody tr th:only-of-type {\n",
       "        vertical-align: middle;\n",
       "    }\n",
       "\n",
       "    .dataframe tbody tr th {\n",
       "        vertical-align: top;\n",
       "    }\n",
       "\n",
       "    .dataframe thead th {\n",
       "        text-align: right;\n",
       "    }\n",
       "</style>\n",
       "<table border=\"1\" class=\"dataframe\">\n",
       "  <thead>\n",
       "    <tr style=\"text-align: right;\">\n",
       "      <th>type_of_result</th>\n",
       "      <th>draw</th>\n",
       "      <th>lose</th>\n",
       "      <th>win</th>\n",
       "      <th>All</th>\n",
       "    </tr>\n",
       "    <tr>\n",
       "      <th>home</th>\n",
       "      <th></th>\n",
       "      <th></th>\n",
       "      <th></th>\n",
       "      <th></th>\n",
       "    </tr>\n",
       "  </thead>\n",
       "  <tbody>\n",
       "    <tr>\n",
       "      <th>False</th>\n",
       "      <td>33</td>\n",
       "      <td>67</td>\n",
       "      <td>49</td>\n",
       "      <td>149</td>\n",
       "    </tr>\n",
       "    <tr>\n",
       "      <th>True</th>\n",
       "      <td>44</td>\n",
       "      <td>171</td>\n",
       "      <td>43</td>\n",
       "      <td>258</td>\n",
       "    </tr>\n",
       "    <tr>\n",
       "      <th>All</th>\n",
       "      <td>77</td>\n",
       "      <td>238</td>\n",
       "      <td>92</td>\n",
       "      <td>407</td>\n",
       "    </tr>\n",
       "  </tbody>\n",
       "</table>\n",
       "</div>"
      ],
      "text/plain": [
       "type_of_result  draw  lose  win  All\n",
       "home                                \n",
       "False             33    67   49  149\n",
       "True              44   171   43  258\n",
       "All               77   238   92  407"
      ]
     },
     "execution_count": 350,
     "metadata": {},
     "output_type": "execute_result"
    }
   ],
   "source": [
    "x=pd.crosstab(dfegy['home'],dfegy['type_of_result'],margins=True)\n",
    "x"
   ]
  },
  {
   "cell_type": "code",
   "execution_count": 351,
   "id": "ea7f29b9",
   "metadata": {},
   "outputs": [
    {
     "data": {
      "text/html": [
       "<div>\n",
       "<style scoped>\n",
       "    .dataframe tbody tr th:only-of-type {\n",
       "        vertical-align: middle;\n",
       "    }\n",
       "\n",
       "    .dataframe tbody tr th {\n",
       "        vertical-align: top;\n",
       "    }\n",
       "\n",
       "    .dataframe thead th {\n",
       "        text-align: right;\n",
       "    }\n",
       "</style>\n",
       "<table border=\"1\" class=\"dataframe\">\n",
       "  <thead>\n",
       "    <tr style=\"text-align: right;\">\n",
       "      <th></th>\n",
       "      <th>date</th>\n",
       "      <th>home_team</th>\n",
       "      <th>away_team</th>\n",
       "      <th>home_score</th>\n",
       "      <th>away_score</th>\n",
       "      <th>tournament</th>\n",
       "      <th>city</th>\n",
       "      <th>country</th>\n",
       "      <th>neutral</th>\n",
       "      <th>type_of_result</th>\n",
       "      <th>typematch</th>\n",
       "      <th>home</th>\n",
       "    </tr>\n",
       "  </thead>\n",
       "  <tbody>\n",
       "    <tr>\n",
       "      <th>1463</th>\n",
       "      <td>2/19/1932</td>\n",
       "      <td>Egypt</td>\n",
       "      <td>Hungary</td>\n",
       "      <td>0</td>\n",
       "      <td>0</td>\n",
       "      <td>Friendly</td>\n",
       "      <td>Cairo</td>\n",
       "      <td>Egypt</td>\n",
       "      <td>False</td>\n",
       "      <td>draw</td>\n",
       "      <td>Friendly</td>\n",
       "      <td>True</td>\n",
       "    </tr>\n",
       "    <tr>\n",
       "      <th>1661</th>\n",
       "      <td>3/16/1934</td>\n",
       "      <td>Egypt</td>\n",
       "      <td>Israel</td>\n",
       "      <td>7</td>\n",
       "      <td>1</td>\n",
       "      <td>FIFA World Cup qualification</td>\n",
       "      <td>Cairo</td>\n",
       "      <td>Egypt</td>\n",
       "      <td>False</td>\n",
       "      <td>lose</td>\n",
       "      <td>Official</td>\n",
       "      <td>True</td>\n",
       "    </tr>\n",
       "    <tr>\n",
       "      <th>1895</th>\n",
       "      <td>6/19/1936</td>\n",
       "      <td>Egypt</td>\n",
       "      <td>Greece</td>\n",
       "      <td>3</td>\n",
       "      <td>1</td>\n",
       "      <td>Friendly</td>\n",
       "      <td>Cairo</td>\n",
       "      <td>Egypt</td>\n",
       "      <td>False</td>\n",
       "      <td>lose</td>\n",
       "      <td>Friendly</td>\n",
       "      <td>True</td>\n",
       "    </tr>\n",
       "    <tr>\n",
       "      <th>2927</th>\n",
       "      <td>12/24/1948</td>\n",
       "      <td>Egypt</td>\n",
       "      <td>Norway</td>\n",
       "      <td>1</td>\n",
       "      <td>1</td>\n",
       "      <td>Friendly</td>\n",
       "      <td>Cairo</td>\n",
       "      <td>Egypt</td>\n",
       "      <td>False</td>\n",
       "      <td>draw</td>\n",
       "      <td>Friendly</td>\n",
       "      <td>True</td>\n",
       "    </tr>\n",
       "    <tr>\n",
       "      <th>3080</th>\n",
       "      <td>2/17/1950</td>\n",
       "      <td>Egypt</td>\n",
       "      <td>Greece</td>\n",
       "      <td>2</td>\n",
       "      <td>0</td>\n",
       "      <td>Friendly</td>\n",
       "      <td>Cairo</td>\n",
       "      <td>Egypt</td>\n",
       "      <td>False</td>\n",
       "      <td>lose</td>\n",
       "      <td>Friendly</td>\n",
       "      <td>True</td>\n",
       "    </tr>\n",
       "  </tbody>\n",
       "</table>\n",
       "</div>"
      ],
      "text/plain": [
       "            date home_team away_team  home_score  away_score  \\\n",
       "1463   2/19/1932     Egypt   Hungary           0           0   \n",
       "1661   3/16/1934     Egypt    Israel           7           1   \n",
       "1895   6/19/1936     Egypt    Greece           3           1   \n",
       "2927  12/24/1948     Egypt    Norway           1           1   \n",
       "3080   2/17/1950     Egypt    Greece           2           0   \n",
       "\n",
       "                        tournament   city country  neutral type_of_result  \\\n",
       "1463                      Friendly  Cairo   Egypt    False           draw   \n",
       "1661  FIFA World Cup qualification  Cairo   Egypt    False           lose   \n",
       "1895                      Friendly  Cairo   Egypt    False           lose   \n",
       "2927                      Friendly  Cairo   Egypt    False           draw   \n",
       "3080                      Friendly  Cairo   Egypt    False           lose   \n",
       "\n",
       "     typematch  home  \n",
       "1463  Friendly  True  \n",
       "1661  Official  True  \n",
       "1895  Friendly  True  \n",
       "2927  Friendly  True  \n",
       "3080  Friendly  True  "
      ]
     },
     "execution_count": 351,
     "metadata": {},
     "output_type": "execute_result"
    }
   ],
   "source": [
    "dfegy.head()"
   ]
  },
  {
   "cell_type": "code",
   "execution_count": 352,
   "id": "ed040d58",
   "metadata": {},
   "outputs": [
    {
     "data": {
      "text/plain": [
       "array([[ 33,  67,  49, 149],\n",
       "       [ 44, 171,  43, 258],\n",
       "       [ 77, 238,  92, 407]])"
      ]
     },
     "execution_count": 352,
     "metadata": {},
     "output_type": "execute_result"
    }
   ],
   "source": [
    "x=np.array(x)\n",
    "x"
   ]
  },
  {
   "cell_type": "code",
   "execution_count": 353,
   "id": "152b53ab",
   "metadata": {},
   "outputs": [
    {
     "data": {
      "text/plain": [
       "(0.12119174183927744, 0.21214159149405587)"
      ]
     },
     "execution_count": 353,
     "metadata": {},
     "output_type": "execute_result"
    }
   ],
   "source": [
    "CI_egywin_home=proportion_confint(count=x[1,2],nobs=x[1,3],alpha=(1-.95))\n",
    "CI_egywin_home"
   ]
  },
  {
   "cell_type": "markdown",
   "id": "405ff316",
   "metadata": {},
   "source": [
    "Description of Results:\n",
    "This concludes that we are 95% confident that the proportion of Egypt winning home matches lies between 12.12% and 21.2% of the total."
   ]
  },
  {
   "cell_type": "code",
   "execution_count": 354,
   "id": "562dbfeb",
   "metadata": {},
   "outputs": [
    {
     "data": {
      "text/plain": [
       "(0.25342513144684364, 0.40429298935852553)"
      ]
     },
     "execution_count": 354,
     "metadata": {},
     "output_type": "execute_result"
    }
   ],
   "source": [
    "CI_egywin_away=proportion_confint(count=x[0,2],nobs=x[0,3],alpha=(1-.95))\n",
    "CI_egywin_away"
   ]
  },
  {
   "cell_type": "markdown",
   "id": "aedce4c9",
   "metadata": {},
   "source": [
    "Description of Results:\n",
    "This concludes that we are 95% confident that the proportion of Egypt winning matches away from the country lies between 25.34% and 40% of the total."
   ]
  },
  {
   "cell_type": "markdown",
   "id": "b2ba3ccd",
   "metadata": {},
   "source": [
    "Plotting (Home/Away)"
   ]
  },
  {
   "cell_type": "code",
   "execution_count": 355,
   "id": "e387ee51",
   "metadata": {},
   "outputs": [
    {
     "data": {
      "text/html": [
       "<div>\n",
       "<style scoped>\n",
       "    .dataframe tbody tr th:only-of-type {\n",
       "        vertical-align: middle;\n",
       "    }\n",
       "\n",
       "    .dataframe tbody tr th {\n",
       "        vertical-align: top;\n",
       "    }\n",
       "\n",
       "    .dataframe thead th {\n",
       "        text-align: right;\n",
       "    }\n",
       "</style>\n",
       "<table border=\"1\" class=\"dataframe\">\n",
       "  <thead>\n",
       "    <tr style=\"text-align: right;\">\n",
       "      <th></th>\n",
       "      <th>home</th>\n",
       "      <th>lb</th>\n",
       "      <th>ub</th>\n",
       "    </tr>\n",
       "  </thead>\n",
       "  <tbody>\n",
       "    <tr>\n",
       "      <th>0</th>\n",
       "      <td>Yes</td>\n",
       "      <td>0.121192</td>\n",
       "      <td>0.212142</td>\n",
       "    </tr>\n",
       "    <tr>\n",
       "      <th>1</th>\n",
       "      <td>No</td>\n",
       "      <td>0.253425</td>\n",
       "      <td>0.404293</td>\n",
       "    </tr>\n",
       "  </tbody>\n",
       "</table>\n",
       "</div>"
      ],
      "text/plain": [
       "  home        lb        ub\n",
       "0  Yes  0.121192  0.212142\n",
       "1   No  0.253425  0.404293"
      ]
     },
     "execution_count": 355,
     "metadata": {},
     "output_type": "execute_result"
    }
   ],
   "source": [
    "ci_egywin = {}\n",
    "ci_egywin['home'] = ['Yes','No']\n",
    "ci_egywin['lb'] = [CI_egywin_home[0],CI_egywin_away[0]]\n",
    "ci_egywin['ub'] = [CI_egywin_home[1],CI_egywin_away[1]]\n",
    "df_ci= pd.DataFrame(ci_egywin)\n",
    "df_ci"
   ]
  },
  {
   "cell_type": "code",
   "execution_count": 356,
   "id": "2b1e5515",
   "metadata": {},
   "outputs": [
    {
     "data": {
      "text/plain": [
       "([<matplotlib.axis.YTick at 0x7fc44e9e98e0>,\n",
       "  <matplotlib.axis.YTick at 0x7fc44e9e9ee0>],\n",
       " [Text(0, 0, 'Yes'), Text(0, 1, 'No')])"
      ]
     },
     "execution_count": 356,
     "metadata": {},
     "output_type": "execute_result"
    },
    {
     "data": {
      "image/png": "[encoded data removed]",
      "text/plain": [
       "<Figure size 432x288 with 1 Axes>"
      ]
     },
     "metadata": {
      "needs_background": "light"
     },
     "output_type": "display_data"
    }
   ],
   "source": [
    "for lb,ub,y in zip(df_ci['lb'],df_ci['ub'],range(len(df_ci))):\n",
    "    plt.plot((lb,ub),(y,y),'ro-')\n",
    "plt.yticks(range(len(df_ci)),list(df_ci['home']))"
   ]
  },
  {
   "cell_type": "markdown",
   "id": "7e7af1d4",
   "metadata": {},
   "source": [
    "United States"
   ]
  },
  {
   "cell_type": "code",
   "execution_count": 357,
   "id": "5c09a66e",
   "metadata": {},
   "outputs": [],
   "source": [
    "dfus=dataframe[dataframe['country']=='United States']"
   ]
  },
  {
   "cell_type": "code",
   "execution_count": 358,
   "id": "bb3190e3",
   "metadata": {},
   "outputs": [
    {
     "data": {
      "text/html": [
       "<div>\n",
       "<style scoped>\n",
       "    .dataframe tbody tr th:only-of-type {\n",
       "        vertical-align: middle;\n",
       "    }\n",
       "\n",
       "    .dataframe tbody tr th {\n",
       "        vertical-align: top;\n",
       "    }\n",
       "\n",
       "    .dataframe thead th {\n",
       "        text-align: right;\n",
       "    }\n",
       "</style>\n",
       "<table border=\"1\" class=\"dataframe\">\n",
       "  <thead>\n",
       "    <tr style=\"text-align: right;\">\n",
       "      <th></th>\n",
       "      <th>date</th>\n",
       "      <th>home_team</th>\n",
       "      <th>away_team</th>\n",
       "      <th>home_score</th>\n",
       "      <th>away_score</th>\n",
       "      <th>tournament</th>\n",
       "      <th>city</th>\n",
       "      <th>country</th>\n",
       "      <th>neutral</th>\n",
       "      <th>type_of_result</th>\n",
       "    </tr>\n",
       "  </thead>\n",
       "  <tbody>\n",
       "    <tr>\n",
       "      <th>41</th>\n",
       "      <td>1885-11-28</td>\n",
       "      <td>United States</td>\n",
       "      <td>Canada</td>\n",
       "      <td>0</td>\n",
       "      <td>1</td>\n",
       "      <td>Friendly</td>\n",
       "      <td>Newark</td>\n",
       "      <td>United States</td>\n",
       "      <td>False</td>\n",
       "      <td>win</td>\n",
       "    </tr>\n",
       "    <tr>\n",
       "      <th>48</th>\n",
       "      <td>1886-11-25</td>\n",
       "      <td>United States</td>\n",
       "      <td>Canada</td>\n",
       "      <td>3</td>\n",
       "      <td>2</td>\n",
       "      <td>Friendly</td>\n",
       "      <td>Newark</td>\n",
       "      <td>United States</td>\n",
       "      <td>False</td>\n",
       "      <td>lose</td>\n",
       "    </tr>\n",
       "    <tr>\n",
       "      <th>935</th>\n",
       "      <td>11/8/1925</td>\n",
       "      <td>United States</td>\n",
       "      <td>Canada</td>\n",
       "      <td>6</td>\n",
       "      <td>1</td>\n",
       "      <td>Friendly</td>\n",
       "      <td>New York</td>\n",
       "      <td>United States</td>\n",
       "      <td>False</td>\n",
       "      <td>lose</td>\n",
       "    </tr>\n",
       "    <tr>\n",
       "      <th>1022</th>\n",
       "      <td>11/6/1926</td>\n",
       "      <td>United States</td>\n",
       "      <td>Canada</td>\n",
       "      <td>6</td>\n",
       "      <td>2</td>\n",
       "      <td>Friendly</td>\n",
       "      <td>New York</td>\n",
       "      <td>United States</td>\n",
       "      <td>False</td>\n",
       "      <td>lose</td>\n",
       "    </tr>\n",
       "    <tr>\n",
       "      <th>1790</th>\n",
       "      <td>5/19/1935</td>\n",
       "      <td>United States</td>\n",
       "      <td>Scotland</td>\n",
       "      <td>1</td>\n",
       "      <td>5</td>\n",
       "      <td>Friendly</td>\n",
       "      <td>New York</td>\n",
       "      <td>United States</td>\n",
       "      <td>False</td>\n",
       "      <td>win</td>\n",
       "    </tr>\n",
       "  </tbody>\n",
       "</table>\n",
       "</div>"
      ],
      "text/plain": [
       "            date      home_team away_team  home_score  away_score tournament  \\\n",
       "41    1885-11-28  United States    Canada           0           1   Friendly   \n",
       "48    1886-11-25  United States    Canada           3           2   Friendly   \n",
       "935    11/8/1925  United States    Canada           6           1   Friendly   \n",
       "1022   11/6/1926  United States    Canada           6           2   Friendly   \n",
       "1790   5/19/1935  United States  Scotland           1           5   Friendly   \n",
       "\n",
       "          city        country  neutral type_of_result  \n",
       "41      Newark  United States    False            win  \n",
       "48      Newark  United States    False           lose  \n",
       "935   New York  United States    False           lose  \n",
       "1022  New York  United States    False           lose  \n",
       "1790  New York  United States    False            win  "
      ]
     },
     "execution_count": 358,
     "metadata": {},
     "output_type": "execute_result"
    }
   ],
   "source": [
    "dfus.head()"
   ]
  },
  {
   "cell_type": "markdown",
   "id": "5e096f2b",
   "metadata": {},
   "source": [
    "Tournament"
   ]
  },
  {
   "cell_type": "code",
   "execution_count": 359,
   "id": "bf5f5930",
   "metadata": {},
   "outputs": [],
   "source": [
    "conditions = [\n",
    "    (dfus['tournament']=='USA Cup'),\n",
    "    (dfus['tournament']=='Copa América')\n",
    "    ]"
   ]
  },
  {
   "cell_type": "code",
   "execution_count": 360,
   "id": "be5c3888",
   "metadata": {},
   "outputs": [],
   "source": [
    "values=['USA Cup','Copa América']"
   ]
  },
  {
   "cell_type": "code",
   "execution_count": 361,
   "id": "8197b458",
   "metadata": {},
   "outputs": [
    {
     "name": "stderr",
     "output_type": "stream",
     "text": [
      "/var/folders/nn/br8l6_013s1_8h_kpkbg9m9w0000gn/T/ipykernel_2497/4109917591.py:1: SettingWithCopyWarning: \n",
      "A value is trying to be set on a copy of a slice from a DataFrame.\n",
      "Try using .loc[row_indexer,col_indexer] = value instead\n",
      "\n",
      "See the caveats in the documentation: https://pandas.pydata.org/pandas-docs/stable/user_guide/indexing.html#returning-a-view-versus-a-copy\n",
      "  dfus['typematch'] = np.select(conditions, values)\n"
     ]
    }
   ],
   "source": [
    "dfus['typematch'] = np.select(conditions, values)"
   ]
  },
  {
   "cell_type": "code",
   "execution_count": 362,
   "id": "d309d2a7",
   "metadata": {},
   "outputs": [],
   "source": [
    "dfus=dfus[dfus['typematch']!=\"0\"]"
   ]
  },
  {
   "cell_type": "code",
   "execution_count": 363,
   "id": "be5238f1",
   "metadata": {},
   "outputs": [
    {
     "data": {
      "text/html": [
       "<div>\n",
       "<style scoped>\n",
       "    .dataframe tbody tr th:only-of-type {\n",
       "        vertical-align: middle;\n",
       "    }\n",
       "\n",
       "    .dataframe tbody tr th {\n",
       "        vertical-align: top;\n",
       "    }\n",
       "\n",
       "    .dataframe thead th {\n",
       "        text-align: right;\n",
       "    }\n",
       "</style>\n",
       "<table border=\"1\" class=\"dataframe\">\n",
       "  <thead>\n",
       "    <tr style=\"text-align: right;\">\n",
       "      <th>type_of_result</th>\n",
       "      <th>draw</th>\n",
       "      <th>lose</th>\n",
       "      <th>win</th>\n",
       "      <th>All</th>\n",
       "    </tr>\n",
       "    <tr>\n",
       "      <th>typematch</th>\n",
       "      <th></th>\n",
       "      <th></th>\n",
       "      <th></th>\n",
       "      <th></th>\n",
       "    </tr>\n",
       "  </thead>\n",
       "  <tbody>\n",
       "    <tr>\n",
       "      <th>Copa América</th>\n",
       "      <td>6</td>\n",
       "      <td>16</td>\n",
       "      <td>10</td>\n",
       "      <td>32</td>\n",
       "    </tr>\n",
       "    <tr>\n",
       "      <th>USA Cup</th>\n",
       "      <td>11</td>\n",
       "      <td>17</td>\n",
       "      <td>9</td>\n",
       "      <td>37</td>\n",
       "    </tr>\n",
       "    <tr>\n",
       "      <th>All</th>\n",
       "      <td>17</td>\n",
       "      <td>33</td>\n",
       "      <td>19</td>\n",
       "      <td>69</td>\n",
       "    </tr>\n",
       "  </tbody>\n",
       "</table>\n",
       "</div>"
      ],
      "text/plain": [
       "type_of_result  draw  lose  win  All\n",
       "typematch                           \n",
       "Copa América       6    16   10   32\n",
       "USA Cup           11    17    9   37\n",
       "All               17    33   19   69"
      ]
     },
     "execution_count": 363,
     "metadata": {},
     "output_type": "execute_result"
    }
   ],
   "source": [
    "x=pd.crosstab(dfus['typematch'],dfus['type_of_result'],margins=True)\n",
    "x"
   ]
  },
  {
   "cell_type": "code",
   "execution_count": 364,
   "id": "20749eae",
   "metadata": {},
   "outputs": [
    {
     "data": {
      "text/plain": [
       "array([[ 6, 16, 10, 32],\n",
       "       [11, 17,  9, 37],\n",
       "       [17, 33, 19, 69]])"
      ]
     },
     "execution_count": 364,
     "metadata": {},
     "output_type": "execute_result"
    }
   ],
   "source": [
    "x=np.array(x)\n",
    "x"
   ]
  },
  {
   "cell_type": "markdown",
   "id": "dc98dc4b",
   "metadata": {},
   "source": [
    "Confidence Interval of United States (Tournament)"
   ]
  },
  {
   "cell_type": "code",
   "execution_count": 365,
   "id": "079f01de",
   "metadata": {},
   "outputs": [
    {
     "data": {
      "text/plain": [
       "(0.15190409616559103, 0.47309590383440897)"
      ]
     },
     "execution_count": 365,
     "metadata": {},
     "output_type": "execute_result"
    }
   ],
   "source": [
    "#USC= USA Cup\n",
    "CI_uswin_USC=proportion_confint(count=x[0,2],nobs=x[0,3],alpha=(1-.95))\n",
    "CI_uswin_USC"
   ]
  },
  {
   "cell_type": "markdown",
   "id": "1cc8f5ac",
   "metadata": {},
   "source": [
    "Description of Results:\n",
    "This concludes that we are 95% confident that the proportion of the United States winning USA Cup matches lies between 15.19% and 47.3% of the total."
   ]
  },
  {
   "cell_type": "code",
   "execution_count": 366,
   "id": "9bc7ef31",
   "metadata": {},
   "outputs": [
    {
     "data": {
      "text/plain": [
       "(0.1049994075063076, 0.3814870789801789)"
      ]
     },
     "execution_count": 366,
     "metadata": {},
     "output_type": "execute_result"
    }
   ],
   "source": [
    "#CA= Copa América\n",
    "CI_uswin_CA=proportion_confint(count=x[1,2],nobs=x[1,3],alpha=(1-.95))\n",
    "CI_uswin_CA"
   ]
  },
  {
   "cell_type": "markdown",
   "id": "83267306",
   "metadata": {},
   "source": [
    "Description of Results:\n",
    "This concludes that we are 95% confident that the proportion of the United States winning Copa América matches lies between 10.5% and 38.15% of the total."
   ]
  },
  {
   "cell_type": "markdown",
   "id": "a263192a",
   "metadata": {},
   "source": [
    "Plotting (Tournament)"
   ]
  },
  {
   "cell_type": "code",
   "execution_count": 367,
   "id": "78702d42",
   "metadata": {},
   "outputs": [
    {
     "data": {
      "text/html": [
       "<div>\n",
       "<style scoped>\n",
       "    .dataframe tbody tr th:only-of-type {\n",
       "        vertical-align: middle;\n",
       "    }\n",
       "\n",
       "    .dataframe tbody tr th {\n",
       "        vertical-align: top;\n",
       "    }\n",
       "\n",
       "    .dataframe thead th {\n",
       "        text-align: right;\n",
       "    }\n",
       "</style>\n",
       "<table border=\"1\" class=\"dataframe\">\n",
       "  <thead>\n",
       "    <tr style=\"text-align: right;\">\n",
       "      <th></th>\n",
       "      <th>Typematch</th>\n",
       "      <th>lb</th>\n",
       "      <th>ub</th>\n",
       "    </tr>\n",
       "  </thead>\n",
       "  <tbody>\n",
       "    <tr>\n",
       "      <th>0</th>\n",
       "      <td>Friendly</td>\n",
       "      <td>0.151904</td>\n",
       "      <td>0.473096</td>\n",
       "    </tr>\n",
       "    <tr>\n",
       "      <th>1</th>\n",
       "      <td>Official</td>\n",
       "      <td>0.104999</td>\n",
       "      <td>0.381487</td>\n",
       "    </tr>\n",
       "  </tbody>\n",
       "</table>\n",
       "</div>"
      ],
      "text/plain": [
       "  Typematch        lb        ub\n",
       "0  Friendly  0.151904  0.473096\n",
       "1  Official  0.104999  0.381487"
      ]
     },
     "execution_count": 367,
     "metadata": {},
     "output_type": "execute_result"
    }
   ],
   "source": [
    "ci_uswin = {}\n",
    "ci_uswin['Typematch'] = ['Friendly','Official']\n",
    "ci_uswin['lb'] = [CI_uswin_USC[0],CI_uswin_CA[0]]\n",
    "ci_uswin['ub'] = [CI_uswin_USC[1],CI_uswin_CA[1]]\n",
    "df_ci= pd.DataFrame(ci_uswin)\n",
    "df_ci"
   ]
  },
  {
   "cell_type": "code",
   "execution_count": 368,
   "id": "9d4618a6",
   "metadata": {},
   "outputs": [
    {
     "data": {
      "text/plain": [
       "([<matplotlib.axis.YTick at 0x7fc44d2791c0>,\n",
       "  <matplotlib.axis.YTick at 0x7fc44de75bb0>],\n",
       " [Text(0, 0, 'Friendly'), Text(0, 1, 'Official')])"
      ]
     },
     "execution_count": 368,
     "metadata": {},
     "output_type": "execute_result"
    },
    {
     "data": {
      "image/png": "[encoded data removed]",
      "text/plain": [
       "<Figure size 432x288 with 1 Axes>"
      ]
     },
     "metadata": {
      "needs_background": "light"
     },
     "output_type": "display_data"
    }
   ],
   "source": [
    "for lb,ub,y in zip(df_ci['lb'],df_ci['ub'],range(len(df_ci))):\n",
    "    plt.plot((lb,ub),(y,y),'ro-')\n",
    "plt.yticks(range(len(df_ci)),list(df_ci['Typematch']))"
   ]
  },
  {
   "cell_type": "markdown",
   "id": "eaae0640",
   "metadata": {},
   "source": [
    "Home/Away"
   ]
  },
  {
   "cell_type": "code",
   "execution_count": 369,
   "id": "07e253e0",
   "metadata": {},
   "outputs": [],
   "source": [
    "dfus['home']=(dfus['home_team']=='United States')"
   ]
  },
  {
   "cell_type": "code",
   "execution_count": 370,
   "id": "0f57e45f",
   "metadata": {},
   "outputs": [
    {
     "data": {
      "text/plain": [
       "False    44\n",
       "True     25\n",
       "Name: home, dtype: int64"
      ]
     },
     "execution_count": 370,
     "metadata": {},
     "output_type": "execute_result"
    }
   ],
   "source": [
    "dfus['home'].value_counts()"
   ]
  },
  {
   "cell_type": "code",
   "execution_count": 371,
   "id": "c3db7398",
   "metadata": {},
   "outputs": [
    {
     "data": {
      "text/html": [
       "<div>\n",
       "<style scoped>\n",
       "    .dataframe tbody tr th:only-of-type {\n",
       "        vertical-align: middle;\n",
       "    }\n",
       "\n",
       "    .dataframe tbody tr th {\n",
       "        vertical-align: top;\n",
       "    }\n",
       "\n",
       "    .dataframe thead th {\n",
       "        text-align: right;\n",
       "    }\n",
       "</style>\n",
       "<table border=\"1\" class=\"dataframe\">\n",
       "  <thead>\n",
       "    <tr style=\"text-align: right;\">\n",
       "      <th>type_of_result</th>\n",
       "      <th>draw</th>\n",
       "      <th>lose</th>\n",
       "      <th>win</th>\n",
       "      <th>All</th>\n",
       "    </tr>\n",
       "    <tr>\n",
       "      <th>home</th>\n",
       "      <th></th>\n",
       "      <th></th>\n",
       "      <th></th>\n",
       "      <th></th>\n",
       "    </tr>\n",
       "  </thead>\n",
       "  <tbody>\n",
       "    <tr>\n",
       "      <th>False</th>\n",
       "      <td>13</td>\n",
       "      <td>21</td>\n",
       "      <td>10</td>\n",
       "      <td>44</td>\n",
       "    </tr>\n",
       "    <tr>\n",
       "      <th>True</th>\n",
       "      <td>4</td>\n",
       "      <td>12</td>\n",
       "      <td>9</td>\n",
       "      <td>25</td>\n",
       "    </tr>\n",
       "    <tr>\n",
       "      <th>All</th>\n",
       "      <td>17</td>\n",
       "      <td>33</td>\n",
       "      <td>19</td>\n",
       "      <td>69</td>\n",
       "    </tr>\n",
       "  </tbody>\n",
       "</table>\n",
       "</div>"
      ],
      "text/plain": [
       "type_of_result  draw  lose  win  All\n",
       "home                                \n",
       "False             13    21   10   44\n",
       "True               4    12    9   25\n",
       "All               17    33   19   69"
      ]
     },
     "execution_count": 371,
     "metadata": {},
     "output_type": "execute_result"
    }
   ],
   "source": [
    "x=pd.crosstab(dfus['home'],dfus['type_of_result'],margins=True)\n",
    "x"
   ]
  },
  {
   "cell_type": "code",
   "execution_count": 372,
   "id": "4661fc69",
   "metadata": {},
   "outputs": [
    {
     "data": {
      "text/html": [
       "<div>\n",
       "<style scoped>\n",
       "    .dataframe tbody tr th:only-of-type {\n",
       "        vertical-align: middle;\n",
       "    }\n",
       "\n",
       "    .dataframe tbody tr th {\n",
       "        vertical-align: top;\n",
       "    }\n",
       "\n",
       "    .dataframe thead th {\n",
       "        text-align: right;\n",
       "    }\n",
       "</style>\n",
       "<table border=\"1\" class=\"dataframe\">\n",
       "  <thead>\n",
       "    <tr style=\"text-align: right;\">\n",
       "      <th></th>\n",
       "      <th>date</th>\n",
       "      <th>home_team</th>\n",
       "      <th>away_team</th>\n",
       "      <th>home_score</th>\n",
       "      <th>away_score</th>\n",
       "      <th>tournament</th>\n",
       "      <th>city</th>\n",
       "      <th>country</th>\n",
       "      <th>neutral</th>\n",
       "      <th>type_of_result</th>\n",
       "      <th>typematch</th>\n",
       "      <th>home</th>\n",
       "    </tr>\n",
       "  </thead>\n",
       "  <tbody>\n",
       "    <tr>\n",
       "      <th>17069</th>\n",
       "      <td>5/30/1992</td>\n",
       "      <td>United States</td>\n",
       "      <td>Republic of Ireland</td>\n",
       "      <td>3</td>\n",
       "      <td>1</td>\n",
       "      <td>USA Cup</td>\n",
       "      <td>Washington</td>\n",
       "      <td>United States</td>\n",
       "      <td>False</td>\n",
       "      <td>lose</td>\n",
       "      <td>USA Cup</td>\n",
       "      <td>True</td>\n",
       "    </tr>\n",
       "    <tr>\n",
       "      <th>17070</th>\n",
       "      <td>5/31/1992</td>\n",
       "      <td>Italy</td>\n",
       "      <td>Portugal</td>\n",
       "      <td>0</td>\n",
       "      <td>0</td>\n",
       "      <td>USA Cup</td>\n",
       "      <td>New Haven</td>\n",
       "      <td>United States</td>\n",
       "      <td>True</td>\n",
       "      <td>draw</td>\n",
       "      <td>USA Cup</td>\n",
       "      <td>False</td>\n",
       "    </tr>\n",
       "    <tr>\n",
       "      <th>17085</th>\n",
       "      <td>6/3/1992</td>\n",
       "      <td>United States</td>\n",
       "      <td>Portugal</td>\n",
       "      <td>1</td>\n",
       "      <td>0</td>\n",
       "      <td>USA Cup</td>\n",
       "      <td>Chicago</td>\n",
       "      <td>United States</td>\n",
       "      <td>False</td>\n",
       "      <td>lose</td>\n",
       "      <td>USA Cup</td>\n",
       "      <td>True</td>\n",
       "    </tr>\n",
       "    <tr>\n",
       "      <th>17086</th>\n",
       "      <td>6/4/1992</td>\n",
       "      <td>Republic of Ireland</td>\n",
       "      <td>Italy</td>\n",
       "      <td>0</td>\n",
       "      <td>2</td>\n",
       "      <td>USA Cup</td>\n",
       "      <td>Foxborough</td>\n",
       "      <td>United States</td>\n",
       "      <td>True</td>\n",
       "      <td>win</td>\n",
       "      <td>USA Cup</td>\n",
       "      <td>False</td>\n",
       "    </tr>\n",
       "    <tr>\n",
       "      <th>17090</th>\n",
       "      <td>6/6/1992</td>\n",
       "      <td>United States</td>\n",
       "      <td>Italy</td>\n",
       "      <td>1</td>\n",
       "      <td>1</td>\n",
       "      <td>USA Cup</td>\n",
       "      <td>Chicago</td>\n",
       "      <td>United States</td>\n",
       "      <td>False</td>\n",
       "      <td>draw</td>\n",
       "      <td>USA Cup</td>\n",
       "      <td>True</td>\n",
       "    </tr>\n",
       "  </tbody>\n",
       "</table>\n",
       "</div>"
      ],
      "text/plain": [
       "            date            home_team            away_team  home_score  \\\n",
       "17069  5/30/1992        United States  Republic of Ireland           3   \n",
       "17070  5/31/1992                Italy             Portugal           0   \n",
       "17085   6/3/1992        United States             Portugal           1   \n",
       "17086   6/4/1992  Republic of Ireland                Italy           0   \n",
       "17090   6/6/1992        United States                Italy           1   \n",
       "\n",
       "       away_score tournament        city        country  neutral  \\\n",
       "17069           1    USA Cup  Washington  United States    False   \n",
       "17070           0    USA Cup   New Haven  United States     True   \n",
       "17085           0    USA Cup     Chicago  United States    False   \n",
       "17086           2    USA Cup  Foxborough  United States     True   \n",
       "17090           1    USA Cup     Chicago  United States    False   \n",
       "\n",
       "      type_of_result typematch   home  \n",
       "17069           lose   USA Cup   True  \n",
       "17070           draw   USA Cup  False  \n",
       "17085           lose   USA Cup   True  \n",
       "17086            win   USA Cup  False  \n",
       "17090           draw   USA Cup   True  "
      ]
     },
     "execution_count": 372,
     "metadata": {},
     "output_type": "execute_result"
    }
   ],
   "source": [
    "dfus.head()"
   ]
  },
  {
   "cell_type": "code",
   "execution_count": 373,
   "id": "4cec99c1",
   "metadata": {},
   "outputs": [
    {
     "data": {
      "text/plain": [
       "array([[13, 21, 10, 44],\n",
       "       [ 4, 12,  9, 25],\n",
       "       [17, 33, 19, 69]])"
      ]
     },
     "execution_count": 373,
     "metadata": {},
     "output_type": "execute_result"
    }
   ],
   "source": [
    "x=np.array(x)\n",
    "x"
   ]
  },
  {
   "cell_type": "markdown",
   "id": "050232ff",
   "metadata": {},
   "source": [
    "Plotting (Home/Away)"
   ]
  },
  {
   "cell_type": "code",
   "execution_count": 374,
   "id": "c085f003",
   "metadata": {},
   "outputs": [
    {
     "data": {
      "text/plain": [
       "(0.1718434574841548, 0.5481565425158452)"
      ]
     },
     "execution_count": 374,
     "metadata": {},
     "output_type": "execute_result"
    }
   ],
   "source": [
    "CI_uswin_home=proportion_confint(count=x[1,2],nobs=x[1,3],alpha=(1-.95))\n",
    "CI_uswin_home"
   ]
  },
  {
   "cell_type": "markdown",
   "id": "233fe8a1",
   "metadata": {},
   "source": [
    "Description of Results:\n",
    "This concludes that we are 95% confident that the proportion of the United States winning home matches lies between 17.18% and 54.8% of the total."
   ]
  },
  {
   "cell_type": "code",
   "execution_count": 375,
   "id": "dc2dfb6d",
   "metadata": {},
   "outputs": [
    {
     "data": {
      "text/plain": [
       "(0.10344767077452685, 0.3510977837709277)"
      ]
     },
     "execution_count": 375,
     "metadata": {},
     "output_type": "execute_result"
    }
   ],
   "source": [
    "CI_uswin_away=proportion_confint(count=x[0,2],nobs=x[0,3],alpha=(1-.95))\n",
    "CI_uswin_away"
   ]
  },
  {
   "cell_type": "markdown",
   "id": "130b1b43",
   "metadata": {},
   "source": [
    "Description of Results:\n",
    "This concludes that we are 95% confident that the proportion of the United States away matches lies between 10.34% and 35.12% of the total."
   ]
  },
  {
   "cell_type": "code",
   "execution_count": 376,
   "id": "38caae0b",
   "metadata": {},
   "outputs": [
    {
     "data": {
      "text/html": [
       "<div>\n",
       "<style scoped>\n",
       "    .dataframe tbody tr th:only-of-type {\n",
       "        vertical-align: middle;\n",
       "    }\n",
       "\n",
       "    .dataframe tbody tr th {\n",
       "        vertical-align: top;\n",
       "    }\n",
       "\n",
       "    .dataframe thead th {\n",
       "        text-align: right;\n",
       "    }\n",
       "</style>\n",
       "<table border=\"1\" class=\"dataframe\">\n",
       "  <thead>\n",
       "    <tr style=\"text-align: right;\">\n",
       "      <th></th>\n",
       "      <th>home</th>\n",
       "      <th>lb</th>\n",
       "      <th>ub</th>\n",
       "    </tr>\n",
       "  </thead>\n",
       "  <tbody>\n",
       "    <tr>\n",
       "      <th>0</th>\n",
       "      <td>Yes</td>\n",
       "      <td>0.171843</td>\n",
       "      <td>0.548157</td>\n",
       "    </tr>\n",
       "    <tr>\n",
       "      <th>1</th>\n",
       "      <td>No</td>\n",
       "      <td>0.103448</td>\n",
       "      <td>0.351098</td>\n",
       "    </tr>\n",
       "  </tbody>\n",
       "</table>\n",
       "</div>"
      ],
      "text/plain": [
       "  home        lb        ub\n",
       "0  Yes  0.171843  0.548157\n",
       "1   No  0.103448  0.351098"
      ]
     },
     "execution_count": 376,
     "metadata": {},
     "output_type": "execute_result"
    }
   ],
   "source": [
    "ci_uswin = {}\n",
    "ci_uswin['home'] = ['Yes','No']\n",
    "ci_uswin['lb'] = [CI_uswin_home[0],CI_uswin_away[0]]\n",
    "ci_uswin['ub'] = [CI_uswin_home[1],CI_uswin_away[1]]\n",
    "df_ci= pd.DataFrame(ci_uswin)\n",
    "df_ci"
   ]
  },
  {
   "cell_type": "code",
   "execution_count": 377,
   "id": "6da24c15",
   "metadata": {},
   "outputs": [
    {
     "data": {
      "text/plain": [
       "([<matplotlib.axis.YTick at 0x7fc44dacb820>,\n",
       "  <matplotlib.axis.YTick at 0x7fc44dacb880>],\n",
       " [Text(0, 0, 'Yes'), Text(0, 1, 'No')])"
      ]
     },
     "execution_count": 377,
     "metadata": {},
     "output_type": "execute_result"
    },
    {
     "data": {
      "image/png": "[encoded data removed]",
      "text/plain": [
       "<Figure size 432x288 with 1 Axes>"
      ]
     },
     "metadata": {
      "needs_background": "light"
     },
     "output_type": "display_data"
    }
   ],
   "source": [
    "for lb,ub,y in zip(df_ci['lb'],df_ci['ub'],range(len(df_ci))):\n",
    "    plt.plot((lb,ub),(y,y),'ro-')\n",
    "plt.yticks(range(len(df_ci)),list(df_ci['home']))"
   ]
  },
  {
   "cell_type": "markdown",
   "id": "b4f8c7e1",
   "metadata": {},
   "source": [
    "Part II"
   ]
  },
  {
   "cell_type": "markdown",
   "id": "49e67f84",
   "metadata": {},
   "source": [
    "Using COVID-19 dataset that has been gathered during the pandemic to analyze the following:\n",
    "1. The daily reported number of confirmed cases and deaths. \n",
    "2. The ratio between the deaths and confirmed cases.\n",
    "3. Comparing between 2020 and 2021 in terms of several factors like regions, income, and continents.\n",
    "4. Description of the results."
   ]
  },
  {
   "cell_type": "markdown",
   "id": "fc5d3ca7",
   "metadata": {},
   "source": [
    "To find the daily reported number of cases and deaths:"
   ]
  },
  {
   "cell_type": "code",
   "execution_count": 378,
   "id": "3503279e",
   "metadata": {},
   "outputs": [],
   "source": [
    "DF=pd.read_csv('covid_data.csv',encoding='latin-1')"
   ]
  },
  {
   "cell_type": "code",
   "execution_count": 379,
   "id": "60cf0fca",
   "metadata": {
    "scrolled": true
   },
   "outputs": [
    {
     "data": {
      "text/html": [
       "<div>\n",
       "<style scoped>\n",
       "    .dataframe tbody tr th:only-of-type {\n",
       "        vertical-align: middle;\n",
       "    }\n",
       "\n",
       "    .dataframe tbody tr th {\n",
       "        vertical-align: top;\n",
       "    }\n",
       "\n",
       "    .dataframe thead th {\n",
       "        text-align: right;\n",
       "    }\n",
       "</style>\n",
       "<table border=\"1\" class=\"dataframe\">\n",
       "  <thead>\n",
       "    <tr style=\"text-align: right;\">\n",
       "      <th></th>\n",
       "      <th>date</th>\n",
       "      <th>iso3c</th>\n",
       "      <th>country</th>\n",
       "      <th>income</th>\n",
       "      <th>region</th>\n",
       "      <th>continent</th>\n",
       "      <th>dcases</th>\n",
       "      <th>ddeaths</th>\n",
       "      <th>population</th>\n",
       "      <th>weekdays</th>\n",
       "      <th>month</th>\n",
       "    </tr>\n",
       "  </thead>\n",
       "  <tbody>\n",
       "    <tr>\n",
       "      <th>0</th>\n",
       "      <td>2020-02-24</td>\n",
       "      <td>AFG</td>\n",
       "      <td>Afghanistan</td>\n",
       "      <td>Low income</td>\n",
       "      <td>South Asia</td>\n",
       "      <td>Asia</td>\n",
       "      <td>5</td>\n",
       "      <td>0</td>\n",
       "      <td>38041754</td>\n",
       "      <td>Mon</td>\n",
       "      <td>Feb</td>\n",
       "    </tr>\n",
       "    <tr>\n",
       "      <th>1</th>\n",
       "      <td>2020-02-25</td>\n",
       "      <td>AFG</td>\n",
       "      <td>Afghanistan</td>\n",
       "      <td>Low income</td>\n",
       "      <td>South Asia</td>\n",
       "      <td>Asia</td>\n",
       "      <td>0</td>\n",
       "      <td>0</td>\n",
       "      <td>38041754</td>\n",
       "      <td>Tue</td>\n",
       "      <td>Feb</td>\n",
       "    </tr>\n",
       "    <tr>\n",
       "      <th>2</th>\n",
       "      <td>2020-02-26</td>\n",
       "      <td>AFG</td>\n",
       "      <td>Afghanistan</td>\n",
       "      <td>Low income</td>\n",
       "      <td>South Asia</td>\n",
       "      <td>Asia</td>\n",
       "      <td>0</td>\n",
       "      <td>0</td>\n",
       "      <td>38041754</td>\n",
       "      <td>Wed</td>\n",
       "      <td>Feb</td>\n",
       "    </tr>\n",
       "    <tr>\n",
       "      <th>3</th>\n",
       "      <td>2020-02-27</td>\n",
       "      <td>AFG</td>\n",
       "      <td>Afghanistan</td>\n",
       "      <td>Low income</td>\n",
       "      <td>South Asia</td>\n",
       "      <td>Asia</td>\n",
       "      <td>0</td>\n",
       "      <td>0</td>\n",
       "      <td>38041754</td>\n",
       "      <td>Thu</td>\n",
       "      <td>Feb</td>\n",
       "    </tr>\n",
       "    <tr>\n",
       "      <th>4</th>\n",
       "      <td>2020-02-28</td>\n",
       "      <td>AFG</td>\n",
       "      <td>Afghanistan</td>\n",
       "      <td>Low income</td>\n",
       "      <td>South Asia</td>\n",
       "      <td>Asia</td>\n",
       "      <td>0</td>\n",
       "      <td>0</td>\n",
       "      <td>38041754</td>\n",
       "      <td>Fri</td>\n",
       "      <td>Feb</td>\n",
       "    </tr>\n",
       "  </tbody>\n",
       "</table>\n",
       "</div>"
      ],
      "text/plain": [
       "         date iso3c      country      income      region continent  dcases  \\\n",
       "0  2020-02-24   AFG  Afghanistan  Low income  South Asia      Asia       5   \n",
       "1  2020-02-25   AFG  Afghanistan  Low income  South Asia      Asia       0   \n",
       "2  2020-02-26   AFG  Afghanistan  Low income  South Asia      Asia       0   \n",
       "3  2020-02-27   AFG  Afghanistan  Low income  South Asia      Asia       0   \n",
       "4  2020-02-28   AFG  Afghanistan  Low income  South Asia      Asia       0   \n",
       "\n",
       "   ddeaths  population weekdays month  \n",
       "0        0    38041754      Mon   Feb  \n",
       "1        0    38041754      Tue   Feb  \n",
       "2        0    38041754      Wed   Feb  \n",
       "3        0    38041754      Thu   Feb  \n",
       "4        0    38041754      Fri   Feb  "
      ]
     },
     "execution_count": 379,
     "metadata": {},
     "output_type": "execute_result"
    }
   ],
   "source": [
    "DF.head()"
   ]
  },
  {
   "cell_type": "code",
   "execution_count": 380,
   "id": "2e6ce4a1",
   "metadata": {},
   "outputs": [],
   "source": [
    "x= DF['country'].unique()"
   ]
  },
  {
   "cell_type": "code",
   "execution_count": 381,
   "id": "a55506c2",
   "metadata": {},
   "outputs": [],
   "source": [
    "#changed the data to categorical and making them strings\n",
    "from pandas.api.types import CategoricalDtype\n",
    "cat=['Fri', 'Sat', 'Sun','Mon','Tue','Wed','Thu']\n",
    "cat_type = CategoricalDtype(categories=cat, ordered=True)\n",
    "DF['weekdays'] = DF['weekdays'].astype(cat_type)"
   ]
  },
  {
   "cell_type": "markdown",
   "id": "90ce172b",
   "metadata": {},
   "source": [
    "Daily Cases for all countries"
   ]
  },
  {
   "cell_type": "code",
   "execution_count": 382,
   "id": "2ea50f54",
   "metadata": {},
   "outputs": [
    {
     "data": {
      "text/html": [
       "<div>\n",
       "<style scoped>\n",
       "    .dataframe tbody tr th:only-of-type {\n",
       "        vertical-align: middle;\n",
       "    }\n",
       "\n",
       "    .dataframe tbody tr th {\n",
       "        vertical-align: top;\n",
       "    }\n",
       "\n",
       "    .dataframe thead tr th {\n",
       "        text-align: left;\n",
       "    }\n",
       "\n",
       "    .dataframe thead tr:last-of-type th {\n",
       "        text-align: right;\n",
       "    }\n",
       "</style>\n",
       "<table border=\"1\" class=\"dataframe\">\n",
       "  <thead>\n",
       "    <tr>\n",
       "      <th></th>\n",
       "      <th colspan=\"3\" halign=\"left\">dcases</th>\n",
       "    </tr>\n",
       "    <tr>\n",
       "      <th></th>\n",
       "      <th>mean</th>\n",
       "      <th>std</th>\n",
       "      <th>size</th>\n",
       "    </tr>\n",
       "    <tr>\n",
       "      <th>weekdays</th>\n",
       "      <th></th>\n",
       "      <th></th>\n",
       "      <th></th>\n",
       "    </tr>\n",
       "  </thead>\n",
       "  <tbody>\n",
       "    <tr>\n",
       "      <th>Fri</th>\n",
       "      <td>2643.215039</td>\n",
       "      <td>13626.207863</td>\n",
       "      <td>17634</td>\n",
       "    </tr>\n",
       "    <tr>\n",
       "      <th>Sat</th>\n",
       "      <td>2174.297447</td>\n",
       "      <td>10922.667935</td>\n",
       "      <td>17472</td>\n",
       "    </tr>\n",
       "    <tr>\n",
       "      <th>Sun</th>\n",
       "      <td>1852.340706</td>\n",
       "      <td>9559.968071</td>\n",
       "      <td>17496</td>\n",
       "    </tr>\n",
       "    <tr>\n",
       "      <th>Mon</th>\n",
       "      <td>2116.600879</td>\n",
       "      <td>11700.105447</td>\n",
       "      <td>17521</td>\n",
       "    </tr>\n",
       "    <tr>\n",
       "      <th>Tue</th>\n",
       "      <td>2388.510716</td>\n",
       "      <td>11756.420050</td>\n",
       "      <td>17544</td>\n",
       "    </tr>\n",
       "    <tr>\n",
       "      <th>Wed</th>\n",
       "      <td>2601.990272</td>\n",
       "      <td>12848.605924</td>\n",
       "      <td>17578</td>\n",
       "    </tr>\n",
       "    <tr>\n",
       "      <th>Thu</th>\n",
       "      <td>2693.674338</td>\n",
       "      <td>14618.890740</td>\n",
       "      <td>17598</td>\n",
       "    </tr>\n",
       "  </tbody>\n",
       "</table>\n",
       "</div>"
      ],
      "text/plain": [
       "               dcases                     \n",
       "                 mean           std   size\n",
       "weekdays                                  \n",
       "Fri       2643.215039  13626.207863  17634\n",
       "Sat       2174.297447  10922.667935  17472\n",
       "Sun       1852.340706   9559.968071  17496\n",
       "Mon       2116.600879  11700.105447  17521\n",
       "Tue       2388.510716  11756.420050  17544\n",
       "Wed       2601.990272  12848.605924  17578\n",
       "Thu       2693.674338  14618.890740  17598"
      ]
     },
     "execution_count": 382,
     "metadata": {},
     "output_type": "execute_result"
    }
   ],
   "source": [
    "#grouped the data by day to find the total number of confirmed cases per weekday\n",
    "stats=DF.groupby(\"weekdays\").agg({\"dcases\": [np.mean, np.std, np.size]})\n",
    "stats"
   ]
  },
  {
   "cell_type": "code",
   "execution_count": 383,
   "id": "c732de33",
   "metadata": {},
   "outputs": [],
   "source": [
    "#to get lower bound and higher bound to get the mean confidence interval\n",
    "ci95_hi = []\n",
    "ci95_lo = []"
   ]
  },
  {
   "cell_type": "code",
   "execution_count": 384,
   "id": "f1b0ffed",
   "metadata": {},
   "outputs": [
    {
     "data": {
      "text/plain": [
       "(2477.6647308357324, 2909.6839451501755)"
      ]
     },
     "execution_count": 384,
     "metadata": {},
     "output_type": "execute_result"
    }
   ],
   "source": [
    "#calculate the mean ci \n",
    "#i used the for loop to calculate the ci per day \n",
    "for i in stats.index:\n",
    "    m, s, n = stats.loc[i]\n",
    "    x=scipy.stats.t.interval(.95, n-1, m,s/np.sqrt(n-1))\n",
    "    ci95_hi.append(x[1])\n",
    "    ci95_lo.append(x[0])\n",
    "x"
   ]
  },
  {
   "cell_type": "markdown",
   "id": "aae675e4",
   "metadata": {},
   "source": [
    "Because we can't calculate the exact mean, we estimate using the mean confidence interval. What we can conflude from the above interval is that the mean of confirmen daily cases lies between 2477.7 and 2909.7. Also, it is indicated that the level of confidence is 95 %. "
   ]
  },
  {
   "cell_type": "code",
   "execution_count": 385,
   "id": "dff0e7ff",
   "metadata": {},
   "outputs": [
    {
     "data": {
      "text/plain": [
       "[2844.351039005679,\n",
       " 2336.2724620778636,\n",
       " 1994.010612665055,\n",
       " 2289.861880299358,\n",
       " 2562.4914740100803,\n",
       " 2791.950040008988,\n",
       " 2909.6839451501755]"
      ]
     },
     "execution_count": 385,
     "metadata": {},
     "output_type": "execute_result"
    }
   ],
   "source": [
    "ci95_hi"
   ]
  },
  {
   "cell_type": "code",
   "execution_count": 386,
   "id": "bea62ffa",
   "metadata": {},
   "outputs": [
    {
     "data": {
      "text/plain": [
       "[2442.079039252232,\n",
       " 2012.3224326107813,\n",
       " 1710.670800229321,\n",
       " 1943.3398775911735,\n",
       " 2214.529957818465,\n",
       " 2412.030503852657,\n",
       " 2477.6647308357324]"
      ]
     },
     "execution_count": 386,
     "metadata": {},
     "output_type": "execute_result"
    }
   ],
   "source": [
    "ci95_lo"
   ]
  },
  {
   "cell_type": "code",
   "execution_count": 387,
   "id": "2f16a6ae",
   "metadata": {},
   "outputs": [
    {
     "name": "stdout",
     "output_type": "stream",
     "text": [
      "               dcases                           ci95_hi      ci95_lo\n",
      "                 mean           std   size                          \n",
      "weekdays                                                            \n",
      "Fri       2643.215039  13626.207863  17634  2844.351039  2442.079039\n",
      "Sat       2174.297447  10922.667935  17472  2336.272462  2012.322433\n",
      "Sun       1852.340706   9559.968071  17496  1994.010613  1710.670800\n",
      "Mon       2116.600879  11700.105447  17521  2289.861880  1943.339878\n",
      "Tue       2388.510716  11756.420050  17544  2562.491474  2214.529958\n",
      "Wed       2601.990272  12848.605924  17578  2791.950040  2412.030504\n",
      "Thu       2693.674338  14618.890740  17598  2909.683945  2477.664731\n"
     ]
    }
   ],
   "source": [
    "stats['ci95_hi'] = ci95_hi\n",
    "stats['ci95_lo'] = ci95_lo\n",
    "print(stats)"
   ]
  },
  {
   "cell_type": "code",
   "execution_count": 388,
   "id": "2353974c",
   "metadata": {},
   "outputs": [
    {
     "data": {
      "text/html": [
       "<div>\n",
       "<style scoped>\n",
       "    .dataframe tbody tr th:only-of-type {\n",
       "        vertical-align: middle;\n",
       "    }\n",
       "\n",
       "    .dataframe tbody tr th {\n",
       "        vertical-align: top;\n",
       "    }\n",
       "\n",
       "    .dataframe thead tr th {\n",
       "        text-align: left;\n",
       "    }\n",
       "\n",
       "    .dataframe thead tr:last-of-type th {\n",
       "        text-align: right;\n",
       "    }\n",
       "</style>\n",
       "<table border=\"1\" class=\"dataframe\">\n",
       "  <thead>\n",
       "    <tr>\n",
       "      <th></th>\n",
       "      <th colspan=\"3\" halign=\"left\">dcases</th>\n",
       "      <th>ci95_hi</th>\n",
       "      <th>ci95_lo</th>\n",
       "    </tr>\n",
       "    <tr>\n",
       "      <th></th>\n",
       "      <th>mean</th>\n",
       "      <th>std</th>\n",
       "      <th>size</th>\n",
       "      <th></th>\n",
       "      <th></th>\n",
       "    </tr>\n",
       "    <tr>\n",
       "      <th>weekdays</th>\n",
       "      <th></th>\n",
       "      <th></th>\n",
       "      <th></th>\n",
       "      <th></th>\n",
       "      <th></th>\n",
       "    </tr>\n",
       "  </thead>\n",
       "  <tbody>\n",
       "    <tr>\n",
       "      <th>Fri</th>\n",
       "      <td>2643.215039</td>\n",
       "      <td>13626.207863</td>\n",
       "      <td>17634</td>\n",
       "      <td>2844.351039</td>\n",
       "      <td>2442.079039</td>\n",
       "    </tr>\n",
       "    <tr>\n",
       "      <th>Sat</th>\n",
       "      <td>2174.297447</td>\n",
       "      <td>10922.667935</td>\n",
       "      <td>17472</td>\n",
       "      <td>2336.272462</td>\n",
       "      <td>2012.322433</td>\n",
       "    </tr>\n",
       "    <tr>\n",
       "      <th>Sun</th>\n",
       "      <td>1852.340706</td>\n",
       "      <td>9559.968071</td>\n",
       "      <td>17496</td>\n",
       "      <td>1994.010613</td>\n",
       "      <td>1710.670800</td>\n",
       "    </tr>\n",
       "    <tr>\n",
       "      <th>Mon</th>\n",
       "      <td>2116.600879</td>\n",
       "      <td>11700.105447</td>\n",
       "      <td>17521</td>\n",
       "      <td>2289.861880</td>\n",
       "      <td>1943.339878</td>\n",
       "    </tr>\n",
       "    <tr>\n",
       "      <th>Tue</th>\n",
       "      <td>2388.510716</td>\n",
       "      <td>11756.420050</td>\n",
       "      <td>17544</td>\n",
       "      <td>2562.491474</td>\n",
       "      <td>2214.529958</td>\n",
       "    </tr>\n",
       "    <tr>\n",
       "      <th>Wed</th>\n",
       "      <td>2601.990272</td>\n",
       "      <td>12848.605924</td>\n",
       "      <td>17578</td>\n",
       "      <td>2791.950040</td>\n",
       "      <td>2412.030504</td>\n",
       "    </tr>\n",
       "    <tr>\n",
       "      <th>Thu</th>\n",
       "      <td>2693.674338</td>\n",
       "      <td>14618.890740</td>\n",
       "      <td>17598</td>\n",
       "      <td>2909.683945</td>\n",
       "      <td>2477.664731</td>\n",
       "    </tr>\n",
       "  </tbody>\n",
       "</table>\n",
       "</div>"
      ],
      "text/plain": [
       "               dcases                           ci95_hi      ci95_lo\n",
       "                 mean           std   size                          \n",
       "weekdays                                                            \n",
       "Fri       2643.215039  13626.207863  17634  2844.351039  2442.079039\n",
       "Sat       2174.297447  10922.667935  17472  2336.272462  2012.322433\n",
       "Sun       1852.340706   9559.968071  17496  1994.010613  1710.670800\n",
       "Mon       2116.600879  11700.105447  17521  2289.861880  1943.339878\n",
       "Tue       2388.510716  11756.420050  17544  2562.491474  2214.529958\n",
       "Wed       2601.990272  12848.605924  17578  2791.950040  2412.030504\n",
       "Thu       2693.674338  14618.890740  17598  2909.683945  2477.664731"
      ]
     },
     "execution_count": 388,
     "metadata": {},
     "output_type": "execute_result"
    }
   ],
   "source": [
    "df_ci= pd.DataFrame(stats)\n",
    "df_ci"
   ]
  },
  {
   "cell_type": "code",
   "execution_count": 389,
   "id": "aedfd971",
   "metadata": {},
   "outputs": [
    {
     "data": {
      "text/html": [
       "<div>\n",
       "<style scoped>\n",
       "    .dataframe tbody tr th:only-of-type {\n",
       "        vertical-align: middle;\n",
       "    }\n",
       "\n",
       "    .dataframe tbody tr th {\n",
       "        vertical-align: top;\n",
       "    }\n",
       "\n",
       "    .dataframe thead tr th {\n",
       "        text-align: left;\n",
       "    }\n",
       "\n",
       "    .dataframe thead tr:last-of-type th {\n",
       "        text-align: right;\n",
       "    }\n",
       "</style>\n",
       "<table border=\"1\" class=\"dataframe\">\n",
       "  <thead>\n",
       "    <tr>\n",
       "      <th></th>\n",
       "      <th colspan=\"3\" halign=\"left\">dcases</th>\n",
       "      <th>ci95_hi</th>\n",
       "      <th>ci95_lo</th>\n",
       "      <th>weekdays</th>\n",
       "    </tr>\n",
       "    <tr>\n",
       "      <th></th>\n",
       "      <th>mean</th>\n",
       "      <th>std</th>\n",
       "      <th>size</th>\n",
       "      <th></th>\n",
       "      <th></th>\n",
       "      <th></th>\n",
       "    </tr>\n",
       "    <tr>\n",
       "      <th>weekdays</th>\n",
       "      <th></th>\n",
       "      <th></th>\n",
       "      <th></th>\n",
       "      <th></th>\n",
       "      <th></th>\n",
       "      <th></th>\n",
       "    </tr>\n",
       "  </thead>\n",
       "  <tbody>\n",
       "    <tr>\n",
       "      <th>Fri</th>\n",
       "      <td>2643.215039</td>\n",
       "      <td>13626.207863</td>\n",
       "      <td>17634</td>\n",
       "      <td>2844.351039</td>\n",
       "      <td>2442.079039</td>\n",
       "      <td>Fri</td>\n",
       "    </tr>\n",
       "    <tr>\n",
       "      <th>Sat</th>\n",
       "      <td>2174.297447</td>\n",
       "      <td>10922.667935</td>\n",
       "      <td>17472</td>\n",
       "      <td>2336.272462</td>\n",
       "      <td>2012.322433</td>\n",
       "      <td>Sat</td>\n",
       "    </tr>\n",
       "    <tr>\n",
       "      <th>Sun</th>\n",
       "      <td>1852.340706</td>\n",
       "      <td>9559.968071</td>\n",
       "      <td>17496</td>\n",
       "      <td>1994.010613</td>\n",
       "      <td>1710.670800</td>\n",
       "      <td>Sun</td>\n",
       "    </tr>\n",
       "    <tr>\n",
       "      <th>Mon</th>\n",
       "      <td>2116.600879</td>\n",
       "      <td>11700.105447</td>\n",
       "      <td>17521</td>\n",
       "      <td>2289.861880</td>\n",
       "      <td>1943.339878</td>\n",
       "      <td>Mon</td>\n",
       "    </tr>\n",
       "    <tr>\n",
       "      <th>Tue</th>\n",
       "      <td>2388.510716</td>\n",
       "      <td>11756.420050</td>\n",
       "      <td>17544</td>\n",
       "      <td>2562.491474</td>\n",
       "      <td>2214.529958</td>\n",
       "      <td>Tue</td>\n",
       "    </tr>\n",
       "    <tr>\n",
       "      <th>Wed</th>\n",
       "      <td>2601.990272</td>\n",
       "      <td>12848.605924</td>\n",
       "      <td>17578</td>\n",
       "      <td>2791.950040</td>\n",
       "      <td>2412.030504</td>\n",
       "      <td>Wed</td>\n",
       "    </tr>\n",
       "    <tr>\n",
       "      <th>Thu</th>\n",
       "      <td>2693.674338</td>\n",
       "      <td>14618.890740</td>\n",
       "      <td>17598</td>\n",
       "      <td>2909.683945</td>\n",
       "      <td>2477.664731</td>\n",
       "      <td>Thu</td>\n",
       "    </tr>\n",
       "  </tbody>\n",
       "</table>\n",
       "</div>"
      ],
      "text/plain": [
       "               dcases                           ci95_hi      ci95_lo weekdays\n",
       "                 mean           std   size                                   \n",
       "weekdays                                                                     \n",
       "Fri       2643.215039  13626.207863  17634  2844.351039  2442.079039      Fri\n",
       "Sat       2174.297447  10922.667935  17472  2336.272462  2012.322433      Sat\n",
       "Sun       1852.340706   9559.968071  17496  1994.010613  1710.670800      Sun\n",
       "Mon       2116.600879  11700.105447  17521  2289.861880  1943.339878      Mon\n",
       "Tue       2388.510716  11756.420050  17544  2562.491474  2214.529958      Tue\n",
       "Wed       2601.990272  12848.605924  17578  2791.950040  2412.030504      Wed\n",
       "Thu       2693.674338  14618.890740  17598  2909.683945  2477.664731      Thu"
      ]
     },
     "execution_count": 389,
     "metadata": {},
     "output_type": "execute_result"
    }
   ],
   "source": [
    "df_ci['weekdays']=df_ci.index\n",
    "df_ci"
   ]
  },
  {
   "cell_type": "code",
   "execution_count": 390,
   "id": "955e41c4",
   "metadata": {},
   "outputs": [
    {
     "data": {
      "text/plain": [
       "([<matplotlib.axis.YTick at 0x7fc44ee1bbe0>,\n",
       "  <matplotlib.axis.YTick at 0x7fc44ee1b520>,\n",
       "  <matplotlib.axis.YTick at 0x7fc44ee26400>,\n",
       "  <matplotlib.axis.YTick at 0x7fc448a592e0>,\n",
       "  <matplotlib.axis.YTick at 0x7fc44db48e50>,\n",
       "  <matplotlib.axis.YTick at 0x7fc44d8e7760>,\n",
       "  <matplotlib.axis.YTick at 0x7fc44d8e7bb0>],\n",
       " [Text(0, 0, 'Fri'),\n",
       "  Text(0, 1, 'Sat'),\n",
       "  Text(0, 2, 'Sun'),\n",
       "  Text(0, 3, 'Mon'),\n",
       "  Text(0, 4, 'Tue'),\n",
       "  Text(0, 5, 'Wed'),\n",
       "  Text(0, 6, 'Thu')])"
      ]
     },
     "execution_count": 390,
     "metadata": {},
     "output_type": "execute_result"
    },
    {
     "data": {
      "image/png": "[encoded data removed]",
      "text/plain": [
       "<Figure size 432x288 with 1 Axes>"
      ]
     },
     "metadata": {
      "needs_background": "light"
     },
     "output_type": "display_data"
    }
   ],
   "source": [
    "#plotting the confidence interval for the above calculations\n",
    "for lb,ub,y in zip(df_ci['ci95_lo'],df_ci['ci95_hi'],range(len(df_ci))):\n",
    "    plt.plot((lb,ub),(y,y),'ro-')\n",
    "plt.yticks(range(len(df_ci)),list(df_ci['weekdays']))"
   ]
  },
  {
   "cell_type": "markdown",
   "id": "f0ae1e47",
   "metadata": {},
   "source": [
    "Daily Deaths for all countries"
   ]
  },
  {
   "cell_type": "code",
   "execution_count": 391,
   "id": "7e48ece9",
   "metadata": {},
   "outputs": [
    {
     "data": {
      "text/html": [
       "<div>\n",
       "<style scoped>\n",
       "    .dataframe tbody tr th:only-of-type {\n",
       "        vertical-align: middle;\n",
       "    }\n",
       "\n",
       "    .dataframe tbody tr th {\n",
       "        vertical-align: top;\n",
       "    }\n",
       "\n",
       "    .dataframe thead tr th {\n",
       "        text-align: left;\n",
       "    }\n",
       "\n",
       "    .dataframe thead tr:last-of-type th {\n",
       "        text-align: right;\n",
       "    }\n",
       "</style>\n",
       "<table border=\"1\" class=\"dataframe\">\n",
       "  <thead>\n",
       "    <tr>\n",
       "      <th></th>\n",
       "      <th colspan=\"3\" halign=\"left\">ddeaths</th>\n",
       "    </tr>\n",
       "    <tr>\n",
       "      <th></th>\n",
       "      <th>mean</th>\n",
       "      <th>std</th>\n",
       "      <th>size</th>\n",
       "    </tr>\n",
       "    <tr>\n",
       "      <th>weekdays</th>\n",
       "      <th></th>\n",
       "      <th></th>\n",
       "      <th></th>\n",
       "    </tr>\n",
       "  </thead>\n",
       "  <tbody>\n",
       "    <tr>\n",
       "      <th>Fri</th>\n",
       "      <td>47.990756</td>\n",
       "      <td>208.404740</td>\n",
       "      <td>17634</td>\n",
       "    </tr>\n",
       "    <tr>\n",
       "      <th>Sat</th>\n",
       "      <td>40.258413</td>\n",
       "      <td>177.949619</td>\n",
       "      <td>17472</td>\n",
       "    </tr>\n",
       "    <tr>\n",
       "      <th>Sun</th>\n",
       "      <td>31.856367</td>\n",
       "      <td>139.320870</td>\n",
       "      <td>17496</td>\n",
       "    </tr>\n",
       "    <tr>\n",
       "      <th>Mon</th>\n",
       "      <td>37.954968</td>\n",
       "      <td>155.752300</td>\n",
       "      <td>17521</td>\n",
       "    </tr>\n",
       "    <tr>\n",
       "      <th>Tue</th>\n",
       "      <td>50.840002</td>\n",
       "      <td>230.863861</td>\n",
       "      <td>17544</td>\n",
       "    </tr>\n",
       "    <tr>\n",
       "      <th>Wed</th>\n",
       "      <td>51.346968</td>\n",
       "      <td>226.105877</td>\n",
       "      <td>17578</td>\n",
       "    </tr>\n",
       "    <tr>\n",
       "      <th>Thu</th>\n",
       "      <td>49.695534</td>\n",
       "      <td>224.874945</td>\n",
       "      <td>17598</td>\n",
       "    </tr>\n",
       "  </tbody>\n",
       "</table>\n",
       "</div>"
      ],
      "text/plain": [
       "            ddeaths                   \n",
       "               mean         std   size\n",
       "weekdays                              \n",
       "Fri       47.990756  208.404740  17634\n",
       "Sat       40.258413  177.949619  17472\n",
       "Sun       31.856367  139.320870  17496\n",
       "Mon       37.954968  155.752300  17521\n",
       "Tue       50.840002  230.863861  17544\n",
       "Wed       51.346968  226.105877  17578\n",
       "Thu       49.695534  224.874945  17598"
      ]
     },
     "execution_count": 391,
     "metadata": {},
     "output_type": "execute_result"
    }
   ],
   "source": [
    "#now, i will do the same but for the number of confirmed deaths\n",
    "stats=DF.groupby(\"weekdays\").agg({\"ddeaths\": [np.mean, np.std, np.size]})\n",
    "stats"
   ]
  },
  {
   "cell_type": "code",
   "execution_count": 392,
   "id": "71772865",
   "metadata": {},
   "outputs": [],
   "source": [
    "ci95_hi = []\n",
    "ci95_lo = []"
   ]
  },
  {
   "cell_type": "code",
   "execution_count": 393,
   "id": "7837e995",
   "metadata": {},
   "outputs": [],
   "source": [
    "for i in stats.index:\n",
    "    m, s, n = stats.loc[i]\n",
    "    x=scipy.stats.t.interval(.95, n-1, m,s/np.sqrt(n-1))\n",
    "    ci95_hi.append(x[1])\n",
    "    ci95_lo.append(x[0])"
   ]
  },
  {
   "cell_type": "code",
   "execution_count": 394,
   "id": "64e81273",
   "metadata": {},
   "outputs": [
    {
     "data": {
      "text/plain": [
       "(46.372767894404106, 53.01829927231938)"
      ]
     },
     "execution_count": 394,
     "metadata": {},
     "output_type": "execute_result"
    }
   ],
   "source": [
    "x"
   ]
  },
  {
   "cell_type": "markdown",
   "id": "05e87345",
   "metadata": {},
   "source": [
    "A confidence interval displays the probability that a parameter will fall between a pair of values around the mean. Confidence intervals measure the degree of uncertainty or certainty in a sampling method. Here, it indicates that the level of confidence is 95 %. Because the true population mean is unknown, this range describes possible values that the mean could be, which lies between 46.4 and 53. This is an estimate mean for the confirmed number of daily deaths."
   ]
  },
  {
   "cell_type": "code",
   "execution_count": 395,
   "id": "2714bd24",
   "metadata": {},
   "outputs": [
    {
     "data": {
      "text/plain": [
       "[51.06701191116553,\n",
       " 42.89727352457211,\n",
       " 33.9209739150721,\n",
       " 40.26142611814076,\n",
       " 54.25650741493992,\n",
       " 54.68982229398611,\n",
       " 53.01829927231938]"
      ]
     },
     "execution_count": 395,
     "metadata": {},
     "output_type": "execute_result"
    }
   ],
   "source": [
    "ci95_hi"
   ]
  },
  {
   "cell_type": "code",
   "execution_count": 396,
   "id": "c1ed1621",
   "metadata": {},
   "outputs": [
    {
     "data": {
      "text/plain": [
       "[44.914501075110984,\n",
       " 37.61955339850481,\n",
       " 29.79176042420544,\n",
       " 35.64851052931087,\n",
       " 47.4234971450236,\n",
       " 48.004113307333725,\n",
       " 46.372767894404106]"
      ]
     },
     "execution_count": 396,
     "metadata": {},
     "output_type": "execute_result"
    }
   ],
   "source": [
    "ci95_lo"
   ]
  },
  {
   "cell_type": "code",
   "execution_count": 397,
   "id": "7d27306c",
   "metadata": {},
   "outputs": [
    {
     "name": "stdout",
     "output_type": "stream",
     "text": [
      "            ddeaths                       ci95_hi    ci95_lo\n",
      "               mean         std   size                      \n",
      "weekdays                                                    \n",
      "Fri       47.990756  208.404740  17634  51.067012  44.914501\n",
      "Sat       40.258413  177.949619  17472  42.897274  37.619553\n",
      "Sun       31.856367  139.320870  17496  33.920974  29.791760\n",
      "Mon       37.954968  155.752300  17521  40.261426  35.648511\n",
      "Tue       50.840002  230.863861  17544  54.256507  47.423497\n",
      "Wed       51.346968  226.105877  17578  54.689822  48.004113\n",
      "Thu       49.695534  224.874945  17598  53.018299  46.372768\n"
     ]
    }
   ],
   "source": [
    "stats['ci95_hi'] = ci95_hi\n",
    "stats['ci95_lo'] = ci95_lo\n",
    "print(stats)"
   ]
  },
  {
   "cell_type": "code",
   "execution_count": 398,
   "id": "594ff992",
   "metadata": {},
   "outputs": [
    {
     "data": {
      "text/html": [
       "<div>\n",
       "<style scoped>\n",
       "    .dataframe tbody tr th:only-of-type {\n",
       "        vertical-align: middle;\n",
       "    }\n",
       "\n",
       "    .dataframe tbody tr th {\n",
       "        vertical-align: top;\n",
       "    }\n",
       "\n",
       "    .dataframe thead tr th {\n",
       "        text-align: left;\n",
       "    }\n",
       "\n",
       "    .dataframe thead tr:last-of-type th {\n",
       "        text-align: right;\n",
       "    }\n",
       "</style>\n",
       "<table border=\"1\" class=\"dataframe\">\n",
       "  <thead>\n",
       "    <tr>\n",
       "      <th></th>\n",
       "      <th colspan=\"3\" halign=\"left\">ddeaths</th>\n",
       "      <th>ci95_hi</th>\n",
       "      <th>ci95_lo</th>\n",
       "    </tr>\n",
       "    <tr>\n",
       "      <th></th>\n",
       "      <th>mean</th>\n",
       "      <th>std</th>\n",
       "      <th>size</th>\n",
       "      <th></th>\n",
       "      <th></th>\n",
       "    </tr>\n",
       "    <tr>\n",
       "      <th>weekdays</th>\n",
       "      <th></th>\n",
       "      <th></th>\n",
       "      <th></th>\n",
       "      <th></th>\n",
       "      <th></th>\n",
       "    </tr>\n",
       "  </thead>\n",
       "  <tbody>\n",
       "    <tr>\n",
       "      <th>Fri</th>\n",
       "      <td>47.990756</td>\n",
       "      <td>208.404740</td>\n",
       "      <td>17634</td>\n",
       "      <td>51.067012</td>\n",
       "      <td>44.914501</td>\n",
       "    </tr>\n",
       "    <tr>\n",
       "      <th>Sat</th>\n",
       "      <td>40.258413</td>\n",
       "      <td>177.949619</td>\n",
       "      <td>17472</td>\n",
       "      <td>42.897274</td>\n",
       "      <td>37.619553</td>\n",
       "    </tr>\n",
       "    <tr>\n",
       "      <th>Sun</th>\n",
       "      <td>31.856367</td>\n",
       "      <td>139.320870</td>\n",
       "      <td>17496</td>\n",
       "      <td>33.920974</td>\n",
       "      <td>29.791760</td>\n",
       "    </tr>\n",
       "    <tr>\n",
       "      <th>Mon</th>\n",
       "      <td>37.954968</td>\n",
       "      <td>155.752300</td>\n",
       "      <td>17521</td>\n",
       "      <td>40.261426</td>\n",
       "      <td>35.648511</td>\n",
       "    </tr>\n",
       "    <tr>\n",
       "      <th>Tue</th>\n",
       "      <td>50.840002</td>\n",
       "      <td>230.863861</td>\n",
       "      <td>17544</td>\n",
       "      <td>54.256507</td>\n",
       "      <td>47.423497</td>\n",
       "    </tr>\n",
       "    <tr>\n",
       "      <th>Wed</th>\n",
       "      <td>51.346968</td>\n",
       "      <td>226.105877</td>\n",
       "      <td>17578</td>\n",
       "      <td>54.689822</td>\n",
       "      <td>48.004113</td>\n",
       "    </tr>\n",
       "    <tr>\n",
       "      <th>Thu</th>\n",
       "      <td>49.695534</td>\n",
       "      <td>224.874945</td>\n",
       "      <td>17598</td>\n",
       "      <td>53.018299</td>\n",
       "      <td>46.372768</td>\n",
       "    </tr>\n",
       "  </tbody>\n",
       "</table>\n",
       "</div>"
      ],
      "text/plain": [
       "            ddeaths                       ci95_hi    ci95_lo\n",
       "               mean         std   size                      \n",
       "weekdays                                                    \n",
       "Fri       47.990756  208.404740  17634  51.067012  44.914501\n",
       "Sat       40.258413  177.949619  17472  42.897274  37.619553\n",
       "Sun       31.856367  139.320870  17496  33.920974  29.791760\n",
       "Mon       37.954968  155.752300  17521  40.261426  35.648511\n",
       "Tue       50.840002  230.863861  17544  54.256507  47.423497\n",
       "Wed       51.346968  226.105877  17578  54.689822  48.004113\n",
       "Thu       49.695534  224.874945  17598  53.018299  46.372768"
      ]
     },
     "execution_count": 398,
     "metadata": {},
     "output_type": "execute_result"
    }
   ],
   "source": [
    "df_ci= pd.DataFrame(stats)\n",
    "df_ci"
   ]
  },
  {
   "cell_type": "code",
   "execution_count": 399,
   "id": "28cafcf8",
   "metadata": {},
   "outputs": [
    {
     "data": {
      "text/html": [
       "<div>\n",
       "<style scoped>\n",
       "    .dataframe tbody tr th:only-of-type {\n",
       "        vertical-align: middle;\n",
       "    }\n",
       "\n",
       "    .dataframe tbody tr th {\n",
       "        vertical-align: top;\n",
       "    }\n",
       "\n",
       "    .dataframe thead tr th {\n",
       "        text-align: left;\n",
       "    }\n",
       "\n",
       "    .dataframe thead tr:last-of-type th {\n",
       "        text-align: right;\n",
       "    }\n",
       "</style>\n",
       "<table border=\"1\" class=\"dataframe\">\n",
       "  <thead>\n",
       "    <tr>\n",
       "      <th></th>\n",
       "      <th colspan=\"3\" halign=\"left\">ddeaths</th>\n",
       "      <th>ci95_hi</th>\n",
       "      <th>ci95_lo</th>\n",
       "      <th>weekdays</th>\n",
       "    </tr>\n",
       "    <tr>\n",
       "      <th></th>\n",
       "      <th>mean</th>\n",
       "      <th>std</th>\n",
       "      <th>size</th>\n",
       "      <th></th>\n",
       "      <th></th>\n",
       "      <th></th>\n",
       "    </tr>\n",
       "    <tr>\n",
       "      <th>weekdays</th>\n",
       "      <th></th>\n",
       "      <th></th>\n",
       "      <th></th>\n",
       "      <th></th>\n",
       "      <th></th>\n",
       "      <th></th>\n",
       "    </tr>\n",
       "  </thead>\n",
       "  <tbody>\n",
       "    <tr>\n",
       "      <th>Fri</th>\n",
       "      <td>47.990756</td>\n",
       "      <td>208.404740</td>\n",
       "      <td>17634</td>\n",
       "      <td>51.067012</td>\n",
       "      <td>44.914501</td>\n",
       "      <td>Fri</td>\n",
       "    </tr>\n",
       "    <tr>\n",
       "      <th>Sat</th>\n",
       "      <td>40.258413</td>\n",
       "      <td>177.949619</td>\n",
       "      <td>17472</td>\n",
       "      <td>42.897274</td>\n",
       "      <td>37.619553</td>\n",
       "      <td>Sat</td>\n",
       "    </tr>\n",
       "    <tr>\n",
       "      <th>Sun</th>\n",
       "      <td>31.856367</td>\n",
       "      <td>139.320870</td>\n",
       "      <td>17496</td>\n",
       "      <td>33.920974</td>\n",
       "      <td>29.791760</td>\n",
       "      <td>Sun</td>\n",
       "    </tr>\n",
       "    <tr>\n",
       "      <th>Mon</th>\n",
       "      <td>37.954968</td>\n",
       "      <td>155.752300</td>\n",
       "      <td>17521</td>\n",
       "      <td>40.261426</td>\n",
       "      <td>35.648511</td>\n",
       "      <td>Mon</td>\n",
       "    </tr>\n",
       "    <tr>\n",
       "      <th>Tue</th>\n",
       "      <td>50.840002</td>\n",
       "      <td>230.863861</td>\n",
       "      <td>17544</td>\n",
       "      <td>54.256507</td>\n",
       "      <td>47.423497</td>\n",
       "      <td>Tue</td>\n",
       "    </tr>\n",
       "    <tr>\n",
       "      <th>Wed</th>\n",
       "      <td>51.346968</td>\n",
       "      <td>226.105877</td>\n",
       "      <td>17578</td>\n",
       "      <td>54.689822</td>\n",
       "      <td>48.004113</td>\n",
       "      <td>Wed</td>\n",
       "    </tr>\n",
       "    <tr>\n",
       "      <th>Thu</th>\n",
       "      <td>49.695534</td>\n",
       "      <td>224.874945</td>\n",
       "      <td>17598</td>\n",
       "      <td>53.018299</td>\n",
       "      <td>46.372768</td>\n",
       "      <td>Thu</td>\n",
       "    </tr>\n",
       "  </tbody>\n",
       "</table>\n",
       "</div>"
      ],
      "text/plain": [
       "            ddeaths                       ci95_hi    ci95_lo weekdays\n",
       "               mean         std   size                               \n",
       "weekdays                                                             \n",
       "Fri       47.990756  208.404740  17634  51.067012  44.914501      Fri\n",
       "Sat       40.258413  177.949619  17472  42.897274  37.619553      Sat\n",
       "Sun       31.856367  139.320870  17496  33.920974  29.791760      Sun\n",
       "Mon       37.954968  155.752300  17521  40.261426  35.648511      Mon\n",
       "Tue       50.840002  230.863861  17544  54.256507  47.423497      Tue\n",
       "Wed       51.346968  226.105877  17578  54.689822  48.004113      Wed\n",
       "Thu       49.695534  224.874945  17598  53.018299  46.372768      Thu"
      ]
     },
     "execution_count": 399,
     "metadata": {},
     "output_type": "execute_result"
    }
   ],
   "source": [
    "df_ci['weekdays']=df_ci.index\n",
    "df_ci"
   ]
  },
  {
   "cell_type": "code",
   "execution_count": 400,
   "id": "327e3a24",
   "metadata": {},
   "outputs": [
    {
     "data": {
      "text/plain": [
       "([<matplotlib.axis.YTick at 0x7fc44e216550>,\n",
       "  <matplotlib.axis.YTick at 0x7fc44e216df0>,\n",
       "  <matplotlib.axis.YTick at 0x7fc44f2dea90>,\n",
       "  <matplotlib.axis.YTick at 0x7fc44db50c10>,\n",
       "  <matplotlib.axis.YTick at 0x7fc44e211550>,\n",
       "  <matplotlib.axis.YTick at 0x7fc44e211ca0>,\n",
       "  <matplotlib.axis.YTick at 0x7fc44e21e6d0>],\n",
       " [Text(0, 0, 'Fri'),\n",
       "  Text(0, 1, 'Sat'),\n",
       "  Text(0, 2, 'Sun'),\n",
       "  Text(0, 3, 'Mon'),\n",
       "  Text(0, 4, 'Tue'),\n",
       "  Text(0, 5, 'Wed'),\n",
       "  Text(0, 6, 'Thu')])"
      ]
     },
     "execution_count": 400,
     "metadata": {},
     "output_type": "execute_result"
    },
    {
     "data": {
      "image/png": "[encoded data removed]",
      "text/plain": [
       "<Figure size 432x288 with 1 Axes>"
      ]
     },
     "metadata": {
      "needs_background": "light"
     },
     "output_type": "display_data"
    }
   ],
   "source": [
    "for lb,ub,y in zip(df_ci['ci95_lo'],df_ci['ci95_hi'],range(len(df_ci))):\n",
    "    plt.plot((lb,ub),(y,y),'ro-')\n",
    "plt.yticks(range(len(df_ci)),list(df_ci['weekdays']))"
   ]
  },
  {
   "cell_type": "markdown",
   "id": "6bc568e4",
   "metadata": {},
   "source": [
    "To get the ratio between the deaths and confirmed cases:"
   ]
  },
  {
   "cell_type": "code",
   "execution_count": 401,
   "id": "a8013475",
   "metadata": {},
   "outputs": [
    {
     "data": {
      "text/plain": [
       "289138394"
      ]
     },
     "execution_count": 401,
     "metadata": {},
     "output_type": "execute_result"
    }
   ],
   "source": [
    "x= DF['dcases'].sum()\n",
    "x"
   ]
  },
  {
   "cell_type": "code",
   "execution_count": 402,
   "id": "5dd50495",
   "metadata": {},
   "outputs": [
    {
     "data": {
      "text/plain": [
       "5441088"
      ]
     },
     "execution_count": 402,
     "metadata": {},
     "output_type": "execute_result"
    }
   ],
   "source": [
    "y= DF['ddeaths'].sum()\n",
    "y"
   ]
  },
  {
   "cell_type": "code",
   "execution_count": 403,
   "id": "a93da017",
   "metadata": {},
   "outputs": [
    {
     "data": {
      "text/plain": [
       "0.01881828256955733"
      ]
     },
     "execution_count": 403,
     "metadata": {},
     "output_type": "execute_result"
    }
   ],
   "source": [
    "ratio= y/x\n",
    "ratio"
   ]
  },
  {
   "cell_type": "markdown",
   "id": "2cd81bd8",
   "metadata": {},
   "source": [
    "We can conclude from the above code that the ratio of deaths to confirmed cases is 18%, which is relatively high."
   ]
  },
  {
   "cell_type": "markdown",
   "id": "38be25f5",
   "metadata": {},
   "source": [
    "Now we will calculate the daily reported number for confirmed cases and deaths in 4 different countries: South Korea, Egypt, Japan, and United States."
   ]
  },
  {
   "cell_type": "code",
   "execution_count": 404,
   "id": "86fabc77",
   "metadata": {},
   "outputs": [
    {
     "data": {
      "text/plain": [
       "array(['Afghanistan', 'Angola', 'Albania', 'Andorra',\n",
       "       'United Arab Emirates', 'Argentina', 'Armenia',\n",
       "       'Antigua & Barbuda', 'Australia', 'Austria', 'Azerbaijan',\n",
       "       'Burundi', 'Belgium', 'Benin', 'Burkina Faso', 'Bangladesh',\n",
       "       'Bulgaria', 'Bahrain', 'Bahamas', 'Bosnia & Herzegovina',\n",
       "       'Belarus', 'Belize', 'Bolivia', 'Brazil', 'Barbados', 'Brunei',\n",
       "       'Bhutan', 'Botswana', 'Central African Republic', 'Canada',\n",
       "       'Switzerland', 'Chile', 'China', 'Côte d\\x92Ivoire', 'Cameroon',\n",
       "       'Congo - Kinshasa', 'Congo - Brazzaville', 'Colombia', 'Comoros',\n",
       "       'Cape Verde', 'Costa Rica', 'Cuba', 'Cyprus', 'Czechia', 'Germany',\n",
       "       'Djibouti', 'Dominica', 'Denmark', 'Dominican Republic', 'Algeria',\n",
       "       'Ecuador', 'Egypt', 'Spain', 'Estonia', 'Ethiopia', 'Finland',\n",
       "       'Fiji', 'France', 'Gabon', 'United Kingdom', 'Georgia', 'Ghana',\n",
       "       'Guinea', 'Gambia', 'Guinea-Bissau', 'Equatorial Guinea', 'Greece',\n",
       "       'Grenada', 'Guatemala', 'Guyana', 'Honduras', 'Croatia', 'Haiti',\n",
       "       'Hungary', 'Indonesia', 'India', 'Ireland', 'Iran', 'Iraq',\n",
       "       'Iceland', 'Israel', 'Italy', 'Jamaica', 'Jordan', 'Japan',\n",
       "       'Kazakhstan', 'Kenya', 'Kyrgyzstan', 'Cambodia', 'Kiribati',\n",
       "       'St. Kitts & Nevis', 'South Korea', 'Kuwait', 'Laos', 'Lebanon',\n",
       "       'Liberia', 'Libya', 'St. Lucia', 'Liechtenstein', 'Sri Lanka',\n",
       "       'Lesotho', 'Lithuania', 'Luxembourg', 'Latvia', 'Morocco',\n",
       "       'Monaco', 'Moldova', 'Madagascar', 'Maldives', 'Mexico',\n",
       "       'Marshall Islands', 'North Macedonia', 'Mali', 'Malta',\n",
       "       'Myanmar (Burma)', 'Montenegro', 'Mongolia', 'Mozambique',\n",
       "       'Mauritania', 'Mauritius', 'Malawi', 'Malaysia', 'Namibia',\n",
       "       'Niger', 'Nigeria', 'Nicaragua', 'Netherlands', 'Norway', 'Nepal',\n",
       "       'New Zealand', 'Oman', 'Pakistan', 'Panama', 'Peru', 'Philippines',\n",
       "       'Palau', 'Papua New Guinea', 'Poland', 'Portugal', 'Paraguay',\n",
       "       'Palestinian Territories', 'Qatar', 'Romania', 'Russia', 'Rwanda',\n",
       "       'Saudi Arabia', 'Sudan', 'Senegal', 'Singapore', 'Solomon Islands',\n",
       "       'Sierra Leone', 'El Salvador', 'San Marino', 'Somalia', 'Serbia',\n",
       "       'South Sudan', 'São Tomé & Príncipe', 'Suriname', 'Slovakia',\n",
       "       'Slovenia', 'Sweden', 'Eswatini', 'Seychelles', 'Syria', 'Chad',\n",
       "       'Togo', 'Thailand', 'Tajikistan', 'Timor-Leste',\n",
       "       'Trinidad & Tobago', 'Tunisia', 'Turkey', 'Tanzania', 'Uganda',\n",
       "       'Ukraine', 'Uruguay', 'United States', 'Uzbekistan',\n",
       "       'St. Vincent & Grenadines', 'Venezuela', 'Vietnam', 'Vanuatu',\n",
       "       'Samoa', 'Yemen', 'South Africa', 'Zambia', 'Zimbabwe'],\n",
       "      dtype=object)"
      ]
     },
     "execution_count": 404,
     "metadata": {},
     "output_type": "execute_result"
    }
   ],
   "source": [
    "DF['country'].unique()"
   ]
  },
  {
   "cell_type": "code",
   "execution_count": 405,
   "id": "284bb465",
   "metadata": {},
   "outputs": [
    {
     "data": {
      "text/plain": [
       "South Korea         710\n",
       "Thailand            710\n",
       "United States       710\n",
       "Japan               710\n",
       "China               710\n",
       "                   ... \n",
       "Marshall Islands    430\n",
       "Vanuatu             417\n",
       "Samoa               409\n",
       "Kiribati            228\n",
       "Palau               132\n",
       "Name: country, Length: 187, dtype: int64"
      ]
     },
     "execution_count": 405,
     "metadata": {},
     "output_type": "execute_result"
    }
   ],
   "source": [
    "DF['country'].value_counts()"
   ]
  },
  {
   "cell_type": "markdown",
   "id": "bccf82ee",
   "metadata": {},
   "source": [
    "We'll start with South Korea per weekday"
   ]
  },
  {
   "cell_type": "code",
   "execution_count": 406,
   "id": "9a7c078f",
   "metadata": {},
   "outputs": [],
   "source": [
    "dfsouthkorea=DF[DF['country']=='South Korea']"
   ]
  },
  {
   "cell_type": "code",
   "execution_count": 407,
   "id": "f1d11b37",
   "metadata": {},
   "outputs": [],
   "source": [
    "statsweekdays=dfsouthkorea.groupby(\"weekdays\").agg({\"dcases\": [np.mean, np.std, np.size]})"
   ]
  },
  {
   "cell_type": "code",
   "execution_count": 408,
   "id": "31e30e55",
   "metadata": {},
   "outputs": [],
   "source": [
    "stats=pd.DataFrame(stats)"
   ]
  },
  {
   "cell_type": "code",
   "execution_count": 409,
   "id": "0e4dc7d2",
   "metadata": {},
   "outputs": [
    {
     "data": {
      "text/plain": [
       "(7, 6)"
      ]
     },
     "execution_count": 409,
     "metadata": {},
     "output_type": "execute_result"
    }
   ],
   "source": [
    "stats.shape"
   ]
  },
  {
   "cell_type": "code",
   "execution_count": 410,
   "id": "738af6b5",
   "metadata": {},
   "outputs": [
    {
     "data": {
      "text/plain": [
       "MultiIndex([('dcases', 'mean'),\n",
       "            ('dcases',  'std'),\n",
       "            ('dcases', 'size')],\n",
       "           )"
      ]
     },
     "execution_count": 410,
     "metadata": {},
     "output_type": "execute_result"
    }
   ],
   "source": [
    "statsweekdays.columns"
   ]
  },
  {
   "cell_type": "code",
   "execution_count": 411,
   "id": "ccc483cd",
   "metadata": {},
   "outputs": [],
   "source": [
    "statsweekdays.columns=['mean','std','size']"
   ]
  },
  {
   "cell_type": "code",
   "execution_count": 412,
   "id": "20dbde57",
   "metadata": {},
   "outputs": [
    {
     "data": {
      "text/plain": [
       "Index(['mean', 'std', 'size'], dtype='object')"
      ]
     },
     "execution_count": 412,
     "metadata": {},
     "output_type": "execute_result"
    }
   ],
   "source": [
    "statsweekdays.columns"
   ]
  },
  {
   "cell_type": "code",
   "execution_count": 413,
   "id": "24b5c002",
   "metadata": {},
   "outputs": [],
   "source": [
    "#we are calculating the lober bound\n",
    "def get_ci_lb(x, alpha=0.05):\n",
    "    sample_s=np.std(x)\n",
    "    sample_mean=np.mean(x)\n",
    "    sample_size=len(x)\n",
    "    margin_of_error = t.ppf(1 - alpha/2,sample_size-1)*sample_s/np.sqrt(sample_size-1)\n",
    "    return sample_mean - margin_of_error"
   ]
  },
  {
   "cell_type": "code",
   "execution_count": 414,
   "id": "895cb361",
   "metadata": {},
   "outputs": [],
   "source": [
    "x=dfsouthkorea['dcases']"
   ]
  },
  {
   "cell_type": "code",
   "execution_count": 415,
   "id": "685b648b",
   "metadata": {},
   "outputs": [
    {
     "data": {
      "text/plain": [
       "795.69347356921"
      ]
     },
     "execution_count": 415,
     "metadata": {},
     "output_type": "execute_result"
    }
   ],
   "source": [
    "get_ci_lb(x)"
   ]
  },
  {
   "cell_type": "code",
   "execution_count": 416,
   "id": "41f4b415",
   "metadata": {},
   "outputs": [],
   "source": [
    "#get the upper bound\n",
    "def get_ci_ub(x, alpha=0.05):\n",
    "    sample_s=np.std(x)\n",
    "    sample_mean=np.mean(x)\n",
    "    sample_size=len(x)\n",
    "    margin_of_error = t.ppf(1 - alpha/2,sample_size-1)*sample_s/np.sqrt(sample_size-1)\n",
    "    return sample_mean + margin_of_error"
   ]
  },
  {
   "cell_type": "code",
   "execution_count": 417,
   "id": "5ed89285",
   "metadata": {},
   "outputs": [
    {
     "data": {
      "text/plain": [
       "993.7515968533253"
      ]
     },
     "execution_count": 417,
     "metadata": {},
     "output_type": "execute_result"
    }
   ],
   "source": [
    "get_ci_ub(x)"
   ]
  },
  {
   "cell_type": "code",
   "execution_count": 418,
   "id": "0ca77762",
   "metadata": {},
   "outputs": [
    {
     "data": {
      "text/html": [
       "<div>\n",
       "<style scoped>\n",
       "    .dataframe tbody tr th:only-of-type {\n",
       "        vertical-align: middle;\n",
       "    }\n",
       "\n",
       "    .dataframe tbody tr th {\n",
       "        vertical-align: top;\n",
       "    }\n",
       "\n",
       "    .dataframe thead tr th {\n",
       "        text-align: left;\n",
       "    }\n",
       "\n",
       "    .dataframe thead tr:last-of-type th {\n",
       "        text-align: right;\n",
       "    }\n",
       "</style>\n",
       "<table border=\"1\" class=\"dataframe\">\n",
       "  <thead>\n",
       "    <tr>\n",
       "      <th></th>\n",
       "      <th colspan=\"5\" halign=\"left\">dcases</th>\n",
       "    </tr>\n",
       "    <tr>\n",
       "      <th></th>\n",
       "      <th>mean</th>\n",
       "      <th>std</th>\n",
       "      <th>size</th>\n",
       "      <th>get_ci_lb</th>\n",
       "      <th>get_ci_ub</th>\n",
       "    </tr>\n",
       "    <tr>\n",
       "      <th>weekdays</th>\n",
       "      <th></th>\n",
       "      <th></th>\n",
       "      <th></th>\n",
       "      <th></th>\n",
       "      <th></th>\n",
       "    </tr>\n",
       "  </thead>\n",
       "  <tbody>\n",
       "    <tr>\n",
       "      <th>Fri</th>\n",
       "      <td>960.705882</td>\n",
       "      <td>1423.739718</td>\n",
       "      <td>102</td>\n",
       "      <td>681.056866</td>\n",
       "      <td>1240.354898</td>\n",
       "    </tr>\n",
       "    <tr>\n",
       "      <th>Sat</th>\n",
       "      <td>865.712871</td>\n",
       "      <td>1280.278379</td>\n",
       "      <td>101</td>\n",
       "      <td>612.969859</td>\n",
       "      <td>1118.455884</td>\n",
       "    </tr>\n",
       "    <tr>\n",
       "      <th>Sun</th>\n",
       "      <td>734.099010</td>\n",
       "      <td>1080.646080</td>\n",
       "      <td>101</td>\n",
       "      <td>520.765918</td>\n",
       "      <td>947.432102</td>\n",
       "    </tr>\n",
       "    <tr>\n",
       "      <th>Mon</th>\n",
       "      <td>734.712871</td>\n",
       "      <td>1069.319852</td>\n",
       "      <td>101</td>\n",
       "      <td>523.615718</td>\n",
       "      <td>945.810024</td>\n",
       "    </tr>\n",
       "    <tr>\n",
       "      <th>Tue</th>\n",
       "      <td>1013.069307</td>\n",
       "      <td>1545.732896</td>\n",
       "      <td>101</td>\n",
       "      <td>707.922243</td>\n",
       "      <td>1318.216371</td>\n",
       "    </tr>\n",
       "    <tr>\n",
       "      <th>Wed</th>\n",
       "      <td>988.294118</td>\n",
       "      <td>1494.979861</td>\n",
       "      <td>102</td>\n",
       "      <td>694.652210</td>\n",
       "      <td>1281.936025</td>\n",
       "    </tr>\n",
       "    <tr>\n",
       "      <th>Thu</th>\n",
       "      <td>964.196078</td>\n",
       "      <td>1434.233649</td>\n",
       "      <td>102</td>\n",
       "      <td>682.485859</td>\n",
       "      <td>1245.906298</td>\n",
       "    </tr>\n",
       "  </tbody>\n",
       "</table>\n",
       "</div>"
      ],
      "text/plain": [
       "               dcases                                           \n",
       "                 mean          std size   get_ci_lb    get_ci_ub\n",
       "weekdays                                                        \n",
       "Fri        960.705882  1423.739718  102  681.056866  1240.354898\n",
       "Sat        865.712871  1280.278379  101  612.969859  1118.455884\n",
       "Sun        734.099010  1080.646080  101  520.765918   947.432102\n",
       "Mon        734.712871  1069.319852  101  523.615718   945.810024\n",
       "Tue       1013.069307  1545.732896  101  707.922243  1318.216371\n",
       "Wed        988.294118  1494.979861  102  694.652210  1281.936025\n",
       "Thu        964.196078  1434.233649  102  682.485859  1245.906298"
      ]
     },
     "execution_count": 418,
     "metadata": {},
     "output_type": "execute_result"
    }
   ],
   "source": [
    "ci_dcases=statsw=dfsouthkorea.groupby(\"weekdays\").agg({\"dcases\": [np.mean, np.std, np.size,get_ci_lb,get_ci_ub]})\n",
    "statsw"
   ]
  },
  {
   "cell_type": "code",
   "execution_count": 419,
   "id": "4de6a9ca",
   "metadata": {},
   "outputs": [
    {
     "data": {
      "text/plain": [
       "CategoricalIndex(['Fri', 'Sat', 'Sun', 'Mon', 'Tue', 'Wed', 'Thu'], categories=['Fri', 'Sat', 'Sun', 'Mon', 'Tue', 'Wed', 'Thu'], ordered=True, dtype='category', name='weekdays')"
      ]
     },
     "execution_count": 419,
     "metadata": {},
     "output_type": "execute_result"
    }
   ],
   "source": [
    "statsw.index"
   ]
  },
  {
   "cell_type": "code",
   "execution_count": 420,
   "id": "639a62ed",
   "metadata": {},
   "outputs": [],
   "source": [
    "statsw.columns=['mean','std','size','lb','ub']"
   ]
  },
  {
   "cell_type": "code",
   "execution_count": 421,
   "id": "51985dc2",
   "metadata": {},
   "outputs": [],
   "source": [
    "statsw['weekdays']=statsw.index"
   ]
  },
  {
   "cell_type": "code",
   "execution_count": 422,
   "id": "c6032376",
   "metadata": {
    "scrolled": true
   },
   "outputs": [
    {
     "data": {
      "text/html": [
       "<div>\n",
       "<style scoped>\n",
       "    .dataframe tbody tr th:only-of-type {\n",
       "        vertical-align: middle;\n",
       "    }\n",
       "\n",
       "    .dataframe tbody tr th {\n",
       "        vertical-align: top;\n",
       "    }\n",
       "\n",
       "    .dataframe thead th {\n",
       "        text-align: right;\n",
       "    }\n",
       "</style>\n",
       "<table border=\"1\" class=\"dataframe\">\n",
       "  <thead>\n",
       "    <tr style=\"text-align: right;\">\n",
       "      <th></th>\n",
       "      <th>mean</th>\n",
       "      <th>std</th>\n",
       "      <th>size</th>\n",
       "      <th>lb</th>\n",
       "      <th>ub</th>\n",
       "      <th>weekdays</th>\n",
       "    </tr>\n",
       "    <tr>\n",
       "      <th>weekdays</th>\n",
       "      <th></th>\n",
       "      <th></th>\n",
       "      <th></th>\n",
       "      <th></th>\n",
       "      <th></th>\n",
       "      <th></th>\n",
       "    </tr>\n",
       "  </thead>\n",
       "  <tbody>\n",
       "    <tr>\n",
       "      <th>Fri</th>\n",
       "      <td>960.705882</td>\n",
       "      <td>1423.739718</td>\n",
       "      <td>102</td>\n",
       "      <td>681.056866</td>\n",
       "      <td>1240.354898</td>\n",
       "      <td>Fri</td>\n",
       "    </tr>\n",
       "    <tr>\n",
       "      <th>Sat</th>\n",
       "      <td>865.712871</td>\n",
       "      <td>1280.278379</td>\n",
       "      <td>101</td>\n",
       "      <td>612.969859</td>\n",
       "      <td>1118.455884</td>\n",
       "      <td>Sat</td>\n",
       "    </tr>\n",
       "    <tr>\n",
       "      <th>Sun</th>\n",
       "      <td>734.099010</td>\n",
       "      <td>1080.646080</td>\n",
       "      <td>101</td>\n",
       "      <td>520.765918</td>\n",
       "      <td>947.432102</td>\n",
       "      <td>Sun</td>\n",
       "    </tr>\n",
       "    <tr>\n",
       "      <th>Mon</th>\n",
       "      <td>734.712871</td>\n",
       "      <td>1069.319852</td>\n",
       "      <td>101</td>\n",
       "      <td>523.615718</td>\n",
       "      <td>945.810024</td>\n",
       "      <td>Mon</td>\n",
       "    </tr>\n",
       "    <tr>\n",
       "      <th>Tue</th>\n",
       "      <td>1013.069307</td>\n",
       "      <td>1545.732896</td>\n",
       "      <td>101</td>\n",
       "      <td>707.922243</td>\n",
       "      <td>1318.216371</td>\n",
       "      <td>Tue</td>\n",
       "    </tr>\n",
       "    <tr>\n",
       "      <th>Wed</th>\n",
       "      <td>988.294118</td>\n",
       "      <td>1494.979861</td>\n",
       "      <td>102</td>\n",
       "      <td>694.652210</td>\n",
       "      <td>1281.936025</td>\n",
       "      <td>Wed</td>\n",
       "    </tr>\n",
       "    <tr>\n",
       "      <th>Thu</th>\n",
       "      <td>964.196078</td>\n",
       "      <td>1434.233649</td>\n",
       "      <td>102</td>\n",
       "      <td>682.485859</td>\n",
       "      <td>1245.906298</td>\n",
       "      <td>Thu</td>\n",
       "    </tr>\n",
       "  </tbody>\n",
       "</table>\n",
       "</div>"
      ],
      "text/plain": [
       "                 mean          std  size          lb           ub weekdays\n",
       "weekdays                                                                  \n",
       "Fri        960.705882  1423.739718   102  681.056866  1240.354898      Fri\n",
       "Sat        865.712871  1280.278379   101  612.969859  1118.455884      Sat\n",
       "Sun        734.099010  1080.646080   101  520.765918   947.432102      Sun\n",
       "Mon        734.712871  1069.319852   101  523.615718   945.810024      Mon\n",
       "Tue       1013.069307  1545.732896   101  707.922243  1318.216371      Tue\n",
       "Wed        988.294118  1494.979861   102  694.652210  1281.936025      Wed\n",
       "Thu        964.196078  1434.233649   102  682.485859  1245.906298      Thu"
      ]
     },
     "execution_count": 422,
     "metadata": {},
     "output_type": "execute_result"
    }
   ],
   "source": [
    "statsw"
   ]
  },
  {
   "cell_type": "code",
   "execution_count": 423,
   "id": "e8ad8a67",
   "metadata": {},
   "outputs": [
    {
     "data": {
      "image/png": "[encoded data removed]",
      "text/plain": [
       "<Figure size 432x288 with 1 Axes>"
      ]
     },
     "metadata": {
      "needs_background": "light"
     },
     "output_type": "display_data"
    }
   ],
   "source": [
    "plt.plot( 'weekdays', 'mean', data=statsw, marker='s', color='purple', markersize=4,     linewidth=1, linestyle='--')\n",
    "plt.plot( 'weekdays', 'mean', data=statsw, marker='o', color='purple',  markersize=4, linewidth=1,linestyle='-')\n",
    "plt.xlabel(\"Weekdays\")\n",
    "plt.ylabel(\"Average Daily COVID CASES\")\n",
    "plt.show()"
   ]
  },
  {
   "cell_type": "markdown",
   "id": "480c61f5",
   "metadata": {},
   "source": [
    "After drawing plotting the graph, it is evident that the average daily cases was at its lowest during sundays and mondays and highest on tuesday reaching 1000 cases."
   ]
  },
  {
   "cell_type": "code",
   "execution_count": 424,
   "id": "5b9775a6",
   "metadata": {},
   "outputs": [],
   "source": [
    "statsweekdays=dfsouthkorea.groupby(\"weekdays\").agg({\"ddeaths\": [np.mean, np.std, np.size]})"
   ]
  },
  {
   "cell_type": "code",
   "execution_count": 425,
   "id": "6c249f93",
   "metadata": {},
   "outputs": [],
   "source": [
    "statsweekdays=pd.DataFrame(stats)"
   ]
  },
  {
   "cell_type": "code",
   "execution_count": 426,
   "id": "5b3d830c",
   "metadata": {},
   "outputs": [
    {
     "data": {
      "text/plain": [
       "(7, 6)"
      ]
     },
     "execution_count": 426,
     "metadata": {},
     "output_type": "execute_result"
    }
   ],
   "source": [
    "statsweekdays.shape"
   ]
  },
  {
   "cell_type": "code",
   "execution_count": 427,
   "id": "7561fd99",
   "metadata": {},
   "outputs": [
    {
     "data": {
      "text/plain": [
       "MultiIndex([( 'ddeaths', 'mean'),\n",
       "            ( 'ddeaths',  'std'),\n",
       "            ( 'ddeaths', 'size'),\n",
       "            ( 'ci95_hi',     ''),\n",
       "            ( 'ci95_lo',     ''),\n",
       "            ('weekdays',     '')],\n",
       "           )"
      ]
     },
     "execution_count": 427,
     "metadata": {},
     "output_type": "execute_result"
    }
   ],
   "source": [
    "statsweekdays.columns"
   ]
  },
  {
   "cell_type": "code",
   "execution_count": 428,
   "id": "bdfc5a12",
   "metadata": {},
   "outputs": [],
   "source": [
    "def get_ci_lb(x, alpha=0.05):\n",
    "    sample_s=np.std(x)\n",
    "    sample_mean=np.mean(x)\n",
    "    sample_size=len(x)\n",
    "    margin_of_error = t.ppf(1 - alpha/2,sample_size-1)*sample_s/np.sqrt(sample_size-1)\n",
    "    return sample_mean - margin_of_error"
   ]
  },
  {
   "cell_type": "code",
   "execution_count": 429,
   "id": "bde2ad7c",
   "metadata": {},
   "outputs": [],
   "source": [
    "x=dfsouthkorea['ddeaths']"
   ]
  },
  {
   "cell_type": "code",
   "execution_count": 430,
   "id": "facf5541",
   "metadata": {},
   "outputs": [
    {
     "data": {
      "text/plain": [
       "6.855949683991252"
      ]
     },
     "execution_count": 430,
     "metadata": {},
     "output_type": "execute_result"
    }
   ],
   "source": [
    "get_ci_lb(x)"
   ]
  },
  {
   "cell_type": "code",
   "execution_count": 431,
   "id": "369303ea",
   "metadata": {},
   "outputs": [
    {
     "data": {
      "text/html": [
       "<div>\n",
       "<style scoped>\n",
       "    .dataframe tbody tr th:only-of-type {\n",
       "        vertical-align: middle;\n",
       "    }\n",
       "\n",
       "    .dataframe tbody tr th {\n",
       "        vertical-align: top;\n",
       "    }\n",
       "\n",
       "    .dataframe thead tr th {\n",
       "        text-align: left;\n",
       "    }\n",
       "\n",
       "    .dataframe thead tr:last-of-type th {\n",
       "        text-align: right;\n",
       "    }\n",
       "</style>\n",
       "<table border=\"1\" class=\"dataframe\">\n",
       "  <thead>\n",
       "    <tr>\n",
       "      <th></th>\n",
       "      <th colspan=\"5\" halign=\"left\">ddeaths</th>\n",
       "    </tr>\n",
       "    <tr>\n",
       "      <th></th>\n",
       "      <th>mean</th>\n",
       "      <th>std</th>\n",
       "      <th>size</th>\n",
       "      <th>get_ci_lb</th>\n",
       "      <th>get_ci_ub</th>\n",
       "    </tr>\n",
       "    <tr>\n",
       "      <th>weekdays</th>\n",
       "      <th></th>\n",
       "      <th></th>\n",
       "      <th></th>\n",
       "      <th></th>\n",
       "      <th></th>\n",
       "    </tr>\n",
       "  </thead>\n",
       "  <tbody>\n",
       "    <tr>\n",
       "      <th>Fri</th>\n",
       "      <td>9.049020</td>\n",
       "      <td>17.251418</td>\n",
       "      <td>102</td>\n",
       "      <td>5.660520</td>\n",
       "      <td>12.437520</td>\n",
       "    </tr>\n",
       "    <tr>\n",
       "      <th>Sat</th>\n",
       "      <td>7.455446</td>\n",
       "      <td>13.362279</td>\n",
       "      <td>101</td>\n",
       "      <td>4.817564</td>\n",
       "      <td>10.093327</td>\n",
       "    </tr>\n",
       "    <tr>\n",
       "      <th>Sun</th>\n",
       "      <td>6.138614</td>\n",
       "      <td>10.153846</td>\n",
       "      <td>101</td>\n",
       "      <td>4.134117</td>\n",
       "      <td>8.143110</td>\n",
       "    </tr>\n",
       "    <tr>\n",
       "      <th>Mon</th>\n",
       "      <td>8.237624</td>\n",
       "      <td>14.519744</td>\n",
       "      <td>101</td>\n",
       "      <td>5.371244</td>\n",
       "      <td>11.104003</td>\n",
       "    </tr>\n",
       "    <tr>\n",
       "      <th>Tue</th>\n",
       "      <td>7.455446</td>\n",
       "      <td>13.259355</td>\n",
       "      <td>101</td>\n",
       "      <td>4.837883</td>\n",
       "      <td>10.073009</td>\n",
       "    </tr>\n",
       "    <tr>\n",
       "      <th>Wed</th>\n",
       "      <td>8.656863</td>\n",
       "      <td>16.159168</td>\n",
       "      <td>102</td>\n",
       "      <td>5.482901</td>\n",
       "      <td>11.830825</td>\n",
       "    </tr>\n",
       "    <tr>\n",
       "      <th>Thu</th>\n",
       "      <td>8.441176</td>\n",
       "      <td>15.643664</td>\n",
       "      <td>102</td>\n",
       "      <td>5.368469</td>\n",
       "      <td>11.513884</td>\n",
       "    </tr>\n",
       "  </tbody>\n",
       "</table>\n",
       "</div>"
      ],
      "text/plain": [
       "           ddeaths                                     \n",
       "              mean        std size get_ci_lb  get_ci_ub\n",
       "weekdays                                               \n",
       "Fri       9.049020  17.251418  102  5.660520  12.437520\n",
       "Sat       7.455446  13.362279  101  4.817564  10.093327\n",
       "Sun       6.138614  10.153846  101  4.134117   8.143110\n",
       "Mon       8.237624  14.519744  101  5.371244  11.104003\n",
       "Tue       7.455446  13.259355  101  4.837883  10.073009\n",
       "Wed       8.656863  16.159168  102  5.482901  11.830825\n",
       "Thu       8.441176  15.643664  102  5.368469  11.513884"
      ]
     },
     "execution_count": 431,
     "metadata": {},
     "output_type": "execute_result"
    }
   ],
   "source": [
    "ci_ddeaths=statsw=dfsouthkorea.groupby(\"weekdays\").agg({\"ddeaths\": [np.mean, np.std, np.size,get_ci_lb,get_ci_ub]})\n",
    "statsw"
   ]
  },
  {
   "cell_type": "code",
   "execution_count": 432,
   "id": "bb474a81",
   "metadata": {},
   "outputs": [
    {
     "data": {
      "text/plain": [
       "CategoricalIndex(['Fri', 'Sat', 'Sun', 'Mon', 'Tue', 'Wed', 'Thu'], categories=['Fri', 'Sat', 'Sun', 'Mon', 'Tue', 'Wed', 'Thu'], ordered=True, dtype='category', name='weekdays')"
      ]
     },
     "execution_count": 432,
     "metadata": {},
     "output_type": "execute_result"
    }
   ],
   "source": [
    "statsw.index"
   ]
  },
  {
   "cell_type": "code",
   "execution_count": 433,
   "id": "8b86c4f4",
   "metadata": {},
   "outputs": [],
   "source": [
    "statsw.columns=['mean','std','size','lb','ub']"
   ]
  },
  {
   "cell_type": "code",
   "execution_count": 434,
   "id": "1a646953",
   "metadata": {},
   "outputs": [],
   "source": [
    "statsw['weekdays']=statsw.index"
   ]
  },
  {
   "cell_type": "code",
   "execution_count": 435,
   "id": "4496fa83",
   "metadata": {},
   "outputs": [
    {
     "data": {
      "image/png": "[encoded data removed]",
      "text/plain": [
       "<Figure size 432x288 with 1 Axes>"
      ]
     },
     "metadata": {
      "needs_background": "light"
     },
     "output_type": "display_data"
    }
   ],
   "source": [
    "plt.plot( 'weekdays', 'mean', data=statsw, marker='s', color='purple', markersize=4,     linewidth=1, linestyle='--')\n",
    "plt.plot( 'weekdays', 'mean', data=statsw, marker='o', color='purple',  markersize=4, linewidth=1,linestyle='-')\n",
    "plt.xlabel(\"Weekdays\")\n",
    "plt.ylabel(\"Average Daily COVID DEATHS\")\n",
    "plt.show()"
   ]
  },
  {
   "cell_type": "markdown",
   "id": "00c08e56",
   "metadata": {},
   "source": [
    "On the other hand, through looking at the graph, it is clear that the average daily Covid deaths was at its lowest during sundays and highest on fridays reaching 1000 cases."
   ]
  },
  {
   "cell_type": "markdown",
   "id": "7071829d",
   "metadata": {},
   "source": [
    "Next, we have Egypt but we will calculate it by months this time"
   ]
  },
  {
   "cell_type": "code",
   "execution_count": 436,
   "id": "3b98fe89",
   "metadata": {},
   "outputs": [],
   "source": [
    "dfegy=DF[DF['country']=='Egypt']"
   ]
  },
  {
   "cell_type": "code",
   "execution_count": 437,
   "id": "1309b78f",
   "metadata": {},
   "outputs": [],
   "source": [
    "from pandas.api.types import CategoricalDtype\n",
    "cats=['Jan', 'Feb', 'Mar','Apr','May','Jun','Jul','Aug','Sep','Oct','Nov','Dec']\n",
    "cat_type = CategoricalDtype(categories=cats, ordered=True)\n",
    "DF['month'] = DF['month'].astype(cat_type)"
   ]
  },
  {
   "cell_type": "code",
   "execution_count": 438,
   "id": "dda396ac",
   "metadata": {},
   "outputs": [],
   "source": [
    "stats=dfegy.groupby(\"month\").agg({\"dcases\": [np.mean, np.std, np.size]})"
   ]
  },
  {
   "cell_type": "code",
   "execution_count": 439,
   "id": "0ff84b48",
   "metadata": {},
   "outputs": [],
   "source": [
    "stats=pd.DataFrame(stats)"
   ]
  },
  {
   "cell_type": "code",
   "execution_count": 440,
   "id": "1fa07fe3",
   "metadata": {},
   "outputs": [
    {
     "data": {
      "text/plain": [
       "(12, 3)"
      ]
     },
     "execution_count": 440,
     "metadata": {},
     "output_type": "execute_result"
    }
   ],
   "source": [
    "stats.shape"
   ]
  },
  {
   "cell_type": "code",
   "execution_count": 441,
   "id": "ec693c4e",
   "metadata": {},
   "outputs": [
    {
     "data": {
      "text/plain": [
       "MultiIndex([('dcases', 'mean'),\n",
       "            ('dcases',  'std'),\n",
       "            ('dcases', 'size')],\n",
       "           )"
      ]
     },
     "execution_count": 441,
     "metadata": {},
     "output_type": "execute_result"
    }
   ],
   "source": [
    "stats.columns"
   ]
  },
  {
   "cell_type": "code",
   "execution_count": 442,
   "id": "2f2a259d",
   "metadata": {},
   "outputs": [],
   "source": [
    "stats.columns=['mean','std','size']"
   ]
  },
  {
   "cell_type": "code",
   "execution_count": 443,
   "id": "f936219c",
   "metadata": {},
   "outputs": [
    {
     "data": {
      "text/plain": [
       "Index(['mean', 'std', 'size'], dtype='object')"
      ]
     },
     "execution_count": 443,
     "metadata": {},
     "output_type": "execute_result"
    }
   ],
   "source": [
    "stats.columns"
   ]
  },
  {
   "cell_type": "code",
   "execution_count": 444,
   "id": "392c7210",
   "metadata": {},
   "outputs": [],
   "source": [
    "def get_ci_lb(x, alpha=0.05):\n",
    "    sample_s=np.std(x)\n",
    "    sample_mean=np.mean(x)\n",
    "    sample_size=len(x)\n",
    "    margin_of_error = t.ppf(1 - alpha/2,sample_size-1)*sample_s/np.sqrt(sample_size-1)\n",
    "    return sample_mean - margin_of_error"
   ]
  },
  {
   "cell_type": "code",
   "execution_count": 445,
   "id": "bac6095a",
   "metadata": {},
   "outputs": [],
   "source": [
    "x=dfegy['dcases']"
   ]
  },
  {
   "cell_type": "code",
   "execution_count": 446,
   "id": "8c755e27",
   "metadata": {},
   "outputs": [
    {
     "data": {
      "text/plain": [
       "529.7945911276133"
      ]
     },
     "execution_count": 446,
     "metadata": {},
     "output_type": "execute_result"
    }
   ],
   "source": [
    "get_ci_lb(x)"
   ]
  },
  {
   "cell_type": "code",
   "execution_count": 447,
   "id": "c50e5309",
   "metadata": {},
   "outputs": [],
   "source": [
    "def get_ci_ub(x, alpha=0.05):\n",
    "    sample_s=np.std(x)\n",
    "    sample_mean=np.mean(x)\n",
    "    sample_size=len(x)\n",
    "    margin_of_error = t.ppf(1 - alpha/2,sample_size-1)*sample_s/np.sqrt(sample_size-1)\n",
    "    return sample_mean + margin_of_error"
   ]
  },
  {
   "cell_type": "code",
   "execution_count": 448,
   "id": "4d06c94e",
   "metadata": {},
   "outputs": [
    {
     "data": {
      "text/plain": [
       "592.694491841819"
      ]
     },
     "execution_count": 448,
     "metadata": {},
     "output_type": "execute_result"
    }
   ],
   "source": [
    "get_ci_ub(x)"
   ]
  },
  {
   "cell_type": "code",
   "execution_count": 449,
   "id": "75af9880",
   "metadata": {},
   "outputs": [
    {
     "data": {
      "text/html": [
       "<div>\n",
       "<style scoped>\n",
       "    .dataframe tbody tr th:only-of-type {\n",
       "        vertical-align: middle;\n",
       "    }\n",
       "\n",
       "    .dataframe tbody tr th {\n",
       "        vertical-align: top;\n",
       "    }\n",
       "\n",
       "    .dataframe thead tr th {\n",
       "        text-align: left;\n",
       "    }\n",
       "\n",
       "    .dataframe thead tr:last-of-type th {\n",
       "        text-align: right;\n",
       "    }\n",
       "</style>\n",
       "<table border=\"1\" class=\"dataframe\">\n",
       "  <thead>\n",
       "    <tr>\n",
       "      <th></th>\n",
       "      <th colspan=\"5\" halign=\"left\">dcases</th>\n",
       "    </tr>\n",
       "    <tr>\n",
       "      <th></th>\n",
       "      <th>mean</th>\n",
       "      <th>std</th>\n",
       "      <th>size</th>\n",
       "      <th>get_ci_lb</th>\n",
       "      <th>get_ci_ub</th>\n",
       "    </tr>\n",
       "    <tr>\n",
       "      <th>month</th>\n",
       "      <th></th>\n",
       "      <th></th>\n",
       "      <th></th>\n",
       "      <th></th>\n",
       "      <th></th>\n",
       "    </tr>\n",
       "  </thead>\n",
       "  <tbody>\n",
       "    <tr>\n",
       "      <th>Apr</th>\n",
       "      <td>504.133333</td>\n",
       "      <td>354.246465</td>\n",
       "      <td>60</td>\n",
       "      <td>412.621768</td>\n",
       "      <td>595.644899</td>\n",
       "    </tr>\n",
       "    <tr>\n",
       "      <th>Aug</th>\n",
       "      <td>145.806452</td>\n",
       "      <td>60.683224</td>\n",
       "      <td>62</td>\n",
       "      <td>130.395798</td>\n",
       "      <td>161.217105</td>\n",
       "    </tr>\n",
       "    <tr>\n",
       "      <th>Dec</th>\n",
       "      <td>792.709677</td>\n",
       "      <td>300.346870</td>\n",
       "      <td>62</td>\n",
       "      <td>716.435854</td>\n",
       "      <td>868.983501</td>\n",
       "    </tr>\n",
       "    <tr>\n",
       "      <th>Feb</th>\n",
       "      <td>374.409091</td>\n",
       "      <td>288.087868</td>\n",
       "      <td>44</td>\n",
       "      <td>286.822374</td>\n",
       "      <td>461.995808</td>\n",
       "    </tr>\n",
       "    <tr>\n",
       "      <th>Jan</th>\n",
       "      <td>899.645161</td>\n",
       "      <td>251.335970</td>\n",
       "      <td>31</td>\n",
       "      <td>807.454383</td>\n",
       "      <td>991.835939</td>\n",
       "    </tr>\n",
       "    <tr>\n",
       "      <th>Jul</th>\n",
       "      <td>463.661290</td>\n",
       "      <td>437.595552</td>\n",
       "      <td>62</td>\n",
       "      <td>352.532828</td>\n",
       "      <td>574.789752</td>\n",
       "    </tr>\n",
       "    <tr>\n",
       "      <th>Jun</th>\n",
       "      <td>1032.633333</td>\n",
       "      <td>454.674216</td>\n",
       "      <td>60</td>\n",
       "      <td>915.178529</td>\n",
       "      <td>1150.088138</td>\n",
       "    </tr>\n",
       "    <tr>\n",
       "      <th>Mar</th>\n",
       "      <td>329.290323</td>\n",
       "      <td>310.292849</td>\n",
       "      <td>62</td>\n",
       "      <td>250.490694</td>\n",
       "      <td>408.089951</td>\n",
       "    </tr>\n",
       "    <tr>\n",
       "      <th>May</th>\n",
       "      <td>879.774194</td>\n",
       "      <td>346.475245</td>\n",
       "      <td>62</td>\n",
       "      <td>791.785956</td>\n",
       "      <td>967.762431</td>\n",
       "    </tr>\n",
       "    <tr>\n",
       "      <th>Nov</th>\n",
       "      <td>598.616667</td>\n",
       "      <td>370.082496</td>\n",
       "      <td>60</td>\n",
       "      <td>503.014220</td>\n",
       "      <td>694.219113</td>\n",
       "    </tr>\n",
       "    <tr>\n",
       "      <th>Oct</th>\n",
       "      <td>497.580645</td>\n",
       "      <td>362.321547</td>\n",
       "      <td>62</td>\n",
       "      <td>405.568201</td>\n",
       "      <td>589.593089</td>\n",
       "    </tr>\n",
       "    <tr>\n",
       "      <th>Sep</th>\n",
       "      <td>339.033333</td>\n",
       "      <td>225.855584</td>\n",
       "      <td>60</td>\n",
       "      <td>280.688649</td>\n",
       "      <td>397.378017</td>\n",
       "    </tr>\n",
       "  </tbody>\n",
       "</table>\n",
       "</div>"
      ],
      "text/plain": [
       "            dcases                                          \n",
       "              mean         std size   get_ci_lb    get_ci_ub\n",
       "month                                                       \n",
       "Apr     504.133333  354.246465   60  412.621768   595.644899\n",
       "Aug     145.806452   60.683224   62  130.395798   161.217105\n",
       "Dec     792.709677  300.346870   62  716.435854   868.983501\n",
       "Feb     374.409091  288.087868   44  286.822374   461.995808\n",
       "Jan     899.645161  251.335970   31  807.454383   991.835939\n",
       "Jul     463.661290  437.595552   62  352.532828   574.789752\n",
       "Jun    1032.633333  454.674216   60  915.178529  1150.088138\n",
       "Mar     329.290323  310.292849   62  250.490694   408.089951\n",
       "May     879.774194  346.475245   62  791.785956   967.762431\n",
       "Nov     598.616667  370.082496   60  503.014220   694.219113\n",
       "Oct     497.580645  362.321547   62  405.568201   589.593089\n",
       "Sep     339.033333  225.855584   60  280.688649   397.378017"
      ]
     },
     "execution_count": 449,
     "metadata": {},
     "output_type": "execute_result"
    }
   ],
   "source": [
    "ci_dcases=statsm=dfegy.groupby(\"month\").agg({\"dcases\": [np.mean, np.std, np.size,get_ci_lb,get_ci_ub]})\n",
    "statsm"
   ]
  },
  {
   "cell_type": "code",
   "execution_count": 450,
   "id": "ca6e9b65",
   "metadata": {},
   "outputs": [
    {
     "data": {
      "text/plain": [
       "Index(['Apr', 'Aug', 'Dec', 'Feb', 'Jan', 'Jul', 'Jun', 'Mar', 'May', 'Nov',\n",
       "       'Oct', 'Sep'],\n",
       "      dtype='object', name='month')"
      ]
     },
     "execution_count": 450,
     "metadata": {},
     "output_type": "execute_result"
    }
   ],
   "source": [
    "statsm.index"
   ]
  },
  {
   "cell_type": "code",
   "execution_count": 451,
   "id": "ca45a0f3",
   "metadata": {},
   "outputs": [],
   "source": [
    "statsm.columns=['mean','std','size','lb','ub']"
   ]
  },
  {
   "cell_type": "code",
   "execution_count": 452,
   "id": "5838076a",
   "metadata": {},
   "outputs": [],
   "source": [
    "statsm['month']=statsm.index"
   ]
  },
  {
   "cell_type": "code",
   "execution_count": 453,
   "id": "99ba146f",
   "metadata": {},
   "outputs": [
    {
     "data": {
      "text/html": [
       "<div>\n",
       "<style scoped>\n",
       "    .dataframe tbody tr th:only-of-type {\n",
       "        vertical-align: middle;\n",
       "    }\n",
       "\n",
       "    .dataframe tbody tr th {\n",
       "        vertical-align: top;\n",
       "    }\n",
       "\n",
       "    .dataframe thead th {\n",
       "        text-align: right;\n",
       "    }\n",
       "</style>\n",
       "<table border=\"1\" class=\"dataframe\">\n",
       "  <thead>\n",
       "    <tr style=\"text-align: right;\">\n",
       "      <th></th>\n",
       "      <th>mean</th>\n",
       "      <th>std</th>\n",
       "      <th>size</th>\n",
       "      <th>lb</th>\n",
       "      <th>ub</th>\n",
       "      <th>month</th>\n",
       "    </tr>\n",
       "    <tr>\n",
       "      <th>month</th>\n",
       "      <th></th>\n",
       "      <th></th>\n",
       "      <th></th>\n",
       "      <th></th>\n",
       "      <th></th>\n",
       "      <th></th>\n",
       "    </tr>\n",
       "  </thead>\n",
       "  <tbody>\n",
       "    <tr>\n",
       "      <th>Apr</th>\n",
       "      <td>504.133333</td>\n",
       "      <td>354.246465</td>\n",
       "      <td>60</td>\n",
       "      <td>412.621768</td>\n",
       "      <td>595.644899</td>\n",
       "      <td>Apr</td>\n",
       "    </tr>\n",
       "    <tr>\n",
       "      <th>Aug</th>\n",
       "      <td>145.806452</td>\n",
       "      <td>60.683224</td>\n",
       "      <td>62</td>\n",
       "      <td>130.395798</td>\n",
       "      <td>161.217105</td>\n",
       "      <td>Aug</td>\n",
       "    </tr>\n",
       "    <tr>\n",
       "      <th>Dec</th>\n",
       "      <td>792.709677</td>\n",
       "      <td>300.346870</td>\n",
       "      <td>62</td>\n",
       "      <td>716.435854</td>\n",
       "      <td>868.983501</td>\n",
       "      <td>Dec</td>\n",
       "    </tr>\n",
       "    <tr>\n",
       "      <th>Feb</th>\n",
       "      <td>374.409091</td>\n",
       "      <td>288.087868</td>\n",
       "      <td>44</td>\n",
       "      <td>286.822374</td>\n",
       "      <td>461.995808</td>\n",
       "      <td>Feb</td>\n",
       "    </tr>\n",
       "    <tr>\n",
       "      <th>Jan</th>\n",
       "      <td>899.645161</td>\n",
       "      <td>251.335970</td>\n",
       "      <td>31</td>\n",
       "      <td>807.454383</td>\n",
       "      <td>991.835939</td>\n",
       "      <td>Jan</td>\n",
       "    </tr>\n",
       "    <tr>\n",
       "      <th>Jul</th>\n",
       "      <td>463.661290</td>\n",
       "      <td>437.595552</td>\n",
       "      <td>62</td>\n",
       "      <td>352.532828</td>\n",
       "      <td>574.789752</td>\n",
       "      <td>Jul</td>\n",
       "    </tr>\n",
       "    <tr>\n",
       "      <th>Jun</th>\n",
       "      <td>1032.633333</td>\n",
       "      <td>454.674216</td>\n",
       "      <td>60</td>\n",
       "      <td>915.178529</td>\n",
       "      <td>1150.088138</td>\n",
       "      <td>Jun</td>\n",
       "    </tr>\n",
       "    <tr>\n",
       "      <th>Mar</th>\n",
       "      <td>329.290323</td>\n",
       "      <td>310.292849</td>\n",
       "      <td>62</td>\n",
       "      <td>250.490694</td>\n",
       "      <td>408.089951</td>\n",
       "      <td>Mar</td>\n",
       "    </tr>\n",
       "    <tr>\n",
       "      <th>May</th>\n",
       "      <td>879.774194</td>\n",
       "      <td>346.475245</td>\n",
       "      <td>62</td>\n",
       "      <td>791.785956</td>\n",
       "      <td>967.762431</td>\n",
       "      <td>May</td>\n",
       "    </tr>\n",
       "    <tr>\n",
       "      <th>Nov</th>\n",
       "      <td>598.616667</td>\n",
       "      <td>370.082496</td>\n",
       "      <td>60</td>\n",
       "      <td>503.014220</td>\n",
       "      <td>694.219113</td>\n",
       "      <td>Nov</td>\n",
       "    </tr>\n",
       "    <tr>\n",
       "      <th>Oct</th>\n",
       "      <td>497.580645</td>\n",
       "      <td>362.321547</td>\n",
       "      <td>62</td>\n",
       "      <td>405.568201</td>\n",
       "      <td>589.593089</td>\n",
       "      <td>Oct</td>\n",
       "    </tr>\n",
       "    <tr>\n",
       "      <th>Sep</th>\n",
       "      <td>339.033333</td>\n",
       "      <td>225.855584</td>\n",
       "      <td>60</td>\n",
       "      <td>280.688649</td>\n",
       "      <td>397.378017</td>\n",
       "      <td>Sep</td>\n",
       "    </tr>\n",
       "  </tbody>\n",
       "</table>\n",
       "</div>"
      ],
      "text/plain": [
       "              mean         std  size          lb           ub month\n",
       "month                                                              \n",
       "Apr     504.133333  354.246465    60  412.621768   595.644899   Apr\n",
       "Aug     145.806452   60.683224    62  130.395798   161.217105   Aug\n",
       "Dec     792.709677  300.346870    62  716.435854   868.983501   Dec\n",
       "Feb     374.409091  288.087868    44  286.822374   461.995808   Feb\n",
       "Jan     899.645161  251.335970    31  807.454383   991.835939   Jan\n",
       "Jul     463.661290  437.595552    62  352.532828   574.789752   Jul\n",
       "Jun    1032.633333  454.674216    60  915.178529  1150.088138   Jun\n",
       "Mar     329.290323  310.292849    62  250.490694   408.089951   Mar\n",
       "May     879.774194  346.475245    62  791.785956   967.762431   May\n",
       "Nov     598.616667  370.082496    60  503.014220   694.219113   Nov\n",
       "Oct     497.580645  362.321547    62  405.568201   589.593089   Oct\n",
       "Sep     339.033333  225.855584    60  280.688649   397.378017   Sep"
      ]
     },
     "execution_count": 453,
     "metadata": {},
     "output_type": "execute_result"
    }
   ],
   "source": [
    "statsm"
   ]
  },
  {
   "cell_type": "markdown",
   "id": "b73b0535",
   "metadata": {},
   "source": [
    "Through observing the table, we can get that the month with the highest estimated mean is June while the lowest is August."
   ]
  },
  {
   "cell_type": "code",
   "execution_count": 454,
   "id": "bc8615f1",
   "metadata": {},
   "outputs": [
    {
     "data": {
      "image/png": "[encoded data removed]",
      "text/plain": [
       "<Figure size 432x288 with 1 Axes>"
      ]
     },
     "metadata": {
      "needs_background": "light"
     },
     "output_type": "display_data"
    }
   ],
   "source": [
    "plt.plot( 'month', 'mean', data=statsm, marker='s', color='blue', markersize=4,     linewidth=1, linestyle='--')\n",
    "plt.plot( 'month', 'mean', data=statsm, marker='o', color='blue',  markersize=4, linewidth=1,linestyle='-')\n",
    "plt.xlabel(\"Month\")\n",
    "plt.ylabel(\"Average Daily COVID CASES\")\n",
    "plt.show()"
   ]
  },
  {
   "cell_type": "markdown",
   "id": "1be81409",
   "metadata": {},
   "source": [
    "This graph illustrates the mean we calculated after finding the confidence interval, lower bound, and upper bound,"
   ]
  },
  {
   "cell_type": "markdown",
   "id": "02fc250b",
   "metadata": {},
   "source": [
    "Now we will do the same but for deaths"
   ]
  },
  {
   "cell_type": "code",
   "execution_count": 455,
   "id": "26a58bd5",
   "metadata": {},
   "outputs": [],
   "source": [
    "stats=dfegy.groupby(\"month\").agg({\"ddeaths\": [np.mean, np.std, np.size]})"
   ]
  },
  {
   "cell_type": "code",
   "execution_count": 456,
   "id": "a79f496a",
   "metadata": {},
   "outputs": [],
   "source": [
    "stats=pd.DataFrame(stats)"
   ]
  },
  {
   "cell_type": "code",
   "execution_count": 457,
   "id": "849fd3bc",
   "metadata": {},
   "outputs": [],
   "source": [
    "stats.columns=['mean','std','size']"
   ]
  },
  {
   "cell_type": "code",
   "execution_count": 458,
   "id": "2ef9bec6",
   "metadata": {},
   "outputs": [],
   "source": [
    "def get_ci_lb(x, alpha=0.05):\n",
    "    sample_s=np.std(x)\n",
    "    sample_mean=np.mean(x)\n",
    "    sample_size=len(x)\n",
    "    margin_of_error = t.ppf(1 - alpha/2,sample_size-1)*sample_s/np.sqrt(sample_size-1)\n",
    "    return sample_mean - margin_of_error"
   ]
  },
  {
   "cell_type": "code",
   "execution_count": 459,
   "id": "40cc2d7b",
   "metadata": {},
   "outputs": [],
   "source": [
    "x=dfegy['ddeaths']"
   ]
  },
  {
   "cell_type": "code",
   "execution_count": 460,
   "id": "239cbdab",
   "metadata": {},
   "outputs": [
    {
     "data": {
      "text/plain": [
       "29.98105462075952"
      ]
     },
     "execution_count": 460,
     "metadata": {},
     "output_type": "execute_result"
    }
   ],
   "source": [
    "get_ci_lb(x)"
   ]
  },
  {
   "cell_type": "code",
   "execution_count": 461,
   "id": "f9ff69ed",
   "metadata": {},
   "outputs": [],
   "source": [
    "def get_ci_ub(x, alpha=0.05):\n",
    "    sample_s=np.std(x)\n",
    "    sample_mean=np.mean(x)\n",
    "    sample_size=len(x)\n",
    "    margin_of_error = t.ppf(1 - alpha/2,sample_size-1)*sample_s/np.sqrt(sample_size-1)\n",
    "    return sample_mean + margin_of_error"
   ]
  },
  {
   "cell_type": "code",
   "execution_count": 462,
   "id": "cace5dd9",
   "metadata": {},
   "outputs": [
    {
     "data": {
      "text/plain": [
       "33.34354508811966"
      ]
     },
     "execution_count": 462,
     "metadata": {},
     "output_type": "execute_result"
    }
   ],
   "source": [
    "get_ci_ub(x)"
   ]
  },
  {
   "cell_type": "code",
   "execution_count": 463,
   "id": "f91a74f7",
   "metadata": {},
   "outputs": [
    {
     "data": {
      "text/html": [
       "<div>\n",
       "<style scoped>\n",
       "    .dataframe tbody tr th:only-of-type {\n",
       "        vertical-align: middle;\n",
       "    }\n",
       "\n",
       "    .dataframe tbody tr th {\n",
       "        vertical-align: top;\n",
       "    }\n",
       "\n",
       "    .dataframe thead tr th {\n",
       "        text-align: left;\n",
       "    }\n",
       "\n",
       "    .dataframe thead tr:last-of-type th {\n",
       "        text-align: right;\n",
       "    }\n",
       "</style>\n",
       "<table border=\"1\" class=\"dataframe\">\n",
       "  <thead>\n",
       "    <tr>\n",
       "      <th></th>\n",
       "      <th colspan=\"5\" halign=\"left\">ddeaths</th>\n",
       "    </tr>\n",
       "    <tr>\n",
       "      <th></th>\n",
       "      <th>mean</th>\n",
       "      <th>std</th>\n",
       "      <th>size</th>\n",
       "      <th>get_ci_lb</th>\n",
       "      <th>get_ci_ub</th>\n",
       "    </tr>\n",
       "    <tr>\n",
       "      <th>month</th>\n",
       "      <th></th>\n",
       "      <th></th>\n",
       "      <th></th>\n",
       "      <th></th>\n",
       "      <th></th>\n",
       "    </tr>\n",
       "  </thead>\n",
       "  <tbody>\n",
       "    <tr>\n",
       "      <th>Apr</th>\n",
       "      <td>28.166667</td>\n",
       "      <td>17.826058</td>\n",
       "      <td>60</td>\n",
       "      <td>23.561707</td>\n",
       "      <td>32.771626</td>\n",
       "    </tr>\n",
       "    <tr>\n",
       "      <th>Aug</th>\n",
       "      <td>13.354839</td>\n",
       "      <td>7.503216</td>\n",
       "      <td>62</td>\n",
       "      <td>11.449379</td>\n",
       "      <td>15.260299</td>\n",
       "    </tr>\n",
       "    <tr>\n",
       "      <th>Dec</th>\n",
       "      <td>36.435484</td>\n",
       "      <td>15.919491</td>\n",
       "      <td>62</td>\n",
       "      <td>32.392690</td>\n",
       "      <td>40.478278</td>\n",
       "    </tr>\n",
       "    <tr>\n",
       "      <th>Feb</th>\n",
       "      <td>31.181818</td>\n",
       "      <td>24.163467</td>\n",
       "      <td>44</td>\n",
       "      <td>23.835453</td>\n",
       "      <td>38.528184</td>\n",
       "    </tr>\n",
       "    <tr>\n",
       "      <th>Jan</th>\n",
       "      <td>54.354839</td>\n",
       "      <td>3.638208</td>\n",
       "      <td>31</td>\n",
       "      <td>53.020333</td>\n",
       "      <td>55.689344</td>\n",
       "    </tr>\n",
       "    <tr>\n",
       "      <th>Jul</th>\n",
       "      <td>35.596774</td>\n",
       "      <td>27.745010</td>\n",
       "      <td>62</td>\n",
       "      <td>28.550861</td>\n",
       "      <td>42.642687</td>\n",
       "    </tr>\n",
       "    <tr>\n",
       "      <th>Jun</th>\n",
       "      <td>51.116667</td>\n",
       "      <td>23.279504</td>\n",
       "      <td>60</td>\n",
       "      <td>45.102933</td>\n",
       "      <td>57.130400</td>\n",
       "    </tr>\n",
       "    <tr>\n",
       "      <th>Mar</th>\n",
       "      <td>21.822581</td>\n",
       "      <td>20.717083</td>\n",
       "      <td>62</td>\n",
       "      <td>16.561427</td>\n",
       "      <td>27.083735</td>\n",
       "    </tr>\n",
       "    <tr>\n",
       "      <th>May</th>\n",
       "      <td>37.483871</td>\n",
       "      <td>20.947821</td>\n",
       "      <td>62</td>\n",
       "      <td>32.164120</td>\n",
       "      <td>42.803621</td>\n",
       "    </tr>\n",
       "    <tr>\n",
       "      <th>Nov</th>\n",
       "      <td>36.783333</td>\n",
       "      <td>27.679211</td>\n",
       "      <td>60</td>\n",
       "      <td>29.633035</td>\n",
       "      <td>43.933632</td>\n",
       "    </tr>\n",
       "    <tr>\n",
       "      <th>Oct</th>\n",
       "      <td>26.709677</td>\n",
       "      <td>16.823468</td>\n",
       "      <td>62</td>\n",
       "      <td>22.437316</td>\n",
       "      <td>30.982038</td>\n",
       "    </tr>\n",
       "    <tr>\n",
       "      <th>Sep</th>\n",
       "      <td>18.400000</td>\n",
       "      <td>7.962199</td>\n",
       "      <td>60</td>\n",
       "      <td>16.343146</td>\n",
       "      <td>20.456854</td>\n",
       "    </tr>\n",
       "  </tbody>\n",
       "</table>\n",
       "</div>"
      ],
      "text/plain": [
       "         ddeaths                                      \n",
       "            mean        std size  get_ci_lb  get_ci_ub\n",
       "month                                                 \n",
       "Apr    28.166667  17.826058   60  23.561707  32.771626\n",
       "Aug    13.354839   7.503216   62  11.449379  15.260299\n",
       "Dec    36.435484  15.919491   62  32.392690  40.478278\n",
       "Feb    31.181818  24.163467   44  23.835453  38.528184\n",
       "Jan    54.354839   3.638208   31  53.020333  55.689344\n",
       "Jul    35.596774  27.745010   62  28.550861  42.642687\n",
       "Jun    51.116667  23.279504   60  45.102933  57.130400\n",
       "Mar    21.822581  20.717083   62  16.561427  27.083735\n",
       "May    37.483871  20.947821   62  32.164120  42.803621\n",
       "Nov    36.783333  27.679211   60  29.633035  43.933632\n",
       "Oct    26.709677  16.823468   62  22.437316  30.982038\n",
       "Sep    18.400000   7.962199   60  16.343146  20.456854"
      ]
     },
     "execution_count": 463,
     "metadata": {},
     "output_type": "execute_result"
    }
   ],
   "source": [
    "ci_dcases=statsm=dfegy.groupby(\"month\").agg({\"ddeaths\": [np.mean, np.std, np.size,get_ci_lb,get_ci_ub]})\n",
    "statsm"
   ]
  },
  {
   "cell_type": "code",
   "execution_count": 464,
   "id": "ae2e9d31",
   "metadata": {},
   "outputs": [],
   "source": [
    "statsm.columns=['mean','std','size','lb','ub']"
   ]
  },
  {
   "cell_type": "code",
   "execution_count": 465,
   "id": "8e54c8e7",
   "metadata": {},
   "outputs": [],
   "source": [
    "statsm['month']=statsm.index"
   ]
  },
  {
   "cell_type": "code",
   "execution_count": 466,
   "id": "c412822c",
   "metadata": {},
   "outputs": [
    {
     "data": {
      "image/png": "[encoded data removed]",
      "text/plain": [
       "<Figure size 432x288 with 1 Axes>"
      ]
     },
     "metadata": {
      "needs_background": "light"
     },
     "output_type": "display_data"
    }
   ],
   "source": [
    "plt.plot( 'month', 'mean', data=statsm, marker='s', color='blue', markersize=4,     linewidth=1, linestyle='--')\n",
    "plt.plot( 'month', 'mean', data=statsm, marker='o', color='blue',  markersize=4, linewidth=1,linestyle='-')\n",
    "plt.xlabel(\"Month\")\n",
    "plt.ylabel(\"Average Daily COVID DEATHS\")\n",
    "plt.show()"
   ]
  },
  {
   "cell_type": "markdown",
   "id": "6439c248",
   "metadata": {},
   "source": [
    "Unlike the last one, the highest average of daily deaths occured on Jan while the lowest took place August. Knowing that, we can conclude that August was the least month in both deaths and cases. Also, we can get that Covid wasn't as bas as the rest of the months."
   ]
  },
  {
   "cell_type": "markdown",
   "id": "a5fad713",
   "metadata": {},
   "source": [
    "The next country is Japan and we are going to calculate it by days like we did in South Korea."
   ]
  },
  {
   "cell_type": "code",
   "execution_count": 467,
   "id": "7423ebdf",
   "metadata": {},
   "outputs": [],
   "source": [
    "dfjapan=DF[DF['country']=='Japan']"
   ]
  },
  {
   "cell_type": "code",
   "execution_count": 468,
   "id": "1cc0e352",
   "metadata": {},
   "outputs": [],
   "source": [
    "stats=dfjapan.groupby(\"weekdays\").agg({\"dcases\": [np.mean, np.std, np.size]})"
   ]
  },
  {
   "cell_type": "code",
   "execution_count": 469,
   "id": "1a62c899",
   "metadata": {},
   "outputs": [],
   "source": [
    "stats=pd.DataFrame(stats)"
   ]
  },
  {
   "cell_type": "code",
   "execution_count": 470,
   "id": "d7ea8733",
   "metadata": {},
   "outputs": [
    {
     "data": {
      "text/plain": [
       "(7, 3)"
      ]
     },
     "execution_count": 470,
     "metadata": {},
     "output_type": "execute_result"
    }
   ],
   "source": [
    "stats.shape"
   ]
  },
  {
   "cell_type": "code",
   "execution_count": 471,
   "id": "ceb7652e",
   "metadata": {},
   "outputs": [
    {
     "data": {
      "text/plain": [
       "MultiIndex([('dcases', 'mean'),\n",
       "            ('dcases',  'std'),\n",
       "            ('dcases', 'size')],\n",
       "           )"
      ]
     },
     "execution_count": 471,
     "metadata": {},
     "output_type": "execute_result"
    }
   ],
   "source": [
    "stats.columns"
   ]
  },
  {
   "cell_type": "code",
   "execution_count": 472,
   "id": "96cc3471",
   "metadata": {},
   "outputs": [],
   "source": [
    "stats.columns=['mean','std','size']"
   ]
  },
  {
   "cell_type": "code",
   "execution_count": 473,
   "id": "1231a86a",
   "metadata": {},
   "outputs": [
    {
     "data": {
      "text/plain": [
       "Index(['mean', 'std', 'size'], dtype='object')"
      ]
     },
     "execution_count": 473,
     "metadata": {},
     "output_type": "execute_result"
    }
   ],
   "source": [
    "stats.columns"
   ]
  },
  {
   "cell_type": "code",
   "execution_count": 474,
   "id": "f1e9974f",
   "metadata": {},
   "outputs": [],
   "source": [
    "def get_ci_lb(x, alpha=0.05):\n",
    "    sample_s=np.std(x)\n",
    "    sample_mean=np.mean(x)\n",
    "    sample_size=len(x)\n",
    "    margin_of_error = t.ppf(1 - alpha/2,sample_size-1)*sample_s/np.sqrt(sample_size-1)\n",
    "    return sample_mean - margin_of_error"
   ]
  },
  {
   "cell_type": "code",
   "execution_count": 475,
   "id": "2b3099db",
   "metadata": {},
   "outputs": [],
   "source": [
    "x=dfjapan['dcases']"
   ]
  },
  {
   "cell_type": "code",
   "execution_count": 476,
   "id": "5de74049",
   "metadata": {},
   "outputs": [
    {
     "data": {
      "text/plain": [
       "2125.3916111398644"
      ]
     },
     "execution_count": 476,
     "metadata": {},
     "output_type": "execute_result"
    }
   ],
   "source": [
    "get_ci_lb(x)"
   ]
  },
  {
   "cell_type": "code",
   "execution_count": 477,
   "id": "4059b571",
   "metadata": {},
   "outputs": [],
   "source": [
    "def get_ci_ub(x, alpha=0.05):\n",
    "    sample_s=np.std(x)\n",
    "    sample_mean=np.mean(x)\n",
    "    sample_size=len(x)\n",
    "    margin_of_error = t.ppf(1 - alpha/2,sample_size-1)*sample_s/np.sqrt(sample_size-1)\n",
    "    return sample_mean + margin_of_error"
   ]
  },
  {
   "cell_type": "code",
   "execution_count": 478,
   "id": "c699a759",
   "metadata": {},
   "outputs": [
    {
     "data": {
      "text/plain": [
       "2754.3154311136564"
      ]
     },
     "execution_count": 478,
     "metadata": {},
     "output_type": "execute_result"
    }
   ],
   "source": [
    "get_ci_ub(x)"
   ]
  },
  {
   "cell_type": "code",
   "execution_count": 479,
   "id": "46bb8884",
   "metadata": {},
   "outputs": [
    {
     "data": {
      "text/html": [
       "<div>\n",
       "<style scoped>\n",
       "    .dataframe tbody tr th:only-of-type {\n",
       "        vertical-align: middle;\n",
       "    }\n",
       "\n",
       "    .dataframe tbody tr th {\n",
       "        vertical-align: top;\n",
       "    }\n",
       "\n",
       "    .dataframe thead tr th {\n",
       "        text-align: left;\n",
       "    }\n",
       "\n",
       "    .dataframe thead tr:last-of-type th {\n",
       "        text-align: right;\n",
       "    }\n",
       "</style>\n",
       "<table border=\"1\" class=\"dataframe\">\n",
       "  <thead>\n",
       "    <tr>\n",
       "      <th></th>\n",
       "      <th colspan=\"5\" halign=\"left\">dcases</th>\n",
       "    </tr>\n",
       "    <tr>\n",
       "      <th></th>\n",
       "      <th>mean</th>\n",
       "      <th>std</th>\n",
       "      <th>size</th>\n",
       "      <th>get_ci_lb</th>\n",
       "      <th>get_ci_ub</th>\n",
       "    </tr>\n",
       "    <tr>\n",
       "      <th>weekdays</th>\n",
       "      <th></th>\n",
       "      <th></th>\n",
       "      <th></th>\n",
       "      <th></th>\n",
       "      <th></th>\n",
       "    </tr>\n",
       "  </thead>\n",
       "  <tbody>\n",
       "    <tr>\n",
       "      <th>Fri</th>\n",
       "      <td>2673.098039</td>\n",
       "      <td>4696.199364</td>\n",
       "      <td>102</td>\n",
       "      <td>1750.676957</td>\n",
       "      <td>3595.519121</td>\n",
       "    </tr>\n",
       "    <tr>\n",
       "      <th>Sat</th>\n",
       "      <td>2719.465347</td>\n",
       "      <td>4648.056145</td>\n",
       "      <td>101</td>\n",
       "      <td>1801.880756</td>\n",
       "      <td>3637.049937</td>\n",
       "    </tr>\n",
       "    <tr>\n",
       "      <th>Sun</th>\n",
       "      <td>2292.396040</td>\n",
       "      <td>4011.712370</td>\n",
       "      <td>101</td>\n",
       "      <td>1500.433693</td>\n",
       "      <td>3084.358386</td>\n",
       "    </tr>\n",
       "    <tr>\n",
       "      <th>Mon</th>\n",
       "      <td>1700.762376</td>\n",
       "      <td>3082.632093</td>\n",
       "      <td>101</td>\n",
       "      <td>1092.212131</td>\n",
       "      <td>2309.312622</td>\n",
       "    </tr>\n",
       "    <tr>\n",
       "      <th>Tue</th>\n",
       "      <td>2262.237624</td>\n",
       "      <td>3887.670349</td>\n",
       "      <td>101</td>\n",
       "      <td>1494.762728</td>\n",
       "      <td>3029.712520</td>\n",
       "    </tr>\n",
       "    <tr>\n",
       "      <th>Wed</th>\n",
       "      <td>2666.500000</td>\n",
       "      <td>4580.092283</td>\n",
       "      <td>102</td>\n",
       "      <td>1766.884513</td>\n",
       "      <td>3566.115487</td>\n",
       "    </tr>\n",
       "    <tr>\n",
       "      <th>Thu</th>\n",
       "      <td>2756.823529</td>\n",
       "      <td>4716.551949</td>\n",
       "      <td>102</td>\n",
       "      <td>1830.404820</td>\n",
       "      <td>3683.242239</td>\n",
       "    </tr>\n",
       "  </tbody>\n",
       "</table>\n",
       "</div>"
      ],
      "text/plain": [
       "               dcases                                            \n",
       "                 mean          std size    get_ci_lb    get_ci_ub\n",
       "weekdays                                                         \n",
       "Fri       2673.098039  4696.199364  102  1750.676957  3595.519121\n",
       "Sat       2719.465347  4648.056145  101  1801.880756  3637.049937\n",
       "Sun       2292.396040  4011.712370  101  1500.433693  3084.358386\n",
       "Mon       1700.762376  3082.632093  101  1092.212131  2309.312622\n",
       "Tue       2262.237624  3887.670349  101  1494.762728  3029.712520\n",
       "Wed       2666.500000  4580.092283  102  1766.884513  3566.115487\n",
       "Thu       2756.823529  4716.551949  102  1830.404820  3683.242239"
      ]
     },
     "execution_count": 479,
     "metadata": {},
     "output_type": "execute_result"
    }
   ],
   "source": [
    "ci_ddeaths=statsw=dfjapan.groupby(\"weekdays\").agg({\"dcases\": [np.mean, np.std, np.size,get_ci_lb,get_ci_ub]})\n",
    "statsw"
   ]
  },
  {
   "cell_type": "code",
   "execution_count": 480,
   "id": "066dbd24",
   "metadata": {},
   "outputs": [
    {
     "data": {
      "text/plain": [
       "CategoricalIndex(['Fri', 'Sat', 'Sun', 'Mon', 'Tue', 'Wed', 'Thu'], categories=['Fri', 'Sat', 'Sun', 'Mon', 'Tue', 'Wed', 'Thu'], ordered=True, dtype='category', name='weekdays')"
      ]
     },
     "execution_count": 480,
     "metadata": {},
     "output_type": "execute_result"
    }
   ],
   "source": [
    "statsw.index"
   ]
  },
  {
   "cell_type": "code",
   "execution_count": 481,
   "id": "a1002afe",
   "metadata": {},
   "outputs": [],
   "source": [
    "statsw.columns=['mean','std','size','lb','ub']"
   ]
  },
  {
   "cell_type": "code",
   "execution_count": 482,
   "id": "1648fabc",
   "metadata": {},
   "outputs": [],
   "source": [
    "statsw['weekdays']=statsw.index"
   ]
  },
  {
   "cell_type": "code",
   "execution_count": 483,
   "id": "3c8447b1",
   "metadata": {},
   "outputs": [
    {
     "data": {
      "text/html": [
       "<div>\n",
       "<style scoped>\n",
       "    .dataframe tbody tr th:only-of-type {\n",
       "        vertical-align: middle;\n",
       "    }\n",
       "\n",
       "    .dataframe tbody tr th {\n",
       "        vertical-align: top;\n",
       "    }\n",
       "\n",
       "    .dataframe thead th {\n",
       "        text-align: right;\n",
       "    }\n",
       "</style>\n",
       "<table border=\"1\" class=\"dataframe\">\n",
       "  <thead>\n",
       "    <tr style=\"text-align: right;\">\n",
       "      <th></th>\n",
       "      <th>mean</th>\n",
       "      <th>std</th>\n",
       "      <th>size</th>\n",
       "      <th>lb</th>\n",
       "      <th>ub</th>\n",
       "      <th>weekdays</th>\n",
       "    </tr>\n",
       "    <tr>\n",
       "      <th>weekdays</th>\n",
       "      <th></th>\n",
       "      <th></th>\n",
       "      <th></th>\n",
       "      <th></th>\n",
       "      <th></th>\n",
       "      <th></th>\n",
       "    </tr>\n",
       "  </thead>\n",
       "  <tbody>\n",
       "    <tr>\n",
       "      <th>Fri</th>\n",
       "      <td>2673.098039</td>\n",
       "      <td>4696.199364</td>\n",
       "      <td>102</td>\n",
       "      <td>1750.676957</td>\n",
       "      <td>3595.519121</td>\n",
       "      <td>Fri</td>\n",
       "    </tr>\n",
       "    <tr>\n",
       "      <th>Sat</th>\n",
       "      <td>2719.465347</td>\n",
       "      <td>4648.056145</td>\n",
       "      <td>101</td>\n",
       "      <td>1801.880756</td>\n",
       "      <td>3637.049937</td>\n",
       "      <td>Sat</td>\n",
       "    </tr>\n",
       "    <tr>\n",
       "      <th>Sun</th>\n",
       "      <td>2292.396040</td>\n",
       "      <td>4011.712370</td>\n",
       "      <td>101</td>\n",
       "      <td>1500.433693</td>\n",
       "      <td>3084.358386</td>\n",
       "      <td>Sun</td>\n",
       "    </tr>\n",
       "    <tr>\n",
       "      <th>Mon</th>\n",
       "      <td>1700.762376</td>\n",
       "      <td>3082.632093</td>\n",
       "      <td>101</td>\n",
       "      <td>1092.212131</td>\n",
       "      <td>2309.312622</td>\n",
       "      <td>Mon</td>\n",
       "    </tr>\n",
       "    <tr>\n",
       "      <th>Tue</th>\n",
       "      <td>2262.237624</td>\n",
       "      <td>3887.670349</td>\n",
       "      <td>101</td>\n",
       "      <td>1494.762728</td>\n",
       "      <td>3029.712520</td>\n",
       "      <td>Tue</td>\n",
       "    </tr>\n",
       "    <tr>\n",
       "      <th>Wed</th>\n",
       "      <td>2666.500000</td>\n",
       "      <td>4580.092283</td>\n",
       "      <td>102</td>\n",
       "      <td>1766.884513</td>\n",
       "      <td>3566.115487</td>\n",
       "      <td>Wed</td>\n",
       "    </tr>\n",
       "    <tr>\n",
       "      <th>Thu</th>\n",
       "      <td>2756.823529</td>\n",
       "      <td>4716.551949</td>\n",
       "      <td>102</td>\n",
       "      <td>1830.404820</td>\n",
       "      <td>3683.242239</td>\n",
       "      <td>Thu</td>\n",
       "    </tr>\n",
       "  </tbody>\n",
       "</table>\n",
       "</div>"
      ],
      "text/plain": [
       "                 mean          std  size           lb           ub weekdays\n",
       "weekdays                                                                   \n",
       "Fri       2673.098039  4696.199364   102  1750.676957  3595.519121      Fri\n",
       "Sat       2719.465347  4648.056145   101  1801.880756  3637.049937      Sat\n",
       "Sun       2292.396040  4011.712370   101  1500.433693  3084.358386      Sun\n",
       "Mon       1700.762376  3082.632093   101  1092.212131  2309.312622      Mon\n",
       "Tue       2262.237624  3887.670349   101  1494.762728  3029.712520      Tue\n",
       "Wed       2666.500000  4580.092283   102  1766.884513  3566.115487      Wed\n",
       "Thu       2756.823529  4716.551949   102  1830.404820  3683.242239      Thu"
      ]
     },
     "execution_count": 483,
     "metadata": {},
     "output_type": "execute_result"
    }
   ],
   "source": [
    "statsw"
   ]
  },
  {
   "cell_type": "code",
   "execution_count": 484,
   "id": "f01b5d37",
   "metadata": {
    "scrolled": true
   },
   "outputs": [
    {
     "data": {
      "image/png": "[encoded data removed]",
      "text/plain": [
       "<Figure size 432x288 with 1 Axes>"
      ]
     },
     "metadata": {
      "needs_background": "light"
     },
     "output_type": "display_data"
    }
   ],
   "source": [
    "plt.plot( 'weekdays', 'mean', data=statsw, marker='s', color='green', markersize=4,     linewidth=1, linestyle='--')\n",
    "plt.plot( 'weekdays', 'mean', data=statsw, marker='o', color='green',  markersize=4, linewidth=1,linestyle='-')\n",
    "plt.xlabel(\"weekdays\")\n",
    "plt.ylabel(\"Average Daily COVID CASES\")\n",
    "plt.show()"
   ]
  },
  {
   "cell_type": "markdown",
   "id": "142145b8",
   "metadata": {},
   "source": [
    "The shape of this graph shows that the average daily cases in Japan were high, then low, and then high. This is also shown in the table."
   ]
  },
  {
   "cell_type": "markdown",
   "id": "3ee2dc44",
   "metadata": {},
   "source": [
    "Now, we will compute the same thing but for deaths"
   ]
  },
  {
   "cell_type": "code",
   "execution_count": 485,
   "id": "61ebbf97",
   "metadata": {},
   "outputs": [],
   "source": [
    "stats=dfjapan.groupby(\"weekdays\").agg({\"ddeaths\": [np.mean, np.std, np.size]})"
   ]
  },
  {
   "cell_type": "code",
   "execution_count": 486,
   "id": "f35a314d",
   "metadata": {},
   "outputs": [],
   "source": [
    "stats=pd.DataFrame(stats)"
   ]
  },
  {
   "cell_type": "code",
   "execution_count": 487,
   "id": "9997d827",
   "metadata": {},
   "outputs": [],
   "source": [
    "stats.columns=['mean','std','size']"
   ]
  },
  {
   "cell_type": "code",
   "execution_count": 488,
   "id": "005971a8",
   "metadata": {},
   "outputs": [],
   "source": [
    "def get_ci_lb(x, alpha=0.05):\n",
    "    sample_s=np.std(x)\n",
    "    sample_mean=np.mean(x)\n",
    "    sample_size=len(x)\n",
    "    margin_of_error = t.ppf(1 - alpha/2,sample_size-1)*sample_s/np.sqrt(sample_size-1)\n",
    "    return sample_mean - margin_of_error"
   ]
  },
  {
   "cell_type": "code",
   "execution_count": 489,
   "id": "710728fd",
   "metadata": {},
   "outputs": [],
   "source": [
    "x=dfjapan['ddeaths']"
   ]
  },
  {
   "cell_type": "code",
   "execution_count": 490,
   "id": "8cdd3b64",
   "metadata": {},
   "outputs": [
    {
     "data": {
      "text/plain": [
       "23.688763297929274"
      ]
     },
     "execution_count": 490,
     "metadata": {},
     "output_type": "execute_result"
    }
   ],
   "source": [
    "get_ci_lb(x)"
   ]
  },
  {
   "cell_type": "code",
   "execution_count": 491,
   "id": "0db2eba4",
   "metadata": {},
   "outputs": [],
   "source": [
    "def get_ci_ub(x, alpha=0.05):\n",
    "    sample_s=np.std(x)\n",
    "    sample_mean=np.mean(x)\n",
    "    sample_size=len(x)\n",
    "    margin_of_error = t.ppf(1 - alpha/2,sample_size-1)*sample_s/np.sqrt(sample_size-1)\n",
    "    return sample_mean + margin_of_error"
   ]
  },
  {
   "cell_type": "code",
   "execution_count": 492,
   "id": "4458c648",
   "metadata": {},
   "outputs": [
    {
     "data": {
      "text/plain": [
       "28.111236702070723"
      ]
     },
     "execution_count": 492,
     "metadata": {},
     "output_type": "execute_result"
    }
   ],
   "source": [
    "get_ci_ub(x)"
   ]
  },
  {
   "cell_type": "code",
   "execution_count": 493,
   "id": "6237f6bb",
   "metadata": {},
   "outputs": [
    {
     "data": {
      "text/html": [
       "<div>\n",
       "<style scoped>\n",
       "    .dataframe tbody tr th:only-of-type {\n",
       "        vertical-align: middle;\n",
       "    }\n",
       "\n",
       "    .dataframe tbody tr th {\n",
       "        vertical-align: top;\n",
       "    }\n",
       "\n",
       "    .dataframe thead tr th {\n",
       "        text-align: left;\n",
       "    }\n",
       "\n",
       "    .dataframe thead tr:last-of-type th {\n",
       "        text-align: right;\n",
       "    }\n",
       "</style>\n",
       "<table border=\"1\" class=\"dataframe\">\n",
       "  <thead>\n",
       "    <tr>\n",
       "      <th></th>\n",
       "      <th colspan=\"5\" halign=\"left\">ddeaths</th>\n",
       "    </tr>\n",
       "    <tr>\n",
       "      <th></th>\n",
       "      <th>mean</th>\n",
       "      <th>std</th>\n",
       "      <th>size</th>\n",
       "      <th>get_ci_lb</th>\n",
       "      <th>get_ci_ub</th>\n",
       "    </tr>\n",
       "    <tr>\n",
       "      <th>weekdays</th>\n",
       "      <th></th>\n",
       "      <th></th>\n",
       "      <th></th>\n",
       "      <th></th>\n",
       "      <th></th>\n",
       "    </tr>\n",
       "  </thead>\n",
       "  <tbody>\n",
       "    <tr>\n",
       "      <th>Fri</th>\n",
       "      <td>28.686275</td>\n",
       "      <td>31.542830</td>\n",
       "      <td>102</td>\n",
       "      <td>22.490675</td>\n",
       "      <td>34.881874</td>\n",
       "    </tr>\n",
       "    <tr>\n",
       "      <th>Sat</th>\n",
       "      <td>23.346535</td>\n",
       "      <td>27.007938</td>\n",
       "      <td>101</td>\n",
       "      <td>18.014829</td>\n",
       "      <td>28.678240</td>\n",
       "    </tr>\n",
       "    <tr>\n",
       "      <th>Sun</th>\n",
       "      <td>16.861386</td>\n",
       "      <td>18.954171</td>\n",
       "      <td>101</td>\n",
       "      <td>13.119595</td>\n",
       "      <td>20.603177</td>\n",
       "    </tr>\n",
       "    <tr>\n",
       "      <th>Mon</th>\n",
       "      <td>23.099010</td>\n",
       "      <td>25.410433</td>\n",
       "      <td>101</td>\n",
       "      <td>18.082672</td>\n",
       "      <td>28.115348</td>\n",
       "    </tr>\n",
       "    <tr>\n",
       "      <th>Tue</th>\n",
       "      <td>31.138614</td>\n",
       "      <td>36.701779</td>\n",
       "      <td>101</td>\n",
       "      <td>23.893222</td>\n",
       "      <td>38.384005</td>\n",
       "    </tr>\n",
       "    <tr>\n",
       "      <th>Wed</th>\n",
       "      <td>30.049020</td>\n",
       "      <td>33.656205</td>\n",
       "      <td>102</td>\n",
       "      <td>23.438314</td>\n",
       "      <td>36.659726</td>\n",
       "    </tr>\n",
       "    <tr>\n",
       "      <th>Thu</th>\n",
       "      <td>28.029412</td>\n",
       "      <td>31.470387</td>\n",
       "      <td>102</td>\n",
       "      <td>21.848041</td>\n",
       "      <td>34.210782</td>\n",
       "    </tr>\n",
       "  </tbody>\n",
       "</table>\n",
       "</div>"
      ],
      "text/plain": [
       "            ddeaths                                      \n",
       "               mean        std size  get_ci_lb  get_ci_ub\n",
       "weekdays                                                 \n",
       "Fri       28.686275  31.542830  102  22.490675  34.881874\n",
       "Sat       23.346535  27.007938  101  18.014829  28.678240\n",
       "Sun       16.861386  18.954171  101  13.119595  20.603177\n",
       "Mon       23.099010  25.410433  101  18.082672  28.115348\n",
       "Tue       31.138614  36.701779  101  23.893222  38.384005\n",
       "Wed       30.049020  33.656205  102  23.438314  36.659726\n",
       "Thu       28.029412  31.470387  102  21.848041  34.210782"
      ]
     },
     "execution_count": 493,
     "metadata": {},
     "output_type": "execute_result"
    }
   ],
   "source": [
    "ci_ddeaths=statsw=dfjapan.groupby(\"weekdays\").agg({\"ddeaths\": [np.mean, np.std, np.size,get_ci_lb,get_ci_ub]})\n",
    "statsw"
   ]
  },
  {
   "cell_type": "code",
   "execution_count": 494,
   "id": "5b1076f0",
   "metadata": {},
   "outputs": [],
   "source": [
    "statsw.columns=['mean','std','size','lb','ub']"
   ]
  },
  {
   "cell_type": "code",
   "execution_count": 495,
   "id": "5cada5a8",
   "metadata": {},
   "outputs": [],
   "source": [
    "statsw['weekdays']=statsw.index"
   ]
  },
  {
   "cell_type": "code",
   "execution_count": 496,
   "id": "50b38aab",
   "metadata": {},
   "outputs": [
    {
     "data": {
      "image/png": "[encoded data removed]",
      "text/plain": [
       "<Figure size 432x288 with 1 Axes>"
      ]
     },
     "metadata": {
      "needs_background": "light"
     },
     "output_type": "display_data"
    }
   ],
   "source": [
    "plt.plot( 'weekdays', 'mean', data=statsw, marker='s', color='green', markersize=4,     linewidth=1, linestyle='--')\n",
    "plt.plot( 'weekdays', 'mean', data=statsw, marker='o', color='green',  markersize=4, linewidth=1,linestyle='-')\n",
    "plt.xlabel(\"weekdays\")\n",
    "plt.ylabel(\"Average Daily COVID DEATHS\")\n",
    "plt.show()"
   ]
  },
  {
   "cell_type": "markdown",
   "id": "55fcddb0",
   "metadata": {},
   "source": [
    "Here, Sun is the lowest according to the average daily Covid deaths and Tue is the highest."
   ]
  },
  {
   "cell_type": "markdown",
   "id": "99f4b3a5",
   "metadata": {},
   "source": [
    "Lastly, we will look at the confirmed cases and deaths per month in the US."
   ]
  },
  {
   "cell_type": "code",
   "execution_count": 497,
   "id": "6691e0e4",
   "metadata": {},
   "outputs": [],
   "source": [
    "dfus=DF[DF['country']=='United States']"
   ]
  },
  {
   "cell_type": "code",
   "execution_count": 498,
   "id": "f014f3d8",
   "metadata": {},
   "outputs": [],
   "source": [
    "stats=dfus.groupby(\"month\").agg({\"dcases\": [np.mean, np.std, np.size]})"
   ]
  },
  {
   "cell_type": "code",
   "execution_count": 499,
   "id": "e618fb51",
   "metadata": {},
   "outputs": [],
   "source": [
    "stats=pd.DataFrame(stats)"
   ]
  },
  {
   "cell_type": "code",
   "execution_count": 500,
   "id": "2561b428",
   "metadata": {},
   "outputs": [
    {
     "data": {
      "text/plain": [
       "(12, 3)"
      ]
     },
     "execution_count": 500,
     "metadata": {},
     "output_type": "execute_result"
    }
   ],
   "source": [
    "stats.shape"
   ]
  },
  {
   "cell_type": "code",
   "execution_count": 501,
   "id": "b9b8415f",
   "metadata": {},
   "outputs": [
    {
     "data": {
      "text/plain": [
       "MultiIndex([('dcases', 'mean'),\n",
       "            ('dcases',  'std'),\n",
       "            ('dcases', 'size')],\n",
       "           )"
      ]
     },
     "execution_count": 501,
     "metadata": {},
     "output_type": "execute_result"
    }
   ],
   "source": [
    "stats.columns"
   ]
  },
  {
   "cell_type": "code",
   "execution_count": 502,
   "id": "f82befa4",
   "metadata": {},
   "outputs": [],
   "source": [
    "stats.columns=['mean','std','size']"
   ]
  },
  {
   "cell_type": "code",
   "execution_count": 503,
   "id": "6ef55b60",
   "metadata": {},
   "outputs": [
    {
     "data": {
      "text/plain": [
       "Index(['mean', 'std', 'size'], dtype='object')"
      ]
     },
     "execution_count": 503,
     "metadata": {},
     "output_type": "execute_result"
    }
   ],
   "source": [
    "stats.columns"
   ]
  },
  {
   "cell_type": "code",
   "execution_count": 504,
   "id": "a6831166",
   "metadata": {},
   "outputs": [],
   "source": [
    "def get_ci_lb(x, alpha=0.05):\n",
    "    sample_s=np.std(x)\n",
    "    sample_mean=np.mean(x)\n",
    "    sample_size=len(x)\n",
    "    margin_of_error = t.ppf(1 - alpha/2,sample_size-1)*sample_s/np.sqrt(sample_size-1)\n",
    "    return sample_mean - margin_of_error"
   ]
  },
  {
   "cell_type": "code",
   "execution_count": 505,
   "id": "5ca24d5f",
   "metadata": {},
   "outputs": [],
   "source": [
    "x=dfus['dcases']"
   ]
  },
  {
   "cell_type": "code",
   "execution_count": 506,
   "id": "e3934ab8",
   "metadata": {},
   "outputs": [
    {
     "data": {
      "text/plain": [
       "71642.2273804623"
      ]
     },
     "execution_count": 506,
     "metadata": {},
     "output_type": "execute_result"
    }
   ],
   "source": [
    "get_ci_lb(x)"
   ]
  },
  {
   "cell_type": "code",
   "execution_count": 507,
   "id": "4ec40350",
   "metadata": {},
   "outputs": [],
   "source": [
    "def get_ci_ub(x, alpha=0.05):\n",
    "    sample_s=np.std(x)\n",
    "    sample_mean=np.mean(x)\n",
    "    sample_size=len(x)\n",
    "    margin_of_error = t.ppf(1 - alpha/2,sample_size-1)*sample_s/np.sqrt(sample_size-1)\n",
    "    return sample_mean + margin_of_error"
   ]
  },
  {
   "cell_type": "code",
   "execution_count": 508,
   "id": "7a91b17a",
   "metadata": {},
   "outputs": [
    {
     "data": {
      "text/plain": [
       "82752.31909841094"
      ]
     },
     "execution_count": 508,
     "metadata": {},
     "output_type": "execute_result"
    }
   ],
   "source": [
    "get_ci_ub(x)"
   ]
  },
  {
   "cell_type": "code",
   "execution_count": 509,
   "id": "ec7e9c16",
   "metadata": {},
   "outputs": [
    {
     "data": {
      "text/html": [
       "<div>\n",
       "<style scoped>\n",
       "    .dataframe tbody tr th:only-of-type {\n",
       "        vertical-align: middle;\n",
       "    }\n",
       "\n",
       "    .dataframe tbody tr th {\n",
       "        vertical-align: top;\n",
       "    }\n",
       "\n",
       "    .dataframe thead tr th {\n",
       "        text-align: left;\n",
       "    }\n",
       "\n",
       "    .dataframe thead tr:last-of-type th {\n",
       "        text-align: right;\n",
       "    }\n",
       "</style>\n",
       "<table border=\"1\" class=\"dataframe\">\n",
       "  <thead>\n",
       "    <tr>\n",
       "      <th></th>\n",
       "      <th colspan=\"5\" halign=\"left\">dcases</th>\n",
       "    </tr>\n",
       "    <tr>\n",
       "      <th></th>\n",
       "      <th>mean</th>\n",
       "      <th>std</th>\n",
       "      <th>size</th>\n",
       "      <th>get_ci_lb</th>\n",
       "      <th>get_ci_ub</th>\n",
       "    </tr>\n",
       "    <tr>\n",
       "      <th>month</th>\n",
       "      <th></th>\n",
       "      <th></th>\n",
       "      <th></th>\n",
       "      <th></th>\n",
       "      <th></th>\n",
       "    </tr>\n",
       "  </thead>\n",
       "  <tbody>\n",
       "    <tr>\n",
       "      <th>Jan</th>\n",
       "      <td>150053.024390</td>\n",
       "      <td>96139.362790</td>\n",
       "      <td>41</td>\n",
       "      <td>119707.697286</td>\n",
       "      <td>180398.351494</td>\n",
       "    </tr>\n",
       "    <tr>\n",
       "      <th>Feb</th>\n",
       "      <td>42262.649123</td>\n",
       "      <td>46506.630379</td>\n",
       "      <td>57</td>\n",
       "      <td>29922.779102</td>\n",
       "      <td>54602.519143</td>\n",
       "    </tr>\n",
       "    <tr>\n",
       "      <th>Mar</th>\n",
       "      <td>32362.080645</td>\n",
       "      <td>28088.831049</td>\n",
       "      <td>62</td>\n",
       "      <td>25228.853207</td>\n",
       "      <td>39495.308083</td>\n",
       "    </tr>\n",
       "    <tr>\n",
       "      <th>Apr</th>\n",
       "      <td>46206.983333</td>\n",
       "      <td>19424.943033</td>\n",
       "      <td>60</td>\n",
       "      <td>41188.988453</td>\n",
       "      <td>51224.978214</td>\n",
       "    </tr>\n",
       "    <tr>\n",
       "      <th>May</th>\n",
       "      <td>26359.209677</td>\n",
       "      <td>9226.362611</td>\n",
       "      <td>62</td>\n",
       "      <td>24016.152296</td>\n",
       "      <td>28702.267059</td>\n",
       "    </tr>\n",
       "    <tr>\n",
       "      <th>Jun</th>\n",
       "      <td>20927.733333</td>\n",
       "      <td>10905.385581</td>\n",
       "      <td>60</td>\n",
       "      <td>18110.573513</td>\n",
       "      <td>23744.893153</td>\n",
       "    </tr>\n",
       "    <tr>\n",
       "      <th>Jul</th>\n",
       "      <td>51912.387097</td>\n",
       "      <td>28977.563351</td>\n",
       "      <td>62</td>\n",
       "      <td>44553.463914</td>\n",
       "      <td>59271.310280</td>\n",
       "    </tr>\n",
       "    <tr>\n",
       "      <th>Aug</th>\n",
       "      <td>93187.225806</td>\n",
       "      <td>66340.454536</td>\n",
       "      <td>62</td>\n",
       "      <td>76339.904900</td>\n",
       "      <td>110034.546713</td>\n",
       "    </tr>\n",
       "    <tr>\n",
       "      <th>Sep</th>\n",
       "      <td>89110.316667</td>\n",
       "      <td>66304.148991</td>\n",
       "      <td>60</td>\n",
       "      <td>71982.138755</td>\n",
       "      <td>106238.494579</td>\n",
       "    </tr>\n",
       "    <tr>\n",
       "      <th>Oct</th>\n",
       "      <td>71428.387097</td>\n",
       "      <td>29855.299548</td>\n",
       "      <td>62</td>\n",
       "      <td>63846.560657</td>\n",
       "      <td>79010.213537</td>\n",
       "    </tr>\n",
       "    <tr>\n",
       "      <th>Nov</th>\n",
       "      <td>116959.483333</td>\n",
       "      <td>49303.330529</td>\n",
       "      <td>60</td>\n",
       "      <td>104223.082522</td>\n",
       "      <td>129695.884144</td>\n",
       "    </tr>\n",
       "    <tr>\n",
       "      <th>Dec</th>\n",
       "      <td>206309.548387</td>\n",
       "      <td>104452.758335</td>\n",
       "      <td>62</td>\n",
       "      <td>179783.514589</td>\n",
       "      <td>232835.582185</td>\n",
       "    </tr>\n",
       "  </tbody>\n",
       "</table>\n",
       "</div>"
      ],
      "text/plain": [
       "              dcases                                                  \n",
       "                mean            std size      get_ci_lb      get_ci_ub\n",
       "month                                                                 \n",
       "Jan    150053.024390   96139.362790   41  119707.697286  180398.351494\n",
       "Feb     42262.649123   46506.630379   57   29922.779102   54602.519143\n",
       "Mar     32362.080645   28088.831049   62   25228.853207   39495.308083\n",
       "Apr     46206.983333   19424.943033   60   41188.988453   51224.978214\n",
       "May     26359.209677    9226.362611   62   24016.152296   28702.267059\n",
       "Jun     20927.733333   10905.385581   60   18110.573513   23744.893153\n",
       "Jul     51912.387097   28977.563351   62   44553.463914   59271.310280\n",
       "Aug     93187.225806   66340.454536   62   76339.904900  110034.546713\n",
       "Sep     89110.316667   66304.148991   60   71982.138755  106238.494579\n",
       "Oct     71428.387097   29855.299548   62   63846.560657   79010.213537\n",
       "Nov    116959.483333   49303.330529   60  104223.082522  129695.884144\n",
       "Dec    206309.548387  104452.758335   62  179783.514589  232835.582185"
      ]
     },
     "execution_count": 509,
     "metadata": {},
     "output_type": "execute_result"
    }
   ],
   "source": [
    "ci_dcases=statsm=dfus.groupby(\"month\").agg({\"dcases\": [np.mean, np.std, np.size,get_ci_lb,get_ci_ub]})\n",
    "statsm"
   ]
  },
  {
   "cell_type": "code",
   "execution_count": 510,
   "id": "0d547445",
   "metadata": {},
   "outputs": [
    {
     "data": {
      "text/plain": [
       "CategoricalIndex(['Jan', 'Feb', 'Mar', 'Apr', 'May', 'Jun', 'Jul', 'Aug',\n",
       "                  'Sep', 'Oct', 'Nov', 'Dec'],\n",
       "                 categories=['Jan', 'Feb', 'Mar', 'Apr', 'May', 'Jun', 'Jul', 'Aug', ...], ordered=True, dtype='category', name='month')"
      ]
     },
     "execution_count": 510,
     "metadata": {},
     "output_type": "execute_result"
    }
   ],
   "source": [
    "statsm.index"
   ]
  },
  {
   "cell_type": "code",
   "execution_count": 511,
   "id": "c1a0e071",
   "metadata": {},
   "outputs": [],
   "source": [
    "statsm.columns=['mean','std','size','lb','ub']"
   ]
  },
  {
   "cell_type": "code",
   "execution_count": 512,
   "id": "f50070eb",
   "metadata": {},
   "outputs": [],
   "source": [
    "statsm['month']=statsm.index"
   ]
  },
  {
   "cell_type": "code",
   "execution_count": 513,
   "id": "33f9b67b",
   "metadata": {},
   "outputs": [
    {
     "data": {
      "text/html": [
       "<div>\n",
       "<style scoped>\n",
       "    .dataframe tbody tr th:only-of-type {\n",
       "        vertical-align: middle;\n",
       "    }\n",
       "\n",
       "    .dataframe tbody tr th {\n",
       "        vertical-align: top;\n",
       "    }\n",
       "\n",
       "    .dataframe thead th {\n",
       "        text-align: right;\n",
       "    }\n",
       "</style>\n",
       "<table border=\"1\" class=\"dataframe\">\n",
       "  <thead>\n",
       "    <tr style=\"text-align: right;\">\n",
       "      <th></th>\n",
       "      <th>mean</th>\n",
       "      <th>std</th>\n",
       "      <th>size</th>\n",
       "      <th>lb</th>\n",
       "      <th>ub</th>\n",
       "      <th>month</th>\n",
       "    </tr>\n",
       "    <tr>\n",
       "      <th>month</th>\n",
       "      <th></th>\n",
       "      <th></th>\n",
       "      <th></th>\n",
       "      <th></th>\n",
       "      <th></th>\n",
       "      <th></th>\n",
       "    </tr>\n",
       "  </thead>\n",
       "  <tbody>\n",
       "    <tr>\n",
       "      <th>Jan</th>\n",
       "      <td>150053.024390</td>\n",
       "      <td>96139.362790</td>\n",
       "      <td>41</td>\n",
       "      <td>119707.697286</td>\n",
       "      <td>180398.351494</td>\n",
       "      <td>Jan</td>\n",
       "    </tr>\n",
       "    <tr>\n",
       "      <th>Feb</th>\n",
       "      <td>42262.649123</td>\n",
       "      <td>46506.630379</td>\n",
       "      <td>57</td>\n",
       "      <td>29922.779102</td>\n",
       "      <td>54602.519143</td>\n",
       "      <td>Feb</td>\n",
       "    </tr>\n",
       "    <tr>\n",
       "      <th>Mar</th>\n",
       "      <td>32362.080645</td>\n",
       "      <td>28088.831049</td>\n",
       "      <td>62</td>\n",
       "      <td>25228.853207</td>\n",
       "      <td>39495.308083</td>\n",
       "      <td>Mar</td>\n",
       "    </tr>\n",
       "    <tr>\n",
       "      <th>Apr</th>\n",
       "      <td>46206.983333</td>\n",
       "      <td>19424.943033</td>\n",
       "      <td>60</td>\n",
       "      <td>41188.988453</td>\n",
       "      <td>51224.978214</td>\n",
       "      <td>Apr</td>\n",
       "    </tr>\n",
       "    <tr>\n",
       "      <th>May</th>\n",
       "      <td>26359.209677</td>\n",
       "      <td>9226.362611</td>\n",
       "      <td>62</td>\n",
       "      <td>24016.152296</td>\n",
       "      <td>28702.267059</td>\n",
       "      <td>May</td>\n",
       "    </tr>\n",
       "    <tr>\n",
       "      <th>Jun</th>\n",
       "      <td>20927.733333</td>\n",
       "      <td>10905.385581</td>\n",
       "      <td>60</td>\n",
       "      <td>18110.573513</td>\n",
       "      <td>23744.893153</td>\n",
       "      <td>Jun</td>\n",
       "    </tr>\n",
       "    <tr>\n",
       "      <th>Jul</th>\n",
       "      <td>51912.387097</td>\n",
       "      <td>28977.563351</td>\n",
       "      <td>62</td>\n",
       "      <td>44553.463914</td>\n",
       "      <td>59271.310280</td>\n",
       "      <td>Jul</td>\n",
       "    </tr>\n",
       "    <tr>\n",
       "      <th>Aug</th>\n",
       "      <td>93187.225806</td>\n",
       "      <td>66340.454536</td>\n",
       "      <td>62</td>\n",
       "      <td>76339.904900</td>\n",
       "      <td>110034.546713</td>\n",
       "      <td>Aug</td>\n",
       "    </tr>\n",
       "    <tr>\n",
       "      <th>Sep</th>\n",
       "      <td>89110.316667</td>\n",
       "      <td>66304.148991</td>\n",
       "      <td>60</td>\n",
       "      <td>71982.138755</td>\n",
       "      <td>106238.494579</td>\n",
       "      <td>Sep</td>\n",
       "    </tr>\n",
       "    <tr>\n",
       "      <th>Oct</th>\n",
       "      <td>71428.387097</td>\n",
       "      <td>29855.299548</td>\n",
       "      <td>62</td>\n",
       "      <td>63846.560657</td>\n",
       "      <td>79010.213537</td>\n",
       "      <td>Oct</td>\n",
       "    </tr>\n",
       "    <tr>\n",
       "      <th>Nov</th>\n",
       "      <td>116959.483333</td>\n",
       "      <td>49303.330529</td>\n",
       "      <td>60</td>\n",
       "      <td>104223.082522</td>\n",
       "      <td>129695.884144</td>\n",
       "      <td>Nov</td>\n",
       "    </tr>\n",
       "    <tr>\n",
       "      <th>Dec</th>\n",
       "      <td>206309.548387</td>\n",
       "      <td>104452.758335</td>\n",
       "      <td>62</td>\n",
       "      <td>179783.514589</td>\n",
       "      <td>232835.582185</td>\n",
       "      <td>Dec</td>\n",
       "    </tr>\n",
       "  </tbody>\n",
       "</table>\n",
       "</div>"
      ],
      "text/plain": [
       "                mean            std  size             lb             ub month\n",
       "month                                                                        \n",
       "Jan    150053.024390   96139.362790    41  119707.697286  180398.351494   Jan\n",
       "Feb     42262.649123   46506.630379    57   29922.779102   54602.519143   Feb\n",
       "Mar     32362.080645   28088.831049    62   25228.853207   39495.308083   Mar\n",
       "Apr     46206.983333   19424.943033    60   41188.988453   51224.978214   Apr\n",
       "May     26359.209677    9226.362611    62   24016.152296   28702.267059   May\n",
       "Jun     20927.733333   10905.385581    60   18110.573513   23744.893153   Jun\n",
       "Jul     51912.387097   28977.563351    62   44553.463914   59271.310280   Jul\n",
       "Aug     93187.225806   66340.454536    62   76339.904900  110034.546713   Aug\n",
       "Sep     89110.316667   66304.148991    60   71982.138755  106238.494579   Sep\n",
       "Oct     71428.387097   29855.299548    62   63846.560657   79010.213537   Oct\n",
       "Nov    116959.483333   49303.330529    60  104223.082522  129695.884144   Nov\n",
       "Dec    206309.548387  104452.758335    62  179783.514589  232835.582185   Dec"
      ]
     },
     "execution_count": 513,
     "metadata": {},
     "output_type": "execute_result"
    }
   ],
   "source": [
    "statsm"
   ]
  },
  {
   "cell_type": "code",
   "execution_count": 514,
   "id": "46c37bd5",
   "metadata": {},
   "outputs": [
    {
     "data": {
      "image/png": "[encoded data removed]",
      "text/plain": [
       "<Figure size 432x288 with 1 Axes>"
      ]
     },
     "metadata": {
      "needs_background": "light"
     },
     "output_type": "display_data"
    }
   ],
   "source": [
    "plt.plot( 'month', 'mean', data=statsm, marker='s', color='orange', markersize=4,     linewidth=1, linestyle='--')\n",
    "plt.plot( 'month', 'mean', data=statsm, marker='o', color='orange',  markersize=4, linewidth=1,linestyle='-')\n",
    "plt.xlabel(\"Month\")\n",
    "plt.ylabel(\"Average Daily COVID CASES\")\n",
    "plt.show()"
   ]
  },
  {
   "cell_type": "markdown",
   "id": "35ba1a94",
   "metadata": {},
   "source": [
    "During December, the US was at it peak and then follows Jan. With this information we can predict that it is probable that these two months account for the highest number of daily deaths, too."
   ]
  },
  {
   "cell_type": "markdown",
   "id": "c274a199",
   "metadata": {},
   "source": [
    "Now for deaths"
   ]
  },
  {
   "cell_type": "code",
   "execution_count": 515,
   "id": "b695d662",
   "metadata": {},
   "outputs": [],
   "source": [
    "stats=dfus.groupby(\"month\").agg({\"ddeaths\": [np.mean, np.std, np.size]})"
   ]
  },
  {
   "cell_type": "code",
   "execution_count": 516,
   "id": "bcf00764",
   "metadata": {},
   "outputs": [],
   "source": [
    "stats=pd.DataFrame(stats)"
   ]
  },
  {
   "cell_type": "code",
   "execution_count": 517,
   "id": "54568247",
   "metadata": {},
   "outputs": [],
   "source": [
    "stats.columns=['mean','std','size']"
   ]
  },
  {
   "cell_type": "code",
   "execution_count": 518,
   "id": "9bd0ab15",
   "metadata": {},
   "outputs": [],
   "source": [
    "def get_ci_lb(x, alpha=0.05):\n",
    "    sample_s=np.std(x)\n",
    "    sample_mean=np.mean(x)\n",
    "    sample_size=len(x)\n",
    "    margin_of_error = t.ppf(1 - alpha/2,sample_size-1)*sample_s/np.sqrt(sample_size-1)\n",
    "    return sample_mean - margin_of_error"
   ]
  },
  {
   "cell_type": "code",
   "execution_count": 519,
   "id": "5b58792a",
   "metadata": {},
   "outputs": [],
   "source": [
    "x=dfus['ddeaths']"
   ]
  },
  {
   "cell_type": "code",
   "execution_count": 520,
   "id": "0a3cdeb0",
   "metadata": {},
   "outputs": [
    {
     "data": {
      "text/plain": [
       "1095.4251914837605"
      ]
     },
     "execution_count": 520,
     "metadata": {},
     "output_type": "execute_result"
    }
   ],
   "source": [
    "get_ci_lb(x)"
   ]
  },
  {
   "cell_type": "code",
   "execution_count": 521,
   "id": "f5608585",
   "metadata": {},
   "outputs": [
    {
     "data": {
      "text/plain": [
       "1236.7128366852535"
      ]
     },
     "execution_count": 521,
     "metadata": {},
     "output_type": "execute_result"
    }
   ],
   "source": [
    "get_ci_ub(x)"
   ]
  },
  {
   "cell_type": "code",
   "execution_count": 522,
   "id": "ed70a3ab",
   "metadata": {},
   "outputs": [
    {
     "data": {
      "text/html": [
       "<div>\n",
       "<style scoped>\n",
       "    .dataframe tbody tr th:only-of-type {\n",
       "        vertical-align: middle;\n",
       "    }\n",
       "\n",
       "    .dataframe tbody tr th {\n",
       "        vertical-align: top;\n",
       "    }\n",
       "\n",
       "    .dataframe thead tr th {\n",
       "        text-align: left;\n",
       "    }\n",
       "\n",
       "    .dataframe thead tr:last-of-type th {\n",
       "        text-align: right;\n",
       "    }\n",
       "</style>\n",
       "<table border=\"1\" class=\"dataframe\">\n",
       "  <thead>\n",
       "    <tr>\n",
       "      <th></th>\n",
       "      <th colspan=\"5\" halign=\"left\">ddeaths</th>\n",
       "    </tr>\n",
       "    <tr>\n",
       "      <th></th>\n",
       "      <th>mean</th>\n",
       "      <th>std</th>\n",
       "      <th>size</th>\n",
       "      <th>get_ci_lb</th>\n",
       "      <th>get_ci_ub</th>\n",
       "    </tr>\n",
       "    <tr>\n",
       "      <th>month</th>\n",
       "      <th></th>\n",
       "      <th></th>\n",
       "      <th></th>\n",
       "      <th></th>\n",
       "      <th></th>\n",
       "    </tr>\n",
       "  </thead>\n",
       "  <tbody>\n",
       "    <tr>\n",
       "      <th>Jan</th>\n",
       "      <td>2357.414634</td>\n",
       "      <td>1603.225498</td>\n",
       "      <td>41</td>\n",
       "      <td>1851.374228</td>\n",
       "      <td>2863.455040</td>\n",
       "    </tr>\n",
       "    <tr>\n",
       "      <th>Feb</th>\n",
       "      <td>1154.175439</td>\n",
       "      <td>1343.239370</td>\n",
       "      <td>57</td>\n",
       "      <td>797.766060</td>\n",
       "      <td>1510.584817</td>\n",
       "    </tr>\n",
       "    <tr>\n",
       "      <th>Mar</th>\n",
       "      <td>687.435484</td>\n",
       "      <td>656.579103</td>\n",
       "      <td>62</td>\n",
       "      <td>520.695613</td>\n",
       "      <td>854.175355</td>\n",
       "    </tr>\n",
       "    <tr>\n",
       "      <th>Apr</th>\n",
       "      <td>1411.483333</td>\n",
       "      <td>734.926342</td>\n",
       "      <td>60</td>\n",
       "      <td>1221.631728</td>\n",
       "      <td>1601.334939</td>\n",
       "    </tr>\n",
       "    <tr>\n",
       "      <th>May</th>\n",
       "      <td>965.983871</td>\n",
       "      <td>529.435192</td>\n",
       "      <td>62</td>\n",
       "      <td>831.532507</td>\n",
       "      <td>1100.435235</td>\n",
       "    </tr>\n",
       "    <tr>\n",
       "      <th>Jun</th>\n",
       "      <td>503.683333</td>\n",
       "      <td>245.604718</td>\n",
       "      <td>60</td>\n",
       "      <td>440.236907</td>\n",
       "      <td>567.129760</td>\n",
       "    </tr>\n",
       "    <tr>\n",
       "      <th>Jul</th>\n",
       "      <td>567.338710</td>\n",
       "      <td>380.578806</td>\n",
       "      <td>62</td>\n",
       "      <td>470.689790</td>\n",
       "      <td>663.987630</td>\n",
       "    </tr>\n",
       "    <tr>\n",
       "      <th>Aug</th>\n",
       "      <td>927.016129</td>\n",
       "      <td>468.429692</td>\n",
       "      <td>62</td>\n",
       "      <td>808.057261</td>\n",
       "      <td>1045.974997</td>\n",
       "    </tr>\n",
       "    <tr>\n",
       "      <th>Sep</th>\n",
       "      <td>1370.183333</td>\n",
       "      <td>930.381469</td>\n",
       "      <td>60</td>\n",
       "      <td>1129.840315</td>\n",
       "      <td>1610.526352</td>\n",
       "    </tr>\n",
       "    <tr>\n",
       "      <th>Oct</th>\n",
       "      <td>1168.403226</td>\n",
       "      <td>737.480279</td>\n",
       "      <td>62</td>\n",
       "      <td>981.118303</td>\n",
       "      <td>1355.688149</td>\n",
       "    </tr>\n",
       "    <tr>\n",
       "      <th>Nov</th>\n",
       "      <td>1226.083333</td>\n",
       "      <td>571.936683</td>\n",
       "      <td>60</td>\n",
       "      <td>1078.336421</td>\n",
       "      <td>1373.830245</td>\n",
       "    </tr>\n",
       "    <tr>\n",
       "      <th>Dec</th>\n",
       "      <td>2051.258065</td>\n",
       "      <td>1003.319604</td>\n",
       "      <td>62</td>\n",
       "      <td>1796.462594</td>\n",
       "      <td>2306.053535</td>\n",
       "    </tr>\n",
       "  </tbody>\n",
       "</table>\n",
       "</div>"
      ],
      "text/plain": [
       "           ddeaths                                            \n",
       "              mean          std size    get_ci_lb    get_ci_ub\n",
       "month                                                         \n",
       "Jan    2357.414634  1603.225498   41  1851.374228  2863.455040\n",
       "Feb    1154.175439  1343.239370   57   797.766060  1510.584817\n",
       "Mar     687.435484   656.579103   62   520.695613   854.175355\n",
       "Apr    1411.483333   734.926342   60  1221.631728  1601.334939\n",
       "May     965.983871   529.435192   62   831.532507  1100.435235\n",
       "Jun     503.683333   245.604718   60   440.236907   567.129760\n",
       "Jul     567.338710   380.578806   62   470.689790   663.987630\n",
       "Aug     927.016129   468.429692   62   808.057261  1045.974997\n",
       "Sep    1370.183333   930.381469   60  1129.840315  1610.526352\n",
       "Oct    1168.403226   737.480279   62   981.118303  1355.688149\n",
       "Nov    1226.083333   571.936683   60  1078.336421  1373.830245\n",
       "Dec    2051.258065  1003.319604   62  1796.462594  2306.053535"
      ]
     },
     "execution_count": 522,
     "metadata": {},
     "output_type": "execute_result"
    }
   ],
   "source": [
    "ci_dcases=statsm=dfus.groupby(\"month\").agg({\"ddeaths\": [np.mean, np.std, np.size,get_ci_lb,get_ci_ub]})\n",
    "statsm"
   ]
  },
  {
   "cell_type": "code",
   "execution_count": 523,
   "id": "b4efed14",
   "metadata": {},
   "outputs": [],
   "source": [
    "statsm.columns=['mean','std','size','lb','ub']"
   ]
  },
  {
   "cell_type": "code",
   "execution_count": 524,
   "id": "1503d666",
   "metadata": {},
   "outputs": [],
   "source": [
    "statsm['month']=statsm.index"
   ]
  },
  {
   "cell_type": "code",
   "execution_count": 525,
   "id": "a4b5cd74",
   "metadata": {},
   "outputs": [
    {
     "data": {
      "image/png": "[encoded data removed]",
      "text/plain": [
       "<Figure size 432x288 with 1 Axes>"
      ]
     },
     "metadata": {
      "needs_background": "light"
     },
     "output_type": "display_data"
    }
   ],
   "source": [
    "plt.plot( 'month', 'mean', data=statsm, marker='s', color='orange', markersize=4,     linewidth=1, linestyle='--')\n",
    "plt.plot( 'month', 'mean', data=statsm, marker='o', color='orange',  markersize=4, linewidth=1,linestyle='-')\n",
    "plt.xlabel(\"Month\")\n",
    "plt.ylabel(\"Average Daily COVID DEATHS\")\n",
    "plt.show()"
   ]
  },
  {
   "cell_type": "markdown",
   "id": "c674b041",
   "metadata": {},
   "source": [
    "Comparing between 2020 and 2021 in terms of several factors like regions, income, and continents:"
   ]
  },
  {
   "cell_type": "markdown",
   "id": "4556859f",
   "metadata": {},
   "source": [
    "We will do the same graph now but only on the year 2021. "
   ]
  },
  {
   "cell_type": "code",
   "execution_count": 526,
   "id": "36876663",
   "metadata": {},
   "outputs": [
    {
     "data": {
      "text/plain": [
       "'2020-02-24'"
      ]
     },
     "execution_count": 526,
     "metadata": {},
     "output_type": "execute_result"
    }
   ],
   "source": [
    "DF['date'][0]"
   ]
  },
  {
   "cell_type": "code",
   "execution_count": 527,
   "id": "20548fa1",
   "metadata": {},
   "outputs": [],
   "source": [
    "DF['date'] = pd. to_datetime(DF['date'],format='%Y-%m-%d')"
   ]
  },
  {
   "cell_type": "code",
   "execution_count": 528,
   "id": "56055a98",
   "metadata": {},
   "outputs": [
    {
     "data": {
      "text/plain": [
       "Timestamp('2020-02-24 00:00:00')"
      ]
     },
     "execution_count": 528,
     "metadata": {},
     "output_type": "execute_result"
    }
   ],
   "source": [
    "DF['date'][0]"
   ]
  },
  {
   "cell_type": "code",
   "execution_count": 529,
   "id": "afedebcf",
   "metadata": {},
   "outputs": [],
   "source": [
    "DF['year'] = pd. DatetimeIndex(DF['date']). year"
   ]
  },
  {
   "cell_type": "code",
   "execution_count": 530,
   "id": "29d22806",
   "metadata": {},
   "outputs": [
    {
     "data": {
      "text/plain": [
       "2020"
      ]
     },
     "execution_count": 530,
     "metadata": {},
     "output_type": "execute_result"
    }
   ],
   "source": [
    "DF['year'][0]"
   ]
  },
  {
   "cell_type": "markdown",
   "id": "d9d41512",
   "metadata": {},
   "source": [
    "Now, let's calculate it by country, by year, by month the following statistics on the daily COVID cases: mean, std, size, CI(95%) LB, and UB."
   ]
  },
  {
   "cell_type": "code",
   "execution_count": 531,
   "id": "42c21464",
   "metadata": {},
   "outputs": [],
   "source": [
    "statsdcases=DF.groupby(['country','year','month']).agg({\"dcases\": [np.mean, np.std, np.size,get_ci_lb,get_ci_ub]})"
   ]
  },
  {
   "cell_type": "code",
   "execution_count": 532,
   "id": "7e460921",
   "metadata": {},
   "outputs": [
    {
     "data": {
      "text/html": [
       "<div>\n",
       "<style scoped>\n",
       "    .dataframe tbody tr th:only-of-type {\n",
       "        vertical-align: middle;\n",
       "    }\n",
       "\n",
       "    .dataframe tbody tr th {\n",
       "        vertical-align: top;\n",
       "    }\n",
       "\n",
       "    .dataframe thead tr th {\n",
       "        text-align: left;\n",
       "    }\n",
       "\n",
       "    .dataframe thead tr:last-of-type th {\n",
       "        text-align: right;\n",
       "    }\n",
       "</style>\n",
       "<table border=\"1\" class=\"dataframe\">\n",
       "  <thead>\n",
       "    <tr>\n",
       "      <th></th>\n",
       "      <th></th>\n",
       "      <th></th>\n",
       "      <th colspan=\"5\" halign=\"left\">dcases</th>\n",
       "    </tr>\n",
       "    <tr>\n",
       "      <th></th>\n",
       "      <th></th>\n",
       "      <th></th>\n",
       "      <th>mean</th>\n",
       "      <th>std</th>\n",
       "      <th>size</th>\n",
       "      <th>get_ci_lb</th>\n",
       "      <th>get_ci_ub</th>\n",
       "    </tr>\n",
       "    <tr>\n",
       "      <th>country</th>\n",
       "      <th>year</th>\n",
       "      <th>month</th>\n",
       "      <th></th>\n",
       "      <th></th>\n",
       "      <th></th>\n",
       "      <th></th>\n",
       "      <th></th>\n",
       "    </tr>\n",
       "  </thead>\n",
       "  <tbody>\n",
       "    <tr>\n",
       "      <th rowspan=\"5\" valign=\"top\">Afghanistan</th>\n",
       "      <th rowspan=\"5\" valign=\"top\">2020</th>\n",
       "      <th>Jan</th>\n",
       "      <td>NaN</td>\n",
       "      <td>NaN</td>\n",
       "      <td>NaN</td>\n",
       "      <td>NaN</td>\n",
       "      <td>NaN</td>\n",
       "    </tr>\n",
       "    <tr>\n",
       "      <th>Feb</th>\n",
       "      <td>0.833333</td>\n",
       "      <td>2.041241</td>\n",
       "      <td>6.0</td>\n",
       "      <td>-1.308818</td>\n",
       "      <td>2.975485</td>\n",
       "    </tr>\n",
       "    <tr>\n",
       "      <th>Mar</th>\n",
       "      <td>5.258065</td>\n",
       "      <td>10.871883</td>\n",
       "      <td>31.0</td>\n",
       "      <td>1.270225</td>\n",
       "      <td>9.245904</td>\n",
       "    </tr>\n",
       "    <tr>\n",
       "      <th>Apr</th>\n",
       "      <td>55.366667</td>\n",
       "      <td>40.385627</td>\n",
       "      <td>30.0</td>\n",
       "      <td>40.286426</td>\n",
       "      <td>70.446908</td>\n",
       "    </tr>\n",
       "    <tr>\n",
       "      <th>May</th>\n",
       "      <td>430.741935</td>\n",
       "      <td>266.692078</td>\n",
       "      <td>31.0</td>\n",
       "      <td>332.918491</td>\n",
       "      <td>528.565379</td>\n",
       "    </tr>\n",
       "    <tr>\n",
       "      <th>...</th>\n",
       "      <th>...</th>\n",
       "      <th>...</th>\n",
       "      <td>...</td>\n",
       "      <td>...</td>\n",
       "      <td>...</td>\n",
       "      <td>...</td>\n",
       "      <td>...</td>\n",
       "    </tr>\n",
       "    <tr>\n",
       "      <th rowspan=\"5\" valign=\"top\">Zimbabwe</th>\n",
       "      <th rowspan=\"5\" valign=\"top\">2021</th>\n",
       "      <th>Aug</th>\n",
       "      <td>513.322581</td>\n",
       "      <td>386.841948</td>\n",
       "      <td>31.0</td>\n",
       "      <td>371.427809</td>\n",
       "      <td>655.217353</td>\n",
       "    </tr>\n",
       "    <tr>\n",
       "      <th>Sep</th>\n",
       "      <td>201.566667</td>\n",
       "      <td>135.119789</td>\n",
       "      <td>30.0</td>\n",
       "      <td>151.112108</td>\n",
       "      <td>252.021225</td>\n",
       "    </tr>\n",
       "    <tr>\n",
       "      <th>Oct</th>\n",
       "      <td>69.580645</td>\n",
       "      <td>58.035492</td>\n",
       "      <td>31.0</td>\n",
       "      <td>48.293055</td>\n",
       "      <td>90.868235</td>\n",
       "    </tr>\n",
       "    <tr>\n",
       "      <th>Nov</th>\n",
       "      <td>54.933333</td>\n",
       "      <td>82.622087</td>\n",
       "      <td>30.0</td>\n",
       "      <td>24.081739</td>\n",
       "      <td>85.784928</td>\n",
       "    </tr>\n",
       "    <tr>\n",
       "      <th>Dec</th>\n",
       "      <td>2536.548387</td>\n",
       "      <td>2572.199964</td>\n",
       "      <td>31.0</td>\n",
       "      <td>1593.057823</td>\n",
       "      <td>3480.038951</td>\n",
       "    </tr>\n",
       "  </tbody>\n",
       "</table>\n",
       "<p>4488 rows × 5 columns</p>\n",
       "</div>"
      ],
      "text/plain": [
       "                             dcases                                  \\\n",
       "                               mean          std  size    get_ci_lb   \n",
       "country     year month                                                \n",
       "Afghanistan 2020 Jan            NaN          NaN   NaN          NaN   \n",
       "                 Feb       0.833333     2.041241   6.0    -1.308818   \n",
       "                 Mar       5.258065    10.871883  31.0     1.270225   \n",
       "                 Apr      55.366667    40.385627  30.0    40.286426   \n",
       "                 May     430.741935   266.692078  31.0   332.918491   \n",
       "...                             ...          ...   ...          ...   \n",
       "Zimbabwe    2021 Aug     513.322581   386.841948  31.0   371.427809   \n",
       "                 Sep     201.566667   135.119789  30.0   151.112108   \n",
       "                 Oct      69.580645    58.035492  31.0    48.293055   \n",
       "                 Nov      54.933333    82.622087  30.0    24.081739   \n",
       "                 Dec    2536.548387  2572.199964  31.0  1593.057823   \n",
       "\n",
       "                                     \n",
       "                          get_ci_ub  \n",
       "country     year month               \n",
       "Afghanistan 2020 Jan            NaN  \n",
       "                 Feb       2.975485  \n",
       "                 Mar       9.245904  \n",
       "                 Apr      70.446908  \n",
       "                 May     528.565379  \n",
       "...                             ...  \n",
       "Zimbabwe    2021 Aug     655.217353  \n",
       "                 Sep     252.021225  \n",
       "                 Oct      90.868235  \n",
       "                 Nov      85.784928  \n",
       "                 Dec    3480.038951  \n",
       "\n",
       "[4488 rows x 5 columns]"
      ]
     },
     "execution_count": 532,
     "metadata": {},
     "output_type": "execute_result"
    }
   ],
   "source": [
    "statsdcases"
   ]
  },
  {
   "cell_type": "code",
   "execution_count": 533,
   "id": "c8923e75",
   "metadata": {},
   "outputs": [],
   "source": [
    "statsdcases=statsdcases.reset_index()"
   ]
  },
  {
   "cell_type": "code",
   "execution_count": 534,
   "id": "942b2ae6",
   "metadata": {},
   "outputs": [
    {
     "data": {
      "text/html": [
       "<div>\n",
       "<style scoped>\n",
       "    .dataframe tbody tr th:only-of-type {\n",
       "        vertical-align: middle;\n",
       "    }\n",
       "\n",
       "    .dataframe tbody tr th {\n",
       "        vertical-align: top;\n",
       "    }\n",
       "\n",
       "    .dataframe thead tr th {\n",
       "        text-align: left;\n",
       "    }\n",
       "</style>\n",
       "<table border=\"1\" class=\"dataframe\">\n",
       "  <thead>\n",
       "    <tr>\n",
       "      <th></th>\n",
       "      <th>country</th>\n",
       "      <th>year</th>\n",
       "      <th>month</th>\n",
       "      <th colspan=\"5\" halign=\"left\">dcases</th>\n",
       "    </tr>\n",
       "    <tr>\n",
       "      <th></th>\n",
       "      <th></th>\n",
       "      <th></th>\n",
       "      <th></th>\n",
       "      <th>mean</th>\n",
       "      <th>std</th>\n",
       "      <th>size</th>\n",
       "      <th>get_ci_lb</th>\n",
       "      <th>get_ci_ub</th>\n",
       "    </tr>\n",
       "  </thead>\n",
       "  <tbody>\n",
       "    <tr>\n",
       "      <th>0</th>\n",
       "      <td>Afghanistan</td>\n",
       "      <td>2020</td>\n",
       "      <td>Jan</td>\n",
       "      <td>NaN</td>\n",
       "      <td>NaN</td>\n",
       "      <td>NaN</td>\n",
       "      <td>NaN</td>\n",
       "      <td>NaN</td>\n",
       "    </tr>\n",
       "    <tr>\n",
       "      <th>1</th>\n",
       "      <td>Afghanistan</td>\n",
       "      <td>2020</td>\n",
       "      <td>Feb</td>\n",
       "      <td>0.833333</td>\n",
       "      <td>2.041241</td>\n",
       "      <td>6.0</td>\n",
       "      <td>-1.308818</td>\n",
       "      <td>2.975485</td>\n",
       "    </tr>\n",
       "    <tr>\n",
       "      <th>2</th>\n",
       "      <td>Afghanistan</td>\n",
       "      <td>2020</td>\n",
       "      <td>Mar</td>\n",
       "      <td>5.258065</td>\n",
       "      <td>10.871883</td>\n",
       "      <td>31.0</td>\n",
       "      <td>1.270225</td>\n",
       "      <td>9.245904</td>\n",
       "    </tr>\n",
       "    <tr>\n",
       "      <th>3</th>\n",
       "      <td>Afghanistan</td>\n",
       "      <td>2020</td>\n",
       "      <td>Apr</td>\n",
       "      <td>55.366667</td>\n",
       "      <td>40.385627</td>\n",
       "      <td>30.0</td>\n",
       "      <td>40.286426</td>\n",
       "      <td>70.446908</td>\n",
       "    </tr>\n",
       "    <tr>\n",
       "      <th>4</th>\n",
       "      <td>Afghanistan</td>\n",
       "      <td>2020</td>\n",
       "      <td>May</td>\n",
       "      <td>430.741935</td>\n",
       "      <td>266.692078</td>\n",
       "      <td>31.0</td>\n",
       "      <td>332.918491</td>\n",
       "      <td>528.565379</td>\n",
       "    </tr>\n",
       "    <tr>\n",
       "      <th>...</th>\n",
       "      <td>...</td>\n",
       "      <td>...</td>\n",
       "      <td>...</td>\n",
       "      <td>...</td>\n",
       "      <td>...</td>\n",
       "      <td>...</td>\n",
       "      <td>...</td>\n",
       "      <td>...</td>\n",
       "    </tr>\n",
       "    <tr>\n",
       "      <th>4483</th>\n",
       "      <td>Zimbabwe</td>\n",
       "      <td>2021</td>\n",
       "      <td>Aug</td>\n",
       "      <td>513.322581</td>\n",
       "      <td>386.841948</td>\n",
       "      <td>31.0</td>\n",
       "      <td>371.427809</td>\n",
       "      <td>655.217353</td>\n",
       "    </tr>\n",
       "    <tr>\n",
       "      <th>4484</th>\n",
       "      <td>Zimbabwe</td>\n",
       "      <td>2021</td>\n",
       "      <td>Sep</td>\n",
       "      <td>201.566667</td>\n",
       "      <td>135.119789</td>\n",
       "      <td>30.0</td>\n",
       "      <td>151.112108</td>\n",
       "      <td>252.021225</td>\n",
       "    </tr>\n",
       "    <tr>\n",
       "      <th>4485</th>\n",
       "      <td>Zimbabwe</td>\n",
       "      <td>2021</td>\n",
       "      <td>Oct</td>\n",
       "      <td>69.580645</td>\n",
       "      <td>58.035492</td>\n",
       "      <td>31.0</td>\n",
       "      <td>48.293055</td>\n",
       "      <td>90.868235</td>\n",
       "    </tr>\n",
       "    <tr>\n",
       "      <th>4486</th>\n",
       "      <td>Zimbabwe</td>\n",
       "      <td>2021</td>\n",
       "      <td>Nov</td>\n",
       "      <td>54.933333</td>\n",
       "      <td>82.622087</td>\n",
       "      <td>30.0</td>\n",
       "      <td>24.081739</td>\n",
       "      <td>85.784928</td>\n",
       "    </tr>\n",
       "    <tr>\n",
       "      <th>4487</th>\n",
       "      <td>Zimbabwe</td>\n",
       "      <td>2021</td>\n",
       "      <td>Dec</td>\n",
       "      <td>2536.548387</td>\n",
       "      <td>2572.199964</td>\n",
       "      <td>31.0</td>\n",
       "      <td>1593.057823</td>\n",
       "      <td>3480.038951</td>\n",
       "    </tr>\n",
       "  </tbody>\n",
       "</table>\n",
       "<p>4488 rows × 8 columns</p>\n",
       "</div>"
      ],
      "text/plain": [
       "          country  year month       dcases                                  \\\n",
       "                                      mean          std  size    get_ci_lb   \n",
       "0     Afghanistan  2020   Jan          NaN          NaN   NaN          NaN   \n",
       "1     Afghanistan  2020   Feb     0.833333     2.041241   6.0    -1.308818   \n",
       "2     Afghanistan  2020   Mar     5.258065    10.871883  31.0     1.270225   \n",
       "3     Afghanistan  2020   Apr    55.366667    40.385627  30.0    40.286426   \n",
       "4     Afghanistan  2020   May   430.741935   266.692078  31.0   332.918491   \n",
       "...           ...   ...   ...          ...          ...   ...          ...   \n",
       "4483     Zimbabwe  2021   Aug   513.322581   386.841948  31.0   371.427809   \n",
       "4484     Zimbabwe  2021   Sep   201.566667   135.119789  30.0   151.112108   \n",
       "4485     Zimbabwe  2021   Oct    69.580645    58.035492  31.0    48.293055   \n",
       "4486     Zimbabwe  2021   Nov    54.933333    82.622087  30.0    24.081739   \n",
       "4487     Zimbabwe  2021   Dec  2536.548387  2572.199964  31.0  1593.057823   \n",
       "\n",
       "                   \n",
       "        get_ci_ub  \n",
       "0             NaN  \n",
       "1        2.975485  \n",
       "2        9.245904  \n",
       "3       70.446908  \n",
       "4      528.565379  \n",
       "...           ...  \n",
       "4483   655.217353  \n",
       "4484   252.021225  \n",
       "4485    90.868235  \n",
       "4486    85.784928  \n",
       "4487  3480.038951  \n",
       "\n",
       "[4488 rows x 8 columns]"
      ]
     },
     "execution_count": 534,
     "metadata": {},
     "output_type": "execute_result"
    }
   ],
   "source": [
    "statsdcases"
   ]
  },
  {
   "cell_type": "markdown",
   "id": "2929d49b",
   "metadata": {},
   "source": [
    "Filter now the South Korea data"
   ]
  },
  {
   "cell_type": "code",
   "execution_count": 535,
   "id": "cb0d3a0e",
   "metadata": {},
   "outputs": [],
   "source": [
    "statsSK=statsdcases[(statsdcases['country']=='South Korea') & (statsdcases['year']==2021)]"
   ]
  },
  {
   "cell_type": "code",
   "execution_count": 536,
   "id": "889116c6",
   "metadata": {},
   "outputs": [
    {
     "data": {
      "text/html": [
       "<div>\n",
       "<style scoped>\n",
       "    .dataframe tbody tr th:only-of-type {\n",
       "        vertical-align: middle;\n",
       "    }\n",
       "\n",
       "    .dataframe tbody tr th {\n",
       "        vertical-align: top;\n",
       "    }\n",
       "\n",
       "    .dataframe thead tr th {\n",
       "        text-align: left;\n",
       "    }\n",
       "</style>\n",
       "<table border=\"1\" class=\"dataframe\">\n",
       "  <thead>\n",
       "    <tr>\n",
       "      <th></th>\n",
       "      <th>country</th>\n",
       "      <th>year</th>\n",
       "      <th>month</th>\n",
       "      <th colspan=\"5\" halign=\"left\">dcases</th>\n",
       "    </tr>\n",
       "    <tr>\n",
       "      <th></th>\n",
       "      <th></th>\n",
       "      <th></th>\n",
       "      <th></th>\n",
       "      <th>mean</th>\n",
       "      <th>std</th>\n",
       "      <th>size</th>\n",
       "      <th>get_ci_lb</th>\n",
       "      <th>get_ci_ub</th>\n",
       "    </tr>\n",
       "  </thead>\n",
       "  <tbody>\n",
       "    <tr>\n",
       "      <th>3684</th>\n",
       "      <td>South Korea</td>\n",
       "      <td>2021</td>\n",
       "      <td>Jan</td>\n",
       "      <td>539.967742</td>\n",
       "      <td>174.473395</td>\n",
       "      <td>31.0</td>\n",
       "      <td>475.970384</td>\n",
       "      <td>603.965100</td>\n",
       "    </tr>\n",
       "    <tr>\n",
       "      <th>3685</th>\n",
       "      <td>South Korea</td>\n",
       "      <td>2021</td>\n",
       "      <td>Feb</td>\n",
       "      <td>411.535714</td>\n",
       "      <td>85.023954</td>\n",
       "      <td>28.0</td>\n",
       "      <td>378.566867</td>\n",
       "      <td>444.504562</td>\n",
       "    </tr>\n",
       "    <tr>\n",
       "      <th>3686</th>\n",
       "      <td>South Korea</td>\n",
       "      <td>2021</td>\n",
       "      <td>Mar</td>\n",
       "      <td>438.967742</td>\n",
       "      <td>51.100870</td>\n",
       "      <td>31.0</td>\n",
       "      <td>420.223791</td>\n",
       "      <td>457.711692</td>\n",
       "    </tr>\n",
       "    <tr>\n",
       "      <th>3687</th>\n",
       "      <td>South Korea</td>\n",
       "      <td>2021</td>\n",
       "      <td>Apr</td>\n",
       "      <td>633.166667</td>\n",
       "      <td>93.227228</td>\n",
       "      <td>30.0</td>\n",
       "      <td>598.355048</td>\n",
       "      <td>667.978286</td>\n",
       "    </tr>\n",
       "    <tr>\n",
       "      <th>3688</th>\n",
       "      <td>South Korea</td>\n",
       "      <td>2021</td>\n",
       "      <td>May</td>\n",
       "      <td>585.967742</td>\n",
       "      <td>83.493506</td>\n",
       "      <td>31.0</td>\n",
       "      <td>555.342077</td>\n",
       "      <td>616.593407</td>\n",
       "    </tr>\n",
       "    <tr>\n",
       "      <th>3689</th>\n",
       "      <td>South Korea</td>\n",
       "      <td>2021</td>\n",
       "      <td>Jun</td>\n",
       "      <td>564.133333</td>\n",
       "      <td>117.192071</td>\n",
       "      <td>30.0</td>\n",
       "      <td>520.373095</td>\n",
       "      <td>607.893572</td>\n",
       "    </tr>\n",
       "    <tr>\n",
       "      <th>3690</th>\n",
       "      <td>South Korea</td>\n",
       "      <td>2021</td>\n",
       "      <td>Jul</td>\n",
       "      <td>1356.903226</td>\n",
       "      <td>328.360001</td>\n",
       "      <td>31.0</td>\n",
       "      <td>1236.459805</td>\n",
       "      <td>1477.346647</td>\n",
       "    </tr>\n",
       "    <tr>\n",
       "      <th>3691</th>\n",
       "      <td>South Korea</td>\n",
       "      <td>2021</td>\n",
       "      <td>Aug</td>\n",
       "      <td>1730.903226</td>\n",
       "      <td>270.906670</td>\n",
       "      <td>31.0</td>\n",
       "      <td>1631.533857</td>\n",
       "      <td>1830.272594</td>\n",
       "    </tr>\n",
       "    <tr>\n",
       "      <th>3692</th>\n",
       "      <td>South Korea</td>\n",
       "      <td>2021</td>\n",
       "      <td>Sep</td>\n",
       "      <td>2010.933333</td>\n",
       "      <td>453.940444</td>\n",
       "      <td>30.0</td>\n",
       "      <td>1841.429186</td>\n",
       "      <td>2180.437481</td>\n",
       "    </tr>\n",
       "    <tr>\n",
       "      <th>3693</th>\n",
       "      <td>South Korea</td>\n",
       "      <td>2021</td>\n",
       "      <td>Oct</td>\n",
       "      <td>1697.193548</td>\n",
       "      <td>368.263259</td>\n",
       "      <td>31.0</td>\n",
       "      <td>1562.113494</td>\n",
       "      <td>1832.273602</td>\n",
       "    </tr>\n",
       "    <tr>\n",
       "      <th>3694</th>\n",
       "      <td>South Korea</td>\n",
       "      <td>2021</td>\n",
       "      <td>Nov</td>\n",
       "      <td>2865.466667</td>\n",
       "      <td>829.541325</td>\n",
       "      <td>30.0</td>\n",
       "      <td>2555.710845</td>\n",
       "      <td>3175.222488</td>\n",
       "    </tr>\n",
       "    <tr>\n",
       "      <th>3695</th>\n",
       "      <td>South Korea</td>\n",
       "      <td>2021</td>\n",
       "      <td>Dec</td>\n",
       "      <td>5900.096774</td>\n",
       "      <td>1138.981719</td>\n",
       "      <td>31.0</td>\n",
       "      <td>5482.314907</td>\n",
       "      <td>6317.878642</td>\n",
       "    </tr>\n",
       "  </tbody>\n",
       "</table>\n",
       "</div>"
      ],
      "text/plain": [
       "          country  year month       dcases                                  \\\n",
       "                                      mean          std  size    get_ci_lb   \n",
       "3684  South Korea  2021   Jan   539.967742   174.473395  31.0   475.970384   \n",
       "3685  South Korea  2021   Feb   411.535714    85.023954  28.0   378.566867   \n",
       "3686  South Korea  2021   Mar   438.967742    51.100870  31.0   420.223791   \n",
       "3687  South Korea  2021   Apr   633.166667    93.227228  30.0   598.355048   \n",
       "3688  South Korea  2021   May   585.967742    83.493506  31.0   555.342077   \n",
       "3689  South Korea  2021   Jun   564.133333   117.192071  30.0   520.373095   \n",
       "3690  South Korea  2021   Jul  1356.903226   328.360001  31.0  1236.459805   \n",
       "3691  South Korea  2021   Aug  1730.903226   270.906670  31.0  1631.533857   \n",
       "3692  South Korea  2021   Sep  2010.933333   453.940444  30.0  1841.429186   \n",
       "3693  South Korea  2021   Oct  1697.193548   368.263259  31.0  1562.113494   \n",
       "3694  South Korea  2021   Nov  2865.466667   829.541325  30.0  2555.710845   \n",
       "3695  South Korea  2021   Dec  5900.096774  1138.981719  31.0  5482.314907   \n",
       "\n",
       "                   \n",
       "        get_ci_ub  \n",
       "3684   603.965100  \n",
       "3685   444.504562  \n",
       "3686   457.711692  \n",
       "3687   667.978286  \n",
       "3688   616.593407  \n",
       "3689   607.893572  \n",
       "3690  1477.346647  \n",
       "3691  1830.272594  \n",
       "3692  2180.437481  \n",
       "3693  1832.273602  \n",
       "3694  3175.222488  \n",
       "3695  6317.878642  "
      ]
     },
     "execution_count": 536,
     "metadata": {},
     "output_type": "execute_result"
    }
   ],
   "source": [
    "statsSK"
   ]
  },
  {
   "cell_type": "code",
   "execution_count": 537,
   "id": "c56d5e3a",
   "metadata": {},
   "outputs": [
    {
     "data": {
      "text/plain": [
       "MultiIndex([('country',          ''),\n",
       "            (   'year',          ''),\n",
       "            (  'month',          ''),\n",
       "            ( 'dcases',      'mean'),\n",
       "            ( 'dcases',       'std'),\n",
       "            ( 'dcases',      'size'),\n",
       "            ( 'dcases', 'get_ci_lb'),\n",
       "            ( 'dcases', 'get_ci_ub')],\n",
       "           )"
      ]
     },
     "execution_count": 537,
     "metadata": {},
     "output_type": "execute_result"
    }
   ],
   "source": [
    "statsSK.columns"
   ]
  },
  {
   "cell_type": "code",
   "execution_count": 538,
   "id": "eef57684",
   "metadata": {},
   "outputs": [],
   "source": [
    "statsSK.columns=['country','year','month','mean','std','size','lb','ub']"
   ]
  },
  {
   "cell_type": "code",
   "execution_count": 539,
   "id": "f494bcef",
   "metadata": {},
   "outputs": [
    {
     "data": {
      "image/png": "[encoded data removed]",
      "text/plain": [
       "<Figure size 432x288 with 1 Axes>"
      ]
     },
     "metadata": {
      "needs_background": "light"
     },
     "output_type": "display_data"
    }
   ],
   "source": [
    "plt.plot( 'month', 'mean', data=statsSK, marker='s', color='black', markersize=4,     linewidth=1, linestyle='--')\n",
    "plt.plot( 'month', 'mean', data=statsSK, marker='o', color='black',  markersize=4, linewidth=1,linestyle='-')\n",
    "plt.xlabel(\"Month\")\n",
    "plt.ylabel(\"Average Daily COVID CASES\")\n",
    "plt.title(\"South Korea\")\n",
    "plt.show()"
   ]
  },
  {
   "cell_type": "code",
   "execution_count": 540,
   "id": "be69d492",
   "metadata": {},
   "outputs": [],
   "source": [
    "ci_lb_ub=[statsSK['lb'],statsSK['ub']]"
   ]
  },
  {
   "cell_type": "code",
   "execution_count": 541,
   "id": "7e3a87a5",
   "metadata": {},
   "outputs": [],
   "source": [
    "err = np.abs(ci_lb_ub - statsSK['mean'].to_numpy())"
   ]
  },
  {
   "cell_type": "code",
   "execution_count": 542,
   "id": "89286ecb",
   "metadata": {},
   "outputs": [
    {
     "data": {
      "image/png": "[encoded data removed]",
      "text/plain": [
       "<Figure size 432x288 with 1 Axes>"
      ]
     },
     "metadata": {
      "needs_background": "light"
     },
     "output_type": "display_data"
    }
   ],
   "source": [
    "plt.errorbar('month', 'mean',  yerr=err, data=statsSK,marker='s', capsize=2,\n",
    "             color='black', markersize=4, linewidth=1, linestyle='--')\n",
    "plt.xlabel(\"Month\")\n",
    "plt.ylabel(\"Average Daily COVID CASES\")\n",
    "plt.title(\"South Korea\")\n",
    "plt.show()"
   ]
  },
  {
   "cell_type": "markdown",
   "id": "401cc386",
   "metadata": {},
   "source": [
    "We will do the same but for 2021 so we can be able to compare between both years"
   ]
  },
  {
   "cell_type": "code",
   "execution_count": 543,
   "id": "85b20b29",
   "metadata": {},
   "outputs": [
    {
     "data": {
      "text/html": [
       "<div>\n",
       "<style scoped>\n",
       "    .dataframe tbody tr th:only-of-type {\n",
       "        vertical-align: middle;\n",
       "    }\n",
       "\n",
       "    .dataframe tbody tr th {\n",
       "        vertical-align: top;\n",
       "    }\n",
       "\n",
       "    .dataframe thead tr th {\n",
       "        text-align: left;\n",
       "    }\n",
       "</style>\n",
       "<table border=\"1\" class=\"dataframe\">\n",
       "  <thead>\n",
       "    <tr>\n",
       "      <th></th>\n",
       "      <th>country</th>\n",
       "      <th>year</th>\n",
       "      <th>month</th>\n",
       "      <th colspan=\"5\" halign=\"left\">dcases</th>\n",
       "    </tr>\n",
       "    <tr>\n",
       "      <th></th>\n",
       "      <th></th>\n",
       "      <th></th>\n",
       "      <th></th>\n",
       "      <th>mean</th>\n",
       "      <th>std</th>\n",
       "      <th>size</th>\n",
       "      <th>get_ci_lb</th>\n",
       "      <th>get_ci_ub</th>\n",
       "    </tr>\n",
       "  </thead>\n",
       "  <tbody>\n",
       "    <tr>\n",
       "      <th>3684</th>\n",
       "      <td>South Korea</td>\n",
       "      <td>2021</td>\n",
       "      <td>Jan</td>\n",
       "      <td>539.967742</td>\n",
       "      <td>174.473395</td>\n",
       "      <td>31.0</td>\n",
       "      <td>475.970384</td>\n",
       "      <td>603.965100</td>\n",
       "    </tr>\n",
       "    <tr>\n",
       "      <th>3685</th>\n",
       "      <td>South Korea</td>\n",
       "      <td>2021</td>\n",
       "      <td>Feb</td>\n",
       "      <td>411.535714</td>\n",
       "      <td>85.023954</td>\n",
       "      <td>28.0</td>\n",
       "      <td>378.566867</td>\n",
       "      <td>444.504562</td>\n",
       "    </tr>\n",
       "    <tr>\n",
       "      <th>3686</th>\n",
       "      <td>South Korea</td>\n",
       "      <td>2021</td>\n",
       "      <td>Mar</td>\n",
       "      <td>438.967742</td>\n",
       "      <td>51.100870</td>\n",
       "      <td>31.0</td>\n",
       "      <td>420.223791</td>\n",
       "      <td>457.711692</td>\n",
       "    </tr>\n",
       "    <tr>\n",
       "      <th>3687</th>\n",
       "      <td>South Korea</td>\n",
       "      <td>2021</td>\n",
       "      <td>Apr</td>\n",
       "      <td>633.166667</td>\n",
       "      <td>93.227228</td>\n",
       "      <td>30.0</td>\n",
       "      <td>598.355048</td>\n",
       "      <td>667.978286</td>\n",
       "    </tr>\n",
       "    <tr>\n",
       "      <th>3688</th>\n",
       "      <td>South Korea</td>\n",
       "      <td>2021</td>\n",
       "      <td>May</td>\n",
       "      <td>585.967742</td>\n",
       "      <td>83.493506</td>\n",
       "      <td>31.0</td>\n",
       "      <td>555.342077</td>\n",
       "      <td>616.593407</td>\n",
       "    </tr>\n",
       "    <tr>\n",
       "      <th>3689</th>\n",
       "      <td>South Korea</td>\n",
       "      <td>2021</td>\n",
       "      <td>Jun</td>\n",
       "      <td>564.133333</td>\n",
       "      <td>117.192071</td>\n",
       "      <td>30.0</td>\n",
       "      <td>520.373095</td>\n",
       "      <td>607.893572</td>\n",
       "    </tr>\n",
       "    <tr>\n",
       "      <th>3690</th>\n",
       "      <td>South Korea</td>\n",
       "      <td>2021</td>\n",
       "      <td>Jul</td>\n",
       "      <td>1356.903226</td>\n",
       "      <td>328.360001</td>\n",
       "      <td>31.0</td>\n",
       "      <td>1236.459805</td>\n",
       "      <td>1477.346647</td>\n",
       "    </tr>\n",
       "    <tr>\n",
       "      <th>3691</th>\n",
       "      <td>South Korea</td>\n",
       "      <td>2021</td>\n",
       "      <td>Aug</td>\n",
       "      <td>1730.903226</td>\n",
       "      <td>270.906670</td>\n",
       "      <td>31.0</td>\n",
       "      <td>1631.533857</td>\n",
       "      <td>1830.272594</td>\n",
       "    </tr>\n",
       "    <tr>\n",
       "      <th>3692</th>\n",
       "      <td>South Korea</td>\n",
       "      <td>2021</td>\n",
       "      <td>Sep</td>\n",
       "      <td>2010.933333</td>\n",
       "      <td>453.940444</td>\n",
       "      <td>30.0</td>\n",
       "      <td>1841.429186</td>\n",
       "      <td>2180.437481</td>\n",
       "    </tr>\n",
       "    <tr>\n",
       "      <th>3693</th>\n",
       "      <td>South Korea</td>\n",
       "      <td>2021</td>\n",
       "      <td>Oct</td>\n",
       "      <td>1697.193548</td>\n",
       "      <td>368.263259</td>\n",
       "      <td>31.0</td>\n",
       "      <td>1562.113494</td>\n",
       "      <td>1832.273602</td>\n",
       "    </tr>\n",
       "    <tr>\n",
       "      <th>3694</th>\n",
       "      <td>South Korea</td>\n",
       "      <td>2021</td>\n",
       "      <td>Nov</td>\n",
       "      <td>2865.466667</td>\n",
       "      <td>829.541325</td>\n",
       "      <td>30.0</td>\n",
       "      <td>2555.710845</td>\n",
       "      <td>3175.222488</td>\n",
       "    </tr>\n",
       "    <tr>\n",
       "      <th>3695</th>\n",
       "      <td>South Korea</td>\n",
       "      <td>2021</td>\n",
       "      <td>Dec</td>\n",
       "      <td>5900.096774</td>\n",
       "      <td>1138.981719</td>\n",
       "      <td>31.0</td>\n",
       "      <td>5482.314907</td>\n",
       "      <td>6317.878642</td>\n",
       "    </tr>\n",
       "  </tbody>\n",
       "</table>\n",
       "</div>"
      ],
      "text/plain": [
       "          country  year month       dcases                                  \\\n",
       "                                      mean          std  size    get_ci_lb   \n",
       "3684  South Korea  2021   Jan   539.967742   174.473395  31.0   475.970384   \n",
       "3685  South Korea  2021   Feb   411.535714    85.023954  28.0   378.566867   \n",
       "3686  South Korea  2021   Mar   438.967742    51.100870  31.0   420.223791   \n",
       "3687  South Korea  2021   Apr   633.166667    93.227228  30.0   598.355048   \n",
       "3688  South Korea  2021   May   585.967742    83.493506  31.0   555.342077   \n",
       "3689  South Korea  2021   Jun   564.133333   117.192071  30.0   520.373095   \n",
       "3690  South Korea  2021   Jul  1356.903226   328.360001  31.0  1236.459805   \n",
       "3691  South Korea  2021   Aug  1730.903226   270.906670  31.0  1631.533857   \n",
       "3692  South Korea  2021   Sep  2010.933333   453.940444  30.0  1841.429186   \n",
       "3693  South Korea  2021   Oct  1697.193548   368.263259  31.0  1562.113494   \n",
       "3694  South Korea  2021   Nov  2865.466667   829.541325  30.0  2555.710845   \n",
       "3695  South Korea  2021   Dec  5900.096774  1138.981719  31.0  5482.314907   \n",
       "\n",
       "                   \n",
       "        get_ci_ub  \n",
       "3684   603.965100  \n",
       "3685   444.504562  \n",
       "3686   457.711692  \n",
       "3687   667.978286  \n",
       "3688   616.593407  \n",
       "3689   607.893572  \n",
       "3690  1477.346647  \n",
       "3691  1830.272594  \n",
       "3692  2180.437481  \n",
       "3693  1832.273602  \n",
       "3694  3175.222488  \n",
       "3695  6317.878642  "
      ]
     },
     "execution_count": 543,
     "metadata": {},
     "output_type": "execute_result"
    }
   ],
   "source": [
    "statsSK21=statsdcases[(statsdcases['country']=='South Korea')\n",
    "                       & (statsdcases['year']==2021)]\n",
    "statsSK21"
   ]
  },
  {
   "cell_type": "code",
   "execution_count": 544,
   "id": "15719d52",
   "metadata": {},
   "outputs": [
    {
     "data": {
      "text/html": [
       "<div>\n",
       "<style scoped>\n",
       "    .dataframe tbody tr th:only-of-type {\n",
       "        vertical-align: middle;\n",
       "    }\n",
       "\n",
       "    .dataframe tbody tr th {\n",
       "        vertical-align: top;\n",
       "    }\n",
       "\n",
       "    .dataframe thead tr th {\n",
       "        text-align: left;\n",
       "    }\n",
       "</style>\n",
       "<table border=\"1\" class=\"dataframe\">\n",
       "  <thead>\n",
       "    <tr>\n",
       "      <th></th>\n",
       "      <th>country</th>\n",
       "      <th>year</th>\n",
       "      <th>month</th>\n",
       "      <th colspan=\"5\" halign=\"left\">dcases</th>\n",
       "    </tr>\n",
       "    <tr>\n",
       "      <th></th>\n",
       "      <th></th>\n",
       "      <th></th>\n",
       "      <th></th>\n",
       "      <th>mean</th>\n",
       "      <th>std</th>\n",
       "      <th>size</th>\n",
       "      <th>get_ci_lb</th>\n",
       "      <th>get_ci_ub</th>\n",
       "    </tr>\n",
       "  </thead>\n",
       "  <tbody>\n",
       "    <tr>\n",
       "      <th>3672</th>\n",
       "      <td>South Korea</td>\n",
       "      <td>2020</td>\n",
       "      <td>Jan</td>\n",
       "      <td>1.100000</td>\n",
       "      <td>2.131770</td>\n",
       "      <td>10.0</td>\n",
       "      <td>-0.424977</td>\n",
       "      <td>2.624977</td>\n",
       "    </tr>\n",
       "    <tr>\n",
       "      <th>3673</th>\n",
       "      <td>South Korea</td>\n",
       "      <td>2020</td>\n",
       "      <td>Feb</td>\n",
       "      <td>108.241379</td>\n",
       "      <td>202.959823</td>\n",
       "      <td>29.0</td>\n",
       "      <td>31.039592</td>\n",
       "      <td>185.443167</td>\n",
       "    </tr>\n",
       "    <tr>\n",
       "      <th>3674</th>\n",
       "      <td>South Korea</td>\n",
       "      <td>2020</td>\n",
       "      <td>Mar</td>\n",
       "      <td>214.064516</td>\n",
       "      <td>205.026329</td>\n",
       "      <td>31.0</td>\n",
       "      <td>138.860251</td>\n",
       "      <td>289.268781</td>\n",
       "    </tr>\n",
       "    <tr>\n",
       "      <th>3675</th>\n",
       "      <td>South Korea</td>\n",
       "      <td>2020</td>\n",
       "      <td>Apr</td>\n",
       "      <td>32.933333</td>\n",
       "      <td>29.040914</td>\n",
       "      <td>30.0</td>\n",
       "      <td>22.089278</td>\n",
       "      <td>43.777389</td>\n",
       "    </tr>\n",
       "    <tr>\n",
       "      <th>3676</th>\n",
       "      <td>South Korea</td>\n",
       "      <td>2020</td>\n",
       "      <td>May</td>\n",
       "      <td>23.516129</td>\n",
       "      <td>16.249864</td>\n",
       "      <td>31.0</td>\n",
       "      <td>17.555631</td>\n",
       "      <td>29.476627</td>\n",
       "    </tr>\n",
       "    <tr>\n",
       "      <th>3677</th>\n",
       "      <td>South Korea</td>\n",
       "      <td>2020</td>\n",
       "      <td>Jun</td>\n",
       "      <td>44.900000</td>\n",
       "      <td>10.356907</td>\n",
       "      <td>30.0</td>\n",
       "      <td>41.032667</td>\n",
       "      <td>48.767333</td>\n",
       "    </tr>\n",
       "    <tr>\n",
       "      <th>3678</th>\n",
       "      <td>South Korea</td>\n",
       "      <td>2020</td>\n",
       "      <td>Jul</td>\n",
       "      <td>47.935484</td>\n",
       "      <td>17.946096</td>\n",
       "      <td>31.0</td>\n",
       "      <td>41.352803</td>\n",
       "      <td>54.518165</td>\n",
       "    </tr>\n",
       "    <tr>\n",
       "      <th>3679</th>\n",
       "      <td>South Korea</td>\n",
       "      <td>2020</td>\n",
       "      <td>Aug</td>\n",
       "      <td>188.580645</td>\n",
       "      <td>137.604209</td>\n",
       "      <td>31.0</td>\n",
       "      <td>138.107014</td>\n",
       "      <td>239.054276</td>\n",
       "    </tr>\n",
       "    <tr>\n",
       "      <th>3680</th>\n",
       "      <td>South Korea</td>\n",
       "      <td>2020</td>\n",
       "      <td>Sep</td>\n",
       "      <td>123.566667</td>\n",
       "      <td>49.279417</td>\n",
       "      <td>30.0</td>\n",
       "      <td>105.165430</td>\n",
       "      <td>141.967903</td>\n",
       "    </tr>\n",
       "    <tr>\n",
       "      <th>3681</th>\n",
       "      <td>South Korea</td>\n",
       "      <td>2020</td>\n",
       "      <td>Oct</td>\n",
       "      <td>88.580645</td>\n",
       "      <td>26.303072</td>\n",
       "      <td>31.0</td>\n",
       "      <td>78.932600</td>\n",
       "      <td>98.228690</td>\n",
       "    </tr>\n",
       "    <tr>\n",
       "      <th>3682</th>\n",
       "      <td>South Korea</td>\n",
       "      <td>2020</td>\n",
       "      <td>Nov</td>\n",
       "      <td>267.233333</td>\n",
       "      <td>148.384794</td>\n",
       "      <td>30.0</td>\n",
       "      <td>211.825541</td>\n",
       "      <td>322.641126</td>\n",
       "    </tr>\n",
       "    <tr>\n",
       "      <th>3683</th>\n",
       "      <td>South Korea</td>\n",
       "      <td>2020</td>\n",
       "      <td>Dec</td>\n",
       "      <td>874.741935</td>\n",
       "      <td>208.677577</td>\n",
       "      <td>31.0</td>\n",
       "      <td>798.198382</td>\n",
       "      <td>951.285489</td>\n",
       "    </tr>\n",
       "  </tbody>\n",
       "</table>\n",
       "</div>"
      ],
      "text/plain": [
       "          country  year month      dcases                                \\\n",
       "                                     mean         std  size   get_ci_lb   \n",
       "3672  South Korea  2020   Jan    1.100000    2.131770  10.0   -0.424977   \n",
       "3673  South Korea  2020   Feb  108.241379  202.959823  29.0   31.039592   \n",
       "3674  South Korea  2020   Mar  214.064516  205.026329  31.0  138.860251   \n",
       "3675  South Korea  2020   Apr   32.933333   29.040914  30.0   22.089278   \n",
       "3676  South Korea  2020   May   23.516129   16.249864  31.0   17.555631   \n",
       "3677  South Korea  2020   Jun   44.900000   10.356907  30.0   41.032667   \n",
       "3678  South Korea  2020   Jul   47.935484   17.946096  31.0   41.352803   \n",
       "3679  South Korea  2020   Aug  188.580645  137.604209  31.0  138.107014   \n",
       "3680  South Korea  2020   Sep  123.566667   49.279417  30.0  105.165430   \n",
       "3681  South Korea  2020   Oct   88.580645   26.303072  31.0   78.932600   \n",
       "3682  South Korea  2020   Nov  267.233333  148.384794  30.0  211.825541   \n",
       "3683  South Korea  2020   Dec  874.741935  208.677577  31.0  798.198382   \n",
       "\n",
       "                  \n",
       "       get_ci_ub  \n",
       "3672    2.624977  \n",
       "3673  185.443167  \n",
       "3674  289.268781  \n",
       "3675   43.777389  \n",
       "3676   29.476627  \n",
       "3677   48.767333  \n",
       "3678   54.518165  \n",
       "3679  239.054276  \n",
       "3680  141.967903  \n",
       "3681   98.228690  \n",
       "3682  322.641126  \n",
       "3683  951.285489  "
      ]
     },
     "execution_count": 544,
     "metadata": {},
     "output_type": "execute_result"
    }
   ],
   "source": [
    "statsSK20=statsdcases[(statsdcases['country']=='South Korea')\n",
    "                       & (statsdcases['year']==2020)]\n",
    "statsSK20"
   ]
  },
  {
   "cell_type": "code",
   "execution_count": 545,
   "id": "6df2ebb4",
   "metadata": {},
   "outputs": [],
   "source": [
    "statsSK20.columns=['country','year','month','mean','std','size','lb','ub']"
   ]
  },
  {
   "cell_type": "code",
   "execution_count": 546,
   "id": "bac1ad5a",
   "metadata": {},
   "outputs": [],
   "source": [
    "statsSK21.columns=['country','year','month','mean','std','size','lb','ub']"
   ]
  },
  {
   "cell_type": "code",
   "execution_count": 547,
   "id": "14e81135",
   "metadata": {},
   "outputs": [
    {
     "data": {
      "text/plain": [
       "3672    Jan\n",
       "3673    Feb\n",
       "3674    Mar\n",
       "3675    Apr\n",
       "3676    May\n",
       "3677    Jun\n",
       "3678    Jul\n",
       "3679    Aug\n",
       "3680    Sep\n",
       "3681    Oct\n",
       "3682    Nov\n",
       "3683    Dec\n",
       "Name: month, dtype: category\n",
       "Categories (12, object): ['Jan' < 'Feb' < 'Mar' < 'Apr' ... 'Sep' < 'Oct' < 'Nov' < 'Dec']"
      ]
     },
     "execution_count": 547,
     "metadata": {},
     "output_type": "execute_result"
    }
   ],
   "source": [
    "x=statsSK20['month']\n",
    "x"
   ]
  },
  {
   "cell_type": "code",
   "execution_count": 548,
   "id": "eabf1352",
   "metadata": {},
   "outputs": [
    {
     "data": {
      "text/plain": [
       "3672      1.100000\n",
       "3673    108.241379\n",
       "3674    214.064516\n",
       "3675     32.933333\n",
       "3676     23.516129\n",
       "3677     44.900000\n",
       "3678     47.935484\n",
       "3679    188.580645\n",
       "3680    123.566667\n",
       "3681     88.580645\n",
       "3682    267.233333\n",
       "3683    874.741935\n",
       "Name: mean, dtype: float64"
      ]
     },
     "execution_count": 548,
     "metadata": {},
     "output_type": "execute_result"
    }
   ],
   "source": [
    "y1=statsSK20['mean']\n",
    "y1"
   ]
  },
  {
   "cell_type": "code",
   "execution_count": 549,
   "id": "8ebb8d67",
   "metadata": {},
   "outputs": [
    {
     "data": {
      "text/plain": [
       "3684     539.967742\n",
       "3685     411.535714\n",
       "3686     438.967742\n",
       "3687     633.166667\n",
       "3688     585.967742\n",
       "3689     564.133333\n",
       "3690    1356.903226\n",
       "3691    1730.903226\n",
       "3692    2010.933333\n",
       "3693    1697.193548\n",
       "3694    2865.466667\n",
       "3695    5900.096774\n",
       "Name: mean, dtype: float64"
      ]
     },
     "execution_count": 549,
     "metadata": {},
     "output_type": "execute_result"
    }
   ],
   "source": [
    "y2=statsSK21['mean']\n",
    "y2"
   ]
  },
  {
   "cell_type": "code",
   "execution_count": 550,
   "id": "79a7d2c4",
   "metadata": {},
   "outputs": [],
   "source": [
    "ci_lb_ub20=[statsSK20['lb'],statsSK20['ub']]\n",
    "err20 = np.abs(ci_lb_ub20 - statsSK20['mean'].to_numpy())"
   ]
  },
  {
   "cell_type": "code",
   "execution_count": 551,
   "id": "2ccc12d7",
   "metadata": {},
   "outputs": [],
   "source": [
    "ci_lb_ub21=[statsSK21['lb'],statsSK21['ub']]\n",
    "err21 = np.abs(ci_lb_ub21 - statsSK21['mean'].to_numpy())"
   ]
  },
  {
   "cell_type": "code",
   "execution_count": 552,
   "id": "f0c99e2f",
   "metadata": {},
   "outputs": [],
   "source": [
    "from matplotlib.transforms import Affine2D"
   ]
  },
  {
   "cell_type": "code",
   "execution_count": 553,
   "id": "4ddf737b",
   "metadata": {},
   "outputs": [
    {
     "data": {
      "image/png": "[encoded data removed]",
      "text/plain": [
       "<Figure size 432x288 with 1 Axes>"
      ]
     },
     "metadata": {
      "needs_background": "light"
     },
     "output_type": "display_data"
    }
   ],
   "source": [
    "fig, ax = plt.subplots()\n",
    "\n",
    "trans1 = Affine2D().translate(-0.1, 0.0) + ax.transData\n",
    "trans2 = Affine2D().translate(+0.1, 0.0) + ax.transData\n",
    "plt.errorbar('month', 'mean',  yerr=err20, data=statsSK20,marker='s', capsize=2,\n",
    "             color='blue', markersize=4, linewidth=1, linestyle='--',transform=trans1)\n",
    "plt.errorbar('month', 'mean',  yerr=err21, data=statsSK21,marker='s', capsize=2,\n",
    "             color='red', markersize=4, linewidth=1, linestyle='--',transform=trans2)\n",
    "plt.legend(['2020','2021'])\n",
    "plt.xlabel(\"Month\")\n",
    "plt.ylabel(\"Average Daily COVID CASES\")\n",
    "plt.title(\"South Korea\")\n",
    "plt.show()"
   ]
  },
  {
   "cell_type": "markdown",
   "id": "32caeb2c",
   "metadata": {},
   "source": [
    "In South Korea, it is so clear that daily cases were at their peak during Dec 2021 and at their lowest during Jan 2020"
   ]
  },
  {
   "cell_type": "markdown",
   "id": "bf322be7",
   "metadata": {},
   "source": [
    "Next, we will try to filter Egypt's data"
   ]
  },
  {
   "cell_type": "code",
   "execution_count": 554,
   "id": "ebd1ac0f",
   "metadata": {},
   "outputs": [],
   "source": [
    "statsEgy=statsdcases[(statsdcases['country']=='Egypt') & (statsdcases['year']==2021)]"
   ]
  },
  {
   "cell_type": "code",
   "execution_count": 555,
   "id": "58d594d7",
   "metadata": {},
   "outputs": [],
   "source": [
    "statsEgy.columns=['country','year','month','mean','std','size','lb','ub']"
   ]
  },
  {
   "cell_type": "code",
   "execution_count": 556,
   "id": "9a276e0e",
   "metadata": {},
   "outputs": [
    {
     "data": {
      "image/png": "[encoded data removed]",
      "text/plain": [
       "<Figure size 432x288 with 1 Axes>"
      ]
     },
     "metadata": {
      "needs_background": "light"
     },
     "output_type": "display_data"
    }
   ],
   "source": [
    "plt.plot( 'month', 'mean', data=statsEgy, marker='s', color='black', markersize=4,     linewidth=1, linestyle='--')\n",
    "plt.plot( 'month', 'mean', data=statsEgy, marker='o', color='black',  markersize=4, linewidth=1,linestyle='-')\n",
    "plt.xlabel(\"Month\")\n",
    "plt.ylabel(\"Average Daily COVID CASES\")\n",
    "plt.title(\"Egypt\")\n",
    "plt.show()"
   ]
  },
  {
   "cell_type": "code",
   "execution_count": 557,
   "id": "91c50b27",
   "metadata": {},
   "outputs": [],
   "source": [
    "ci_lb_ub=[statsEgy['lb'],statsEgy['ub']]"
   ]
  },
  {
   "cell_type": "code",
   "execution_count": 558,
   "id": "b0ab05a7",
   "metadata": {},
   "outputs": [],
   "source": [
    "err = np.abs(ci_lb_ub - statsEgy['mean'].to_numpy())"
   ]
  },
  {
   "cell_type": "code",
   "execution_count": 559,
   "id": "676f1ee4",
   "metadata": {},
   "outputs": [
    {
     "data": {
      "image/png": "[encoded data removed]",
      "text/plain": [
       "<Figure size 432x288 with 1 Axes>"
      ]
     },
     "metadata": {
      "needs_background": "light"
     },
     "output_type": "display_data"
    }
   ],
   "source": [
    "plt.errorbar('month', 'mean',  yerr=err, data=statsEgy,marker='s', capsize=2,\n",
    "             color='black', markersize=4, linewidth=1, linestyle='--')\n",
    "plt.xlabel(\"Month\")\n",
    "plt.ylabel(\"Average Daily COVID CASES\")\n",
    "plt.title(\"Egypt\")\n",
    "plt.show()"
   ]
  },
  {
   "cell_type": "code",
   "execution_count": 560,
   "id": "0d8f5898",
   "metadata": {},
   "outputs": [
    {
     "data": {
      "text/html": [
       "<div>\n",
       "<style scoped>\n",
       "    .dataframe tbody tr th:only-of-type {\n",
       "        vertical-align: middle;\n",
       "    }\n",
       "\n",
       "    .dataframe tbody tr th {\n",
       "        vertical-align: top;\n",
       "    }\n",
       "\n",
       "    .dataframe thead tr th {\n",
       "        text-align: left;\n",
       "    }\n",
       "</style>\n",
       "<table border=\"1\" class=\"dataframe\">\n",
       "  <thead>\n",
       "    <tr>\n",
       "      <th></th>\n",
       "      <th>country</th>\n",
       "      <th>year</th>\n",
       "      <th>month</th>\n",
       "      <th colspan=\"5\" halign=\"left\">dcases</th>\n",
       "    </tr>\n",
       "    <tr>\n",
       "      <th></th>\n",
       "      <th></th>\n",
       "      <th></th>\n",
       "      <th></th>\n",
       "      <th>mean</th>\n",
       "      <th>std</th>\n",
       "      <th>size</th>\n",
       "      <th>get_ci_lb</th>\n",
       "      <th>get_ci_ub</th>\n",
       "    </tr>\n",
       "  </thead>\n",
       "  <tbody>\n",
       "    <tr>\n",
       "      <th>1236</th>\n",
       "      <td>Egypt</td>\n",
       "      <td>2021</td>\n",
       "      <td>Jan</td>\n",
       "      <td>899.645161</td>\n",
       "      <td>251.335970</td>\n",
       "      <td>31.0</td>\n",
       "      <td>807.454383</td>\n",
       "      <td>991.835939</td>\n",
       "    </tr>\n",
       "    <tr>\n",
       "      <th>1237</th>\n",
       "      <td>Egypt</td>\n",
       "      <td>2021</td>\n",
       "      <td>Feb</td>\n",
       "      <td>588.321429</td>\n",
       "      <td>40.989659</td>\n",
       "      <td>28.0</td>\n",
       "      <td>572.427298</td>\n",
       "      <td>604.215559</td>\n",
       "    </tr>\n",
       "    <tr>\n",
       "      <th>1238</th>\n",
       "      <td>Egypt</td>\n",
       "      <td>2021</td>\n",
       "      <td>Mar</td>\n",
       "      <td>635.709677</td>\n",
       "      <td>36.309038</td>\n",
       "      <td>31.0</td>\n",
       "      <td>622.391415</td>\n",
       "      <td>649.027940</td>\n",
       "    </tr>\n",
       "    <tr>\n",
       "      <th>1239</th>\n",
       "      <td>Egypt</td>\n",
       "      <td>2021</td>\n",
       "      <td>Apr</td>\n",
       "      <td>847.366667</td>\n",
       "      <td>92.416405</td>\n",
       "      <td>30.0</td>\n",
       "      <td>812.857814</td>\n",
       "      <td>881.875520</td>\n",
       "    </tr>\n",
       "    <tr>\n",
       "      <th>1240</th>\n",
       "      <td>Egypt</td>\n",
       "      <td>2021</td>\n",
       "      <td>May</td>\n",
       "      <td>1132.193548</td>\n",
       "      <td>55.087457</td>\n",
       "      <td>31.0</td>\n",
       "      <td>1111.987306</td>\n",
       "      <td>1152.399791</td>\n",
       "    </tr>\n",
       "    <tr>\n",
       "      <th>1241</th>\n",
       "      <td>Egypt</td>\n",
       "      <td>2021</td>\n",
       "      <td>Jun</td>\n",
       "      <td>621.066667</td>\n",
       "      <td>197.770841</td>\n",
       "      <td>30.0</td>\n",
       "      <td>547.217821</td>\n",
       "      <td>694.915513</td>\n",
       "    </tr>\n",
       "    <tr>\n",
       "      <th>1242</th>\n",
       "      <td>Egypt</td>\n",
       "      <td>2021</td>\n",
       "      <td>Jul</td>\n",
       "      <td>96.129032</td>\n",
       "      <td>61.659139</td>\n",
       "      <td>31.0</td>\n",
       "      <td>73.512277</td>\n",
       "      <td>118.745787</td>\n",
       "    </tr>\n",
       "    <tr>\n",
       "      <th>1243</th>\n",
       "      <td>Egypt</td>\n",
       "      <td>2021</td>\n",
       "      <td>Aug</td>\n",
       "      <td>134.806452</td>\n",
       "      <td>73.635326</td>\n",
       "      <td>31.0</td>\n",
       "      <td>107.796796</td>\n",
       "      <td>161.816107</td>\n",
       "    </tr>\n",
       "    <tr>\n",
       "      <th>1244</th>\n",
       "      <td>Egypt</td>\n",
       "      <td>2021</td>\n",
       "      <td>Sep</td>\n",
       "      <td>536.100000</td>\n",
       "      <td>151.276488</td>\n",
       "      <td>30.0</td>\n",
       "      <td>479.612431</td>\n",
       "      <td>592.587569</td>\n",
       "    </tr>\n",
       "    <tr>\n",
       "      <th>1245</th>\n",
       "      <td>Egypt</td>\n",
       "      <td>2021</td>\n",
       "      <td>Oct</td>\n",
       "      <td>854.612903</td>\n",
       "      <td>53.664189</td>\n",
       "      <td>31.0</td>\n",
       "      <td>834.928720</td>\n",
       "      <td>874.297087</td>\n",
       "    </tr>\n",
       "    <tr>\n",
       "      <th>1246</th>\n",
       "      <td>Egypt</td>\n",
       "      <td>2021</td>\n",
       "      <td>Nov</td>\n",
       "      <td>918.700000</td>\n",
       "      <td>248.217528</td>\n",
       "      <td>30.0</td>\n",
       "      <td>826.014052</td>\n",
       "      <td>1011.385948</td>\n",
       "    </tr>\n",
       "    <tr>\n",
       "      <th>1247</th>\n",
       "      <td>Egypt</td>\n",
       "      <td>2021</td>\n",
       "      <td>Dec</td>\n",
       "      <td>870.870968</td>\n",
       "      <td>212.967093</td>\n",
       "      <td>31.0</td>\n",
       "      <td>792.754007</td>\n",
       "      <td>948.987928</td>\n",
       "    </tr>\n",
       "  </tbody>\n",
       "</table>\n",
       "</div>"
      ],
      "text/plain": [
       "     country  year month       dcases                                 \\\n",
       "                                 mean         std  size    get_ci_lb   \n",
       "1236   Egypt  2021   Jan   899.645161  251.335970  31.0   807.454383   \n",
       "1237   Egypt  2021   Feb   588.321429   40.989659  28.0   572.427298   \n",
       "1238   Egypt  2021   Mar   635.709677   36.309038  31.0   622.391415   \n",
       "1239   Egypt  2021   Apr   847.366667   92.416405  30.0   812.857814   \n",
       "1240   Egypt  2021   May  1132.193548   55.087457  31.0  1111.987306   \n",
       "1241   Egypt  2021   Jun   621.066667  197.770841  30.0   547.217821   \n",
       "1242   Egypt  2021   Jul    96.129032   61.659139  31.0    73.512277   \n",
       "1243   Egypt  2021   Aug   134.806452   73.635326  31.0   107.796796   \n",
       "1244   Egypt  2021   Sep   536.100000  151.276488  30.0   479.612431   \n",
       "1245   Egypt  2021   Oct   854.612903   53.664189  31.0   834.928720   \n",
       "1246   Egypt  2021   Nov   918.700000  248.217528  30.0   826.014052   \n",
       "1247   Egypt  2021   Dec   870.870968  212.967093  31.0   792.754007   \n",
       "\n",
       "                   \n",
       "        get_ci_ub  \n",
       "1236   991.835939  \n",
       "1237   604.215559  \n",
       "1238   649.027940  \n",
       "1239   881.875520  \n",
       "1240  1152.399791  \n",
       "1241   694.915513  \n",
       "1242   118.745787  \n",
       "1243   161.816107  \n",
       "1244   592.587569  \n",
       "1245   874.297087  \n",
       "1246  1011.385948  \n",
       "1247   948.987928  "
      ]
     },
     "execution_count": 560,
     "metadata": {},
     "output_type": "execute_result"
    }
   ],
   "source": [
    "statsEgy21=statsdcases[(statsdcases['country']=='Egypt')\n",
    "                       & (statsdcases['year']==2021)]\n",
    "statsEgy21"
   ]
  },
  {
   "cell_type": "code",
   "execution_count": 561,
   "id": "9b87a585",
   "metadata": {},
   "outputs": [
    {
     "data": {
      "text/html": [
       "<div>\n",
       "<style scoped>\n",
       "    .dataframe tbody tr th:only-of-type {\n",
       "        vertical-align: middle;\n",
       "    }\n",
       "\n",
       "    .dataframe tbody tr th {\n",
       "        vertical-align: top;\n",
       "    }\n",
       "\n",
       "    .dataframe thead tr th {\n",
       "        text-align: left;\n",
       "    }\n",
       "</style>\n",
       "<table border=\"1\" class=\"dataframe\">\n",
       "  <thead>\n",
       "    <tr>\n",
       "      <th></th>\n",
       "      <th>country</th>\n",
       "      <th>year</th>\n",
       "      <th>month</th>\n",
       "      <th colspan=\"5\" halign=\"left\">dcases</th>\n",
       "    </tr>\n",
       "    <tr>\n",
       "      <th></th>\n",
       "      <th></th>\n",
       "      <th></th>\n",
       "      <th></th>\n",
       "      <th>mean</th>\n",
       "      <th>std</th>\n",
       "      <th>size</th>\n",
       "      <th>get_ci_lb</th>\n",
       "      <th>get_ci_ub</th>\n",
       "    </tr>\n",
       "  </thead>\n",
       "  <tbody>\n",
       "    <tr>\n",
       "      <th>1224</th>\n",
       "      <td>Egypt</td>\n",
       "      <td>2020</td>\n",
       "      <td>Jan</td>\n",
       "      <td>NaN</td>\n",
       "      <td>NaN</td>\n",
       "      <td>NaN</td>\n",
       "      <td>NaN</td>\n",
       "      <td>NaN</td>\n",
       "    </tr>\n",
       "    <tr>\n",
       "      <th>1225</th>\n",
       "      <td>Egypt</td>\n",
       "      <td>2020</td>\n",
       "      <td>Feb</td>\n",
       "      <td>0.062500</td>\n",
       "      <td>0.250000</td>\n",
       "      <td>16.0</td>\n",
       "      <td>-0.070716</td>\n",
       "      <td>0.195716</td>\n",
       "    </tr>\n",
       "    <tr>\n",
       "      <th>1226</th>\n",
       "      <td>Egypt</td>\n",
       "      <td>2020</td>\n",
       "      <td>Mar</td>\n",
       "      <td>22.870968</td>\n",
       "      <td>20.228267</td>\n",
       "      <td>31.0</td>\n",
       "      <td>15.451179</td>\n",
       "      <td>30.290756</td>\n",
       "    </tr>\n",
       "    <tr>\n",
       "      <th>1227</th>\n",
       "      <td>Egypt</td>\n",
       "      <td>2020</td>\n",
       "      <td>Apr</td>\n",
       "      <td>160.900000</td>\n",
       "      <td>54.996144</td>\n",
       "      <td>30.0</td>\n",
       "      <td>140.364102</td>\n",
       "      <td>181.435898</td>\n",
       "    </tr>\n",
       "    <tr>\n",
       "      <th>1228</th>\n",
       "      <td>Egypt</td>\n",
       "      <td>2020</td>\n",
       "      <td>May</td>\n",
       "      <td>627.354839</td>\n",
       "      <td>330.723908</td>\n",
       "      <td>31.0</td>\n",
       "      <td>506.044330</td>\n",
       "      <td>748.665347</td>\n",
       "    </tr>\n",
       "    <tr>\n",
       "      <th>1229</th>\n",
       "      <td>Egypt</td>\n",
       "      <td>2020</td>\n",
       "      <td>Jun</td>\n",
       "      <td>1444.200000</td>\n",
       "      <td>176.114853</td>\n",
       "      <td>30.0</td>\n",
       "      <td>1378.437633</td>\n",
       "      <td>1509.962367</td>\n",
       "    </tr>\n",
       "    <tr>\n",
       "      <th>1230</th>\n",
       "      <td>Egypt</td>\n",
       "      <td>2020</td>\n",
       "      <td>Jul</td>\n",
       "      <td>831.193548</td>\n",
       "      <td>326.183427</td>\n",
       "      <td>31.0</td>\n",
       "      <td>711.548501</td>\n",
       "      <td>950.838595</td>\n",
       "    </tr>\n",
       "    <tr>\n",
       "      <th>1231</th>\n",
       "      <td>Egypt</td>\n",
       "      <td>2020</td>\n",
       "      <td>Aug</td>\n",
       "      <td>156.806452</td>\n",
       "      <td>42.607839</td>\n",
       "      <td>31.0</td>\n",
       "      <td>141.177770</td>\n",
       "      <td>172.435133</td>\n",
       "    </tr>\n",
       "    <tr>\n",
       "      <th>1232</th>\n",
       "      <td>Egypt</td>\n",
       "      <td>2020</td>\n",
       "      <td>Sep</td>\n",
       "      <td>141.966667</td>\n",
       "      <td>23.389481</td>\n",
       "      <td>30.0</td>\n",
       "      <td>133.232891</td>\n",
       "      <td>150.700442</td>\n",
       "    </tr>\n",
       "    <tr>\n",
       "      <th>1233</th>\n",
       "      <td>Egypt</td>\n",
       "      <td>2020</td>\n",
       "      <td>Oct</td>\n",
       "      <td>140.548387</td>\n",
       "      <td>24.650678</td>\n",
       "      <td>31.0</td>\n",
       "      <td>131.506445</td>\n",
       "      <td>149.590329</td>\n",
       "    </tr>\n",
       "    <tr>\n",
       "      <th>1234</th>\n",
       "      <td>Egypt</td>\n",
       "      <td>2020</td>\n",
       "      <td>Nov</td>\n",
       "      <td>278.533333</td>\n",
       "      <td>71.137426</td>\n",
       "      <td>30.0</td>\n",
       "      <td>251.970182</td>\n",
       "      <td>305.096485</td>\n",
       "    </tr>\n",
       "    <tr>\n",
       "      <th>1235</th>\n",
       "      <td>Egypt</td>\n",
       "      <td>2020</td>\n",
       "      <td>Dec</td>\n",
       "      <td>714.548387</td>\n",
       "      <td>354.179036</td>\n",
       "      <td>31.0</td>\n",
       "      <td>584.634468</td>\n",
       "      <td>844.462306</td>\n",
       "    </tr>\n",
       "  </tbody>\n",
       "</table>\n",
       "</div>"
      ],
      "text/plain": [
       "     country  year month       dcases                                 \\\n",
       "                                 mean         std  size    get_ci_lb   \n",
       "1224   Egypt  2020   Jan          NaN         NaN   NaN          NaN   \n",
       "1225   Egypt  2020   Feb     0.062500    0.250000  16.0    -0.070716   \n",
       "1226   Egypt  2020   Mar    22.870968   20.228267  31.0    15.451179   \n",
       "1227   Egypt  2020   Apr   160.900000   54.996144  30.0   140.364102   \n",
       "1228   Egypt  2020   May   627.354839  330.723908  31.0   506.044330   \n",
       "1229   Egypt  2020   Jun  1444.200000  176.114853  30.0  1378.437633   \n",
       "1230   Egypt  2020   Jul   831.193548  326.183427  31.0   711.548501   \n",
       "1231   Egypt  2020   Aug   156.806452   42.607839  31.0   141.177770   \n",
       "1232   Egypt  2020   Sep   141.966667   23.389481  30.0   133.232891   \n",
       "1233   Egypt  2020   Oct   140.548387   24.650678  31.0   131.506445   \n",
       "1234   Egypt  2020   Nov   278.533333   71.137426  30.0   251.970182   \n",
       "1235   Egypt  2020   Dec   714.548387  354.179036  31.0   584.634468   \n",
       "\n",
       "                   \n",
       "        get_ci_ub  \n",
       "1224          NaN  \n",
       "1225     0.195716  \n",
       "1226    30.290756  \n",
       "1227   181.435898  \n",
       "1228   748.665347  \n",
       "1229  1509.962367  \n",
       "1230   950.838595  \n",
       "1231   172.435133  \n",
       "1232   150.700442  \n",
       "1233   149.590329  \n",
       "1234   305.096485  \n",
       "1235   844.462306  "
      ]
     },
     "execution_count": 561,
     "metadata": {},
     "output_type": "execute_result"
    }
   ],
   "source": [
    "statsEgy20=statsdcases[(statsdcases['country']=='Egypt')\n",
    "                       & (statsdcases['year']==2020)]\n",
    "statsEgy20"
   ]
  },
  {
   "cell_type": "code",
   "execution_count": 562,
   "id": "ced5f124",
   "metadata": {},
   "outputs": [],
   "source": [
    "statsEgy20.columns=['country','year','month','mean','std','size','lb','ub']"
   ]
  },
  {
   "cell_type": "code",
   "execution_count": 563,
   "id": "4fc6efc7",
   "metadata": {},
   "outputs": [],
   "source": [
    "statsEgy21.columns=['country','year','month','mean','std','size','lb','ub']"
   ]
  },
  {
   "cell_type": "code",
   "execution_count": 564,
   "id": "2d0b747b",
   "metadata": {},
   "outputs": [
    {
     "data": {
      "text/plain": [
       "1224    Jan\n",
       "1225    Feb\n",
       "1226    Mar\n",
       "1227    Apr\n",
       "1228    May\n",
       "1229    Jun\n",
       "1230    Jul\n",
       "1231    Aug\n",
       "1232    Sep\n",
       "1233    Oct\n",
       "1234    Nov\n",
       "1235    Dec\n",
       "Name: month, dtype: category\n",
       "Categories (12, object): ['Jan' < 'Feb' < 'Mar' < 'Apr' ... 'Sep' < 'Oct' < 'Nov' < 'Dec']"
      ]
     },
     "execution_count": 564,
     "metadata": {},
     "output_type": "execute_result"
    }
   ],
   "source": [
    "x=statsEgy20['month']\n",
    "x"
   ]
  },
  {
   "cell_type": "code",
   "execution_count": 565,
   "id": "be1ab26a",
   "metadata": {},
   "outputs": [
    {
     "data": {
      "text/plain": [
       "1224            NaN\n",
       "1225       0.062500\n",
       "1226      22.870968\n",
       "1227     160.900000\n",
       "1228     627.354839\n",
       "1229    1444.200000\n",
       "1230     831.193548\n",
       "1231     156.806452\n",
       "1232     141.966667\n",
       "1233     140.548387\n",
       "1234     278.533333\n",
       "1235     714.548387\n",
       "Name: mean, dtype: float64"
      ]
     },
     "execution_count": 565,
     "metadata": {},
     "output_type": "execute_result"
    }
   ],
   "source": [
    "y1=statsEgy20['mean']\n",
    "y1"
   ]
  },
  {
   "cell_type": "code",
   "execution_count": 566,
   "id": "6864d117",
   "metadata": {},
   "outputs": [
    {
     "data": {
      "text/plain": [
       "1236     899.645161\n",
       "1237     588.321429\n",
       "1238     635.709677\n",
       "1239     847.366667\n",
       "1240    1132.193548\n",
       "1241     621.066667\n",
       "1242      96.129032\n",
       "1243     134.806452\n",
       "1244     536.100000\n",
       "1245     854.612903\n",
       "1246     918.700000\n",
       "1247     870.870968\n",
       "Name: mean, dtype: float64"
      ]
     },
     "execution_count": 566,
     "metadata": {},
     "output_type": "execute_result"
    }
   ],
   "source": [
    "y2=statsEgy21['mean']\n",
    "y2"
   ]
  },
  {
   "cell_type": "code",
   "execution_count": 567,
   "id": "43822367",
   "metadata": {},
   "outputs": [],
   "source": [
    "ci_lb_ub20=[statsEgy20['lb'],statsEgy20['ub']]\n",
    "err20 = np.abs(ci_lb_ub20 - statsEgy20['mean'].to_numpy())"
   ]
  },
  {
   "cell_type": "code",
   "execution_count": 568,
   "id": "9ff88ad2",
   "metadata": {},
   "outputs": [],
   "source": [
    "ci_lb_ub21=[statsEgy21['lb'],statsEgy21['ub']]\n",
    "err21 = np.abs(ci_lb_ub21 - statsEgy21['mean'].to_numpy())"
   ]
  },
  {
   "cell_type": "code",
   "execution_count": 569,
   "id": "9eae60a5",
   "metadata": {},
   "outputs": [
    {
     "data": {
      "image/png": "[encoded data removed]",
      "text/plain": [
       "<Figure size 432x288 with 1 Axes>"
      ]
     },
     "metadata": {
      "needs_background": "light"
     },
     "output_type": "display_data"
    }
   ],
   "source": [
    "fig, ax = plt.subplots()\n",
    "\n",
    "trans1 = Affine2D().translate(-0.1, 0.0) + ax.transData\n",
    "trans2 = Affine2D().translate(+0.1, 0.0) + ax.transData\n",
    "plt.errorbar('month', 'mean',  yerr=err20, data=statsEgy20,marker='s', capsize=2,\n",
    "             color='blue', markersize=4, linewidth=1, linestyle='--',transform=trans1)\n",
    "plt.errorbar('month', 'mean',  yerr=err21, data=statsEgy21,marker='s', capsize=2,\n",
    "             color='red', markersize=4, linewidth=1, linestyle='--',transform=trans2)\n",
    "plt.legend(['2020','2021'])\n",
    "plt.xlabel(\"Month\")\n",
    "plt.ylabel(\"Average Daily COVID CASES\")\n",
    "plt.title(\"Egypt\")\n",
    "plt.show()"
   ]
  },
  {
   "cell_type": "markdown",
   "id": "bc90943e",
   "metadata": {},
   "source": [
    "we can track from the graph that in Egypt 2020 (labeled blue) had the highest covid cases in comparison with 2021, the one in red. Also, Feb 2020 has the least number of daily cases. "
   ]
  },
  {
   "cell_type": "markdown",
   "id": "3874b22b",
   "metadata": {},
   "source": [
    "Thirdly, we will also try to filter Japan's data and compare 2021 with 2021"
   ]
  },
  {
   "cell_type": "code",
   "execution_count": 570,
   "id": "45cf0abd",
   "metadata": {},
   "outputs": [],
   "source": [
    "statsjapan=statsdcases[(statsdcases['country']=='Japan') & (statsdcases['year']==2021)]"
   ]
  },
  {
   "cell_type": "code",
   "execution_count": 571,
   "id": "6afc618e",
   "metadata": {},
   "outputs": [],
   "source": [
    "statsjapan.columns=['country','year','month','mean','std','size','lb','ub']"
   ]
  },
  {
   "cell_type": "code",
   "execution_count": 572,
   "id": "1c6ff7a1",
   "metadata": {},
   "outputs": [
    {
     "data": {
      "image/png": "[encoded data removed]",
      "text/plain": [
       "<Figure size 432x288 with 1 Axes>"
      ]
     },
     "metadata": {
      "needs_background": "light"
     },
     "output_type": "display_data"
    }
   ],
   "source": [
    "plt.plot( 'month', 'mean', data=statsEgy, marker='s', color='black', markersize=4,     linewidth=1, linestyle='--')\n",
    "plt.plot( 'month', 'mean', data=statsEgy, marker='o', color='black',  markersize=4, linewidth=1,linestyle='-')\n",
    "plt.xlabel(\"Month\")\n",
    "plt.ylabel(\"Average Daily COVID CASES\")\n",
    "plt.title(\"Egypt\")\n",
    "plt.show()"
   ]
  },
  {
   "cell_type": "code",
   "execution_count": 573,
   "id": "6c241efd",
   "metadata": {},
   "outputs": [],
   "source": [
    "ci_lb_ub=[statsjapan['lb'],statsEgy['ub']]"
   ]
  },
  {
   "cell_type": "code",
   "execution_count": 574,
   "id": "ff10290b",
   "metadata": {},
   "outputs": [],
   "source": [
    "err = np.abs(ci_lb_ub - statsEgy['mean'].to_numpy())"
   ]
  },
  {
   "cell_type": "code",
   "execution_count": 575,
   "id": "ecce2204",
   "metadata": {},
   "outputs": [
    {
     "data": {
      "image/png": "[encoded data removed]",
      "text/plain": [
       "<Figure size 432x288 with 1 Axes>"
      ]
     },
     "metadata": {
      "needs_background": "light"
     },
     "output_type": "display_data"
    }
   ],
   "source": [
    "plt.errorbar('month', 'mean',  yerr=err, data=statsjapan,marker='s', capsize=2,\n",
    "             color='black', markersize=4, linewidth=1, linestyle='--')\n",
    "plt.xlabel(\"Month\")\n",
    "plt.ylabel(\"Average Daily COVID CASES\")\n",
    "plt.title(\"Japan\")\n",
    "plt.show()"
   ]
  },
  {
   "cell_type": "code",
   "execution_count": 576,
   "id": "a207f8b7",
   "metadata": {},
   "outputs": [
    {
     "data": {
      "text/html": [
       "<div>\n",
       "<style scoped>\n",
       "    .dataframe tbody tr th:only-of-type {\n",
       "        vertical-align: middle;\n",
       "    }\n",
       "\n",
       "    .dataframe tbody tr th {\n",
       "        vertical-align: top;\n",
       "    }\n",
       "\n",
       "    .dataframe thead tr th {\n",
       "        text-align: left;\n",
       "    }\n",
       "</style>\n",
       "<table border=\"1\" class=\"dataframe\">\n",
       "  <thead>\n",
       "    <tr>\n",
       "      <th></th>\n",
       "      <th>country</th>\n",
       "      <th>year</th>\n",
       "      <th>month</th>\n",
       "      <th colspan=\"5\" halign=\"left\">dcases</th>\n",
       "    </tr>\n",
       "    <tr>\n",
       "      <th></th>\n",
       "      <th></th>\n",
       "      <th></th>\n",
       "      <th></th>\n",
       "      <th>mean</th>\n",
       "      <th>std</th>\n",
       "      <th>size</th>\n",
       "      <th>get_ci_lb</th>\n",
       "      <th>get_ci_ub</th>\n",
       "    </tr>\n",
       "  </thead>\n",
       "  <tbody>\n",
       "    <tr>\n",
       "      <th>2004</th>\n",
       "      <td>Japan</td>\n",
       "      <td>2021</td>\n",
       "      <td>Jan</td>\n",
       "      <td>4999.709677</td>\n",
       "      <td>1556.661475</td>\n",
       "      <td>31.0</td>\n",
       "      <td>4428.721639</td>\n",
       "      <td>5570.697716</td>\n",
       "    </tr>\n",
       "    <tr>\n",
       "      <th>2005</th>\n",
       "      <td>Japan</td>\n",
       "      <td>2021</td>\n",
       "      <td>Feb</td>\n",
       "      <td>1496.285714</td>\n",
       "      <td>523.376775</td>\n",
       "      <td>28.0</td>\n",
       "      <td>1293.341387</td>\n",
       "      <td>1699.230041</td>\n",
       "    </tr>\n",
       "    <tr>\n",
       "      <th>2006</th>\n",
       "      <td>Japan</td>\n",
       "      <td>2021</td>\n",
       "      <td>Mar</td>\n",
       "      <td>1369.354839</td>\n",
       "      <td>488.049215</td>\n",
       "      <td>31.0</td>\n",
       "      <td>1190.336941</td>\n",
       "      <td>1548.372736</td>\n",
       "    </tr>\n",
       "    <tr>\n",
       "      <th>2007</th>\n",
       "      <td>Japan</td>\n",
       "      <td>2021</td>\n",
       "      <td>Apr</td>\n",
       "      <td>3922.833333</td>\n",
       "      <td>1179.424292</td>\n",
       "      <td>30.0</td>\n",
       "      <td>3482.429065</td>\n",
       "      <td>4363.237602</td>\n",
       "    </tr>\n",
       "    <tr>\n",
       "      <th>2008</th>\n",
       "      <td>Japan</td>\n",
       "      <td>2021</td>\n",
       "      <td>May</td>\n",
       "      <td>4958.580645</td>\n",
       "      <td>1353.906540</td>\n",
       "      <td>31.0</td>\n",
       "      <td>4461.963717</td>\n",
       "      <td>5455.197573</td>\n",
       "    </tr>\n",
       "    <tr>\n",
       "      <th>2009</th>\n",
       "      <td>Japan</td>\n",
       "      <td>2021</td>\n",
       "      <td>Jun</td>\n",
       "      <td>1769.866667</td>\n",
       "      <td>552.869925</td>\n",
       "      <td>30.0</td>\n",
       "      <td>1563.421644</td>\n",
       "      <td>1976.311690</td>\n",
       "    </tr>\n",
       "    <tr>\n",
       "      <th>2010</th>\n",
       "      <td>Japan</td>\n",
       "      <td>2021</td>\n",
       "      <td>Jul</td>\n",
       "      <td>4097.451613</td>\n",
       "      <td>3039.684412</td>\n",
       "      <td>31.0</td>\n",
       "      <td>2982.486369</td>\n",
       "      <td>5212.416857</td>\n",
       "    </tr>\n",
       "    <tr>\n",
       "      <th>2011</th>\n",
       "      <td>Japan</td>\n",
       "      <td>2021</td>\n",
       "      <td>Aug</td>\n",
       "      <td>18315.096774</td>\n",
       "      <td>5044.434090</td>\n",
       "      <td>31.0</td>\n",
       "      <td>16464.783412</td>\n",
       "      <td>20165.410137</td>\n",
       "    </tr>\n",
       "    <tr>\n",
       "      <th>2012</th>\n",
       "      <td>Japan</td>\n",
       "      <td>2021</td>\n",
       "      <td>Sep</td>\n",
       "      <td>7023.333333</td>\n",
       "      <td>5442.825276</td>\n",
       "      <td>30.0</td>\n",
       "      <td>4990.948974</td>\n",
       "      <td>9055.717693</td>\n",
       "    </tr>\n",
       "    <tr>\n",
       "      <th>2013</th>\n",
       "      <td>Japan</td>\n",
       "      <td>2021</td>\n",
       "      <td>Oct</td>\n",
       "      <td>557.129032</td>\n",
       "      <td>335.894501</td>\n",
       "      <td>31.0</td>\n",
       "      <td>433.921934</td>\n",
       "      <td>680.336130</td>\n",
       "    </tr>\n",
       "    <tr>\n",
       "      <th>2014</th>\n",
       "      <td>Japan</td>\n",
       "      <td>2021</td>\n",
       "      <td>Nov</td>\n",
       "      <td>143.100000</td>\n",
       "      <td>58.422569</td>\n",
       "      <td>30.0</td>\n",
       "      <td>121.284654</td>\n",
       "      <td>164.915346</td>\n",
       "    </tr>\n",
       "    <tr>\n",
       "      <th>2015</th>\n",
       "      <td>Japan</td>\n",
       "      <td>2021</td>\n",
       "      <td>Dec</td>\n",
       "      <td>182.580645</td>\n",
       "      <td>97.970327</td>\n",
       "      <td>31.0</td>\n",
       "      <td>146.644839</td>\n",
       "      <td>218.516451</td>\n",
       "    </tr>\n",
       "  </tbody>\n",
       "</table>\n",
       "</div>"
      ],
      "text/plain": [
       "     country  year month        dcases                                   \\\n",
       "                                  mean          std  size     get_ci_lb   \n",
       "2004   Japan  2021   Jan   4999.709677  1556.661475  31.0   4428.721639   \n",
       "2005   Japan  2021   Feb   1496.285714   523.376775  28.0   1293.341387   \n",
       "2006   Japan  2021   Mar   1369.354839   488.049215  31.0   1190.336941   \n",
       "2007   Japan  2021   Apr   3922.833333  1179.424292  30.0   3482.429065   \n",
       "2008   Japan  2021   May   4958.580645  1353.906540  31.0   4461.963717   \n",
       "2009   Japan  2021   Jun   1769.866667   552.869925  30.0   1563.421644   \n",
       "2010   Japan  2021   Jul   4097.451613  3039.684412  31.0   2982.486369   \n",
       "2011   Japan  2021   Aug  18315.096774  5044.434090  31.0  16464.783412   \n",
       "2012   Japan  2021   Sep   7023.333333  5442.825276  30.0   4990.948974   \n",
       "2013   Japan  2021   Oct    557.129032   335.894501  31.0    433.921934   \n",
       "2014   Japan  2021   Nov    143.100000    58.422569  30.0    121.284654   \n",
       "2015   Japan  2021   Dec    182.580645    97.970327  31.0    146.644839   \n",
       "\n",
       "                    \n",
       "         get_ci_ub  \n",
       "2004   5570.697716  \n",
       "2005   1699.230041  \n",
       "2006   1548.372736  \n",
       "2007   4363.237602  \n",
       "2008   5455.197573  \n",
       "2009   1976.311690  \n",
       "2010   5212.416857  \n",
       "2011  20165.410137  \n",
       "2012   9055.717693  \n",
       "2013    680.336130  \n",
       "2014    164.915346  \n",
       "2015    218.516451  "
      ]
     },
     "execution_count": 576,
     "metadata": {},
     "output_type": "execute_result"
    }
   ],
   "source": [
    "statsjapan21=statsdcases[(statsdcases['country']=='Japan')\n",
    "                       & (statsdcases['year']==2021)]\n",
    "statsjapan21"
   ]
  },
  {
   "cell_type": "code",
   "execution_count": 577,
   "id": "f91d4179",
   "metadata": {},
   "outputs": [
    {
     "data": {
      "text/html": [
       "<div>\n",
       "<style scoped>\n",
       "    .dataframe tbody tr th:only-of-type {\n",
       "        vertical-align: middle;\n",
       "    }\n",
       "\n",
       "    .dataframe tbody tr th {\n",
       "        vertical-align: top;\n",
       "    }\n",
       "\n",
       "    .dataframe thead tr th {\n",
       "        text-align: left;\n",
       "    }\n",
       "</style>\n",
       "<table border=\"1\" class=\"dataframe\">\n",
       "  <thead>\n",
       "    <tr>\n",
       "      <th></th>\n",
       "      <th>country</th>\n",
       "      <th>year</th>\n",
       "      <th>month</th>\n",
       "      <th colspan=\"5\" halign=\"left\">dcases</th>\n",
       "    </tr>\n",
       "    <tr>\n",
       "      <th></th>\n",
       "      <th></th>\n",
       "      <th></th>\n",
       "      <th></th>\n",
       "      <th>mean</th>\n",
       "      <th>std</th>\n",
       "      <th>size</th>\n",
       "      <th>get_ci_lb</th>\n",
       "      <th>get_ci_ub</th>\n",
       "    </tr>\n",
       "  </thead>\n",
       "  <tbody>\n",
       "    <tr>\n",
       "      <th>1992</th>\n",
       "      <td>Japan</td>\n",
       "      <td>2020</td>\n",
       "      <td>Jan</td>\n",
       "      <td>1.500000</td>\n",
       "      <td>1.715938</td>\n",
       "      <td>10.0</td>\n",
       "      <td>0.272492</td>\n",
       "      <td>2.727508</td>\n",
       "    </tr>\n",
       "    <tr>\n",
       "      <th>1993</th>\n",
       "      <td>Japan</td>\n",
       "      <td>2020</td>\n",
       "      <td>Feb</td>\n",
       "      <td>7.931034</td>\n",
       "      <td>7.591965</td>\n",
       "      <td>29.0</td>\n",
       "      <td>5.043205</td>\n",
       "      <td>10.818863</td>\n",
       "    </tr>\n",
       "    <tr>\n",
       "      <th>1994</th>\n",
       "      <td>Japan</td>\n",
       "      <td>2020</td>\n",
       "      <td>Mar</td>\n",
       "      <td>64.838710</td>\n",
       "      <td>55.332990</td>\n",
       "      <td>31.0</td>\n",
       "      <td>44.542405</td>\n",
       "      <td>85.135014</td>\n",
       "    </tr>\n",
       "    <tr>\n",
       "      <th>1995</th>\n",
       "      <td>Japan</td>\n",
       "      <td>2020</td>\n",
       "      <td>Apr</td>\n",
       "      <td>400.966667</td>\n",
       "      <td>143.180495</td>\n",
       "      <td>30.0</td>\n",
       "      <td>347.502191</td>\n",
       "      <td>454.431142</td>\n",
       "    </tr>\n",
       "    <tr>\n",
       "      <th>1996</th>\n",
       "      <td>Japan</td>\n",
       "      <td>2020</td>\n",
       "      <td>May</td>\n",
       "      <td>79.258065</td>\n",
       "      <td>70.789815</td>\n",
       "      <td>31.0</td>\n",
       "      <td>53.292151</td>\n",
       "      <td>105.223978</td>\n",
       "    </tr>\n",
       "    <tr>\n",
       "      <th>1997</th>\n",
       "      <td>Japan</td>\n",
       "      <td>2020</td>\n",
       "      <td>Jun</td>\n",
       "      <td>62.133333</td>\n",
       "      <td>28.085747</td>\n",
       "      <td>30.0</td>\n",
       "      <td>51.645943</td>\n",
       "      <td>72.620724</td>\n",
       "    </tr>\n",
       "    <tr>\n",
       "      <th>1998</th>\n",
       "      <td>Japan</td>\n",
       "      <td>2020</td>\n",
       "      <td>Jul</td>\n",
       "      <td>569.387097</td>\n",
       "      <td>367.041839</td>\n",
       "      <td>31.0</td>\n",
       "      <td>434.755063</td>\n",
       "      <td>704.019130</td>\n",
       "    </tr>\n",
       "    <tr>\n",
       "      <th>1999</th>\n",
       "      <td>Japan</td>\n",
       "      <td>2020</td>\n",
       "      <td>Aug</td>\n",
       "      <td>1036.419355</td>\n",
       "      <td>322.038898</td>\n",
       "      <td>31.0</td>\n",
       "      <td>918.294534</td>\n",
       "      <td>1154.544176</td>\n",
       "    </tr>\n",
       "    <tr>\n",
       "      <th>2000</th>\n",
       "      <td>Japan</td>\n",
       "      <td>2020</td>\n",
       "      <td>Sep</td>\n",
       "      <td>506.466667</td>\n",
       "      <td>130.100951</td>\n",
       "      <td>30.0</td>\n",
       "      <td>457.886173</td>\n",
       "      <td>555.047160</td>\n",
       "    </tr>\n",
       "    <tr>\n",
       "      <th>2001</th>\n",
       "      <td>Japan</td>\n",
       "      <td>2020</td>\n",
       "      <td>Oct</td>\n",
       "      <td>572.387097</td>\n",
       "      <td>151.149744</td>\n",
       "      <td>31.0</td>\n",
       "      <td>516.944923</td>\n",
       "      <td>627.829271</td>\n",
       "    </tr>\n",
       "    <tr>\n",
       "      <th>2002</th>\n",
       "      <td>Japan</td>\n",
       "      <td>2020</td>\n",
       "      <td>Nov</td>\n",
       "      <td>1583.366667</td>\n",
       "      <td>649.812996</td>\n",
       "      <td>30.0</td>\n",
       "      <td>1340.722506</td>\n",
       "      <td>1826.010827</td>\n",
       "    </tr>\n",
       "    <tr>\n",
       "      <th>2003</th>\n",
       "      <td>Japan</td>\n",
       "      <td>2020</td>\n",
       "      <td>Dec</td>\n",
       "      <td>2804.032258</td>\n",
       "      <td>705.835981</td>\n",
       "      <td>31.0</td>\n",
       "      <td>2545.129530</td>\n",
       "      <td>3062.934986</td>\n",
       "    </tr>\n",
       "  </tbody>\n",
       "</table>\n",
       "</div>"
      ],
      "text/plain": [
       "     country  year month       dcases                                 \\\n",
       "                                 mean         std  size    get_ci_lb   \n",
       "1992   Japan  2020   Jan     1.500000    1.715938  10.0     0.272492   \n",
       "1993   Japan  2020   Feb     7.931034    7.591965  29.0     5.043205   \n",
       "1994   Japan  2020   Mar    64.838710   55.332990  31.0    44.542405   \n",
       "1995   Japan  2020   Apr   400.966667  143.180495  30.0   347.502191   \n",
       "1996   Japan  2020   May    79.258065   70.789815  31.0    53.292151   \n",
       "1997   Japan  2020   Jun    62.133333   28.085747  30.0    51.645943   \n",
       "1998   Japan  2020   Jul   569.387097  367.041839  31.0   434.755063   \n",
       "1999   Japan  2020   Aug  1036.419355  322.038898  31.0   918.294534   \n",
       "2000   Japan  2020   Sep   506.466667  130.100951  30.0   457.886173   \n",
       "2001   Japan  2020   Oct   572.387097  151.149744  31.0   516.944923   \n",
       "2002   Japan  2020   Nov  1583.366667  649.812996  30.0  1340.722506   \n",
       "2003   Japan  2020   Dec  2804.032258  705.835981  31.0  2545.129530   \n",
       "\n",
       "                   \n",
       "        get_ci_ub  \n",
       "1992     2.727508  \n",
       "1993    10.818863  \n",
       "1994    85.135014  \n",
       "1995   454.431142  \n",
       "1996   105.223978  \n",
       "1997    72.620724  \n",
       "1998   704.019130  \n",
       "1999  1154.544176  \n",
       "2000   555.047160  \n",
       "2001   627.829271  \n",
       "2002  1826.010827  \n",
       "2003  3062.934986  "
      ]
     },
     "execution_count": 577,
     "metadata": {},
     "output_type": "execute_result"
    }
   ],
   "source": [
    "statsjapan20=statsdcases[(statsdcases['country']=='Japan')\n",
    "                       & (statsdcases['year']==2020)]\n",
    "statsjapan20"
   ]
  },
  {
   "cell_type": "code",
   "execution_count": 578,
   "id": "23410e4a",
   "metadata": {},
   "outputs": [],
   "source": [
    "statsjapan20.columns=['country','year','month','mean','std','size','lb','ub']"
   ]
  },
  {
   "cell_type": "code",
   "execution_count": 579,
   "id": "c2de8798",
   "metadata": {},
   "outputs": [],
   "source": [
    "statsjapan21.columns=['country','year','month','mean','std','size','lb','ub']"
   ]
  },
  {
   "cell_type": "code",
   "execution_count": 580,
   "id": "7ff8d4ed",
   "metadata": {},
   "outputs": [
    {
     "data": {
      "text/plain": [
       "1992    Jan\n",
       "1993    Feb\n",
       "1994    Mar\n",
       "1995    Apr\n",
       "1996    May\n",
       "1997    Jun\n",
       "1998    Jul\n",
       "1999    Aug\n",
       "2000    Sep\n",
       "2001    Oct\n",
       "2002    Nov\n",
       "2003    Dec\n",
       "Name: month, dtype: category\n",
       "Categories (12, object): ['Jan' < 'Feb' < 'Mar' < 'Apr' ... 'Sep' < 'Oct' < 'Nov' < 'Dec']"
      ]
     },
     "execution_count": 580,
     "metadata": {},
     "output_type": "execute_result"
    }
   ],
   "source": [
    "x=statsjapan20['month']\n",
    "x"
   ]
  },
  {
   "cell_type": "code",
   "execution_count": 581,
   "id": "559a3965",
   "metadata": {},
   "outputs": [
    {
     "data": {
      "text/plain": [
       "1992       1.500000\n",
       "1993       7.931034\n",
       "1994      64.838710\n",
       "1995     400.966667\n",
       "1996      79.258065\n",
       "1997      62.133333\n",
       "1998     569.387097\n",
       "1999    1036.419355\n",
       "2000     506.466667\n",
       "2001     572.387097\n",
       "2002    1583.366667\n",
       "2003    2804.032258\n",
       "Name: mean, dtype: float64"
      ]
     },
     "execution_count": 581,
     "metadata": {},
     "output_type": "execute_result"
    }
   ],
   "source": [
    "y1=statsjapan20['mean']\n",
    "y1"
   ]
  },
  {
   "cell_type": "code",
   "execution_count": 582,
   "id": "13724fbd",
   "metadata": {},
   "outputs": [
    {
     "data": {
      "text/plain": [
       "2004     4999.709677\n",
       "2005     1496.285714\n",
       "2006     1369.354839\n",
       "2007     3922.833333\n",
       "2008     4958.580645\n",
       "2009     1769.866667\n",
       "2010     4097.451613\n",
       "2011    18315.096774\n",
       "2012     7023.333333\n",
       "2013      557.129032\n",
       "2014      143.100000\n",
       "2015      182.580645\n",
       "Name: mean, dtype: float64"
      ]
     },
     "execution_count": 582,
     "metadata": {},
     "output_type": "execute_result"
    }
   ],
   "source": [
    "y2=statsjapan21['mean']\n",
    "y2"
   ]
  },
  {
   "cell_type": "code",
   "execution_count": 583,
   "id": "74761da9",
   "metadata": {},
   "outputs": [],
   "source": [
    "ci_lb_ub20=[statsEgy20['lb'],statsjapan20['ub']]\n",
    "err20 = np.abs(ci_lb_ub20 - statsjapan20['mean'].to_numpy())"
   ]
  },
  {
   "cell_type": "code",
   "execution_count": 584,
   "id": "f72ca302",
   "metadata": {},
   "outputs": [],
   "source": [
    "ci_lb_ub21=[statsEgy21['lb'],statsjapan21['ub']]\n",
    "err21 = np.abs(ci_lb_ub21 - statsjapan21['mean'].to_numpy())"
   ]
  },
  {
   "cell_type": "code",
   "execution_count": 585,
   "id": "c16bd026",
   "metadata": {},
   "outputs": [
    {
     "data": {
      "image/png": "[encoded data removed]",
      "text/plain": [
       "<Figure size 432x288 with 1 Axes>"
      ]
     },
     "metadata": {
      "needs_background": "light"
     },
     "output_type": "display_data"
    }
   ],
   "source": [
    "fig, ax = plt.subplots()\n",
    "\n",
    "trans1 = Affine2D().translate(-0.1, 0.0) + ax.transData\n",
    "trans2 = Affine2D().translate(+0.1, 0.0) + ax.transData\n",
    "plt.errorbar('month', 'mean',  yerr=err20, data=statsjapan20,marker='s', capsize=2,\n",
    "             color='blue', markersize=4, linewidth=1, linestyle='--',transform=trans1)\n",
    "plt.errorbar('month', 'mean',  yerr=err21, data=statsjapan21,marker='s', capsize=2,\n",
    "             color='red', markersize=4, linewidth=1, linestyle='--',transform=trans2)\n",
    "plt.legend(['2020','2021'])\n",
    "plt.xlabel(\"Month\")\n",
    "plt.ylabel(\"Average Daily COVID CASES\")\n",
    "plt.title(\"Japan\")\n",
    "plt.show()"
   ]
  },
  {
   "cell_type": "markdown",
   "id": "e0fff8af",
   "metadata": {},
   "source": [
    "The results here show that August 2021 had the highest daily average."
   ]
  },
  {
   "cell_type": "markdown",
   "id": "844da084",
   "metadata": {},
   "source": [
    "Finally, we will filter the U.S. Data"
   ]
  },
  {
   "cell_type": "code",
   "execution_count": 586,
   "id": "2c63ff2f",
   "metadata": {},
   "outputs": [],
   "source": [
    "statsus=statsdcases[(statsdcases['country']=='United States') & (statsdcases['year']==2021)]"
   ]
  },
  {
   "cell_type": "code",
   "execution_count": 587,
   "id": "51c79b51",
   "metadata": {},
   "outputs": [],
   "source": [
    "statsus.columns=['country','year','month','mean','std','size','lb','ub']"
   ]
  },
  {
   "cell_type": "code",
   "execution_count": 588,
   "id": "bd6150d5",
   "metadata": {},
   "outputs": [
    {
     "data": {
      "image/png": "[encoded data removed]",
      "text/plain": [
       "<Figure size 432x288 with 1 Axes>"
      ]
     },
     "metadata": {
      "needs_background": "light"
     },
     "output_type": "display_data"
    }
   ],
   "source": [
    "plt.plot( 'month', 'mean', data=statsus, marker='s', color='black', markersize=4,     linewidth=1, linestyle='--')\n",
    "plt.plot( 'month', 'mean', data=statsus, marker='o', color='black',  markersize=4, linewidth=1,linestyle='-')\n",
    "plt.xlabel(\"Month\")\n",
    "plt.ylabel(\"Average Daily COVID CASES\")\n",
    "plt.title(\"United States\")\n",
    "plt.show()"
   ]
  },
  {
   "cell_type": "code",
   "execution_count": 589,
   "id": "0f3ca85d",
   "metadata": {},
   "outputs": [],
   "source": [
    "ci_lb_ub=[statsus['lb'],statsus['ub']]"
   ]
  },
  {
   "cell_type": "code",
   "execution_count": 590,
   "id": "51e79f89",
   "metadata": {},
   "outputs": [],
   "source": [
    "err = np.abs(ci_lb_ub - statsus['mean'].to_numpy())"
   ]
  },
  {
   "cell_type": "code",
   "execution_count": 591,
   "id": "03abf6e5",
   "metadata": {},
   "outputs": [
    {
     "data": {
      "image/png": "[encoded data removed]",
      "text/plain": [
       "<Figure size 432x288 with 1 Axes>"
      ]
     },
     "metadata": {
      "needs_background": "light"
     },
     "output_type": "display_data"
    }
   ],
   "source": [
    "plt.errorbar('month', 'mean',  yerr=err, data=statsus,marker='s', capsize=2,\n",
    "             color='black', markersize=4, linewidth=1, linestyle='--')\n",
    "plt.xlabel(\"Month\")\n",
    "plt.ylabel(\"Average Daily COVID CASES\")\n",
    "plt.title(\"United States\")\n",
    "plt.show()"
   ]
  },
  {
   "cell_type": "code",
   "execution_count": 592,
   "id": "9933ac7b",
   "metadata": {},
   "outputs": [
    {
     "data": {
      "text/html": [
       "<div>\n",
       "<style scoped>\n",
       "    .dataframe tbody tr th:only-of-type {\n",
       "        vertical-align: middle;\n",
       "    }\n",
       "\n",
       "    .dataframe tbody tr th {\n",
       "        vertical-align: top;\n",
       "    }\n",
       "\n",
       "    .dataframe thead tr th {\n",
       "        text-align: left;\n",
       "    }\n",
       "</style>\n",
       "<table border=\"1\" class=\"dataframe\">\n",
       "  <thead>\n",
       "    <tr>\n",
       "      <th></th>\n",
       "      <th>country</th>\n",
       "      <th>year</th>\n",
       "      <th>month</th>\n",
       "      <th colspan=\"5\" halign=\"left\">dcases</th>\n",
       "    </tr>\n",
       "    <tr>\n",
       "      <th></th>\n",
       "      <th></th>\n",
       "      <th></th>\n",
       "      <th></th>\n",
       "      <th>mean</th>\n",
       "      <th>std</th>\n",
       "      <th>size</th>\n",
       "      <th>get_ci_lb</th>\n",
       "      <th>get_ci_ub</th>\n",
       "    </tr>\n",
       "  </thead>\n",
       "  <tbody>\n",
       "    <tr>\n",
       "      <th>4284</th>\n",
       "      <td>United States</td>\n",
       "      <td>2021</td>\n",
       "      <td>Jan</td>\n",
       "      <td>198456.967742</td>\n",
       "      <td>48963.656236</td>\n",
       "      <td>31.0</td>\n",
       "      <td>180496.953637</td>\n",
       "      <td>216416.981847</td>\n",
       "    </tr>\n",
       "    <tr>\n",
       "      <th>4285</th>\n",
       "      <td>United States</td>\n",
       "      <td>2021</td>\n",
       "      <td>Feb</td>\n",
       "      <td>86034.071429</td>\n",
       "      <td>24096.956170</td>\n",
       "      <td>28.0</td>\n",
       "      <td>76690.247272</td>\n",
       "      <td>95377.895585</td>\n",
       "    </tr>\n",
       "    <tr>\n",
       "      <th>4286</th>\n",
       "      <td>United States</td>\n",
       "      <td>2021</td>\n",
       "      <td>Mar</td>\n",
       "      <td>58528.870968</td>\n",
       "      <td>11091.423385</td>\n",
       "      <td>31.0</td>\n",
       "      <td>54460.504025</td>\n",
       "      <td>62597.237911</td>\n",
       "    </tr>\n",
       "    <tr>\n",
       "      <th>4287</th>\n",
       "      <td>United States</td>\n",
       "      <td>2021</td>\n",
       "      <td>Apr</td>\n",
       "      <td>62969.866667</td>\n",
       "      <td>13326.331302</td>\n",
       "      <td>30.0</td>\n",
       "      <td>57993.732778</td>\n",
       "      <td>67946.000555</td>\n",
       "    </tr>\n",
       "    <tr>\n",
       "      <th>4288</th>\n",
       "      <td>United States</td>\n",
       "      <td>2021</td>\n",
       "      <td>May</td>\n",
       "      <td>29748.451613</td>\n",
       "      <td>11654.944186</td>\n",
       "      <td>31.0</td>\n",
       "      <td>25473.383571</td>\n",
       "      <td>34023.519655</td>\n",
       "    </tr>\n",
       "    <tr>\n",
       "      <th>4289</th>\n",
       "      <td>United States</td>\n",
       "      <td>2021</td>\n",
       "      <td>Jun</td>\n",
       "      <td>13276.666667</td>\n",
       "      <td>5477.556971</td>\n",
       "      <td>30.0</td>\n",
       "      <td>11231.313279</td>\n",
       "      <td>15322.020054</td>\n",
       "    </tr>\n",
       "    <tr>\n",
       "      <th>4290</th>\n",
       "      <td>United States</td>\n",
       "      <td>2021</td>\n",
       "      <td>Jul</td>\n",
       "      <td>42530.096774</td>\n",
       "      <td>38371.307282</td>\n",
       "      <td>31.0</td>\n",
       "      <td>28455.387633</td>\n",
       "      <td>56604.805916</td>\n",
       "    </tr>\n",
       "    <tr>\n",
       "      <th>4291</th>\n",
       "      <td>United States</td>\n",
       "      <td>2021</td>\n",
       "      <td>Aug</td>\n",
       "      <td>138009.096774</td>\n",
       "      <td>68559.671456</td>\n",
       "      <td>31.0</td>\n",
       "      <td>112861.206256</td>\n",
       "      <td>163156.987292</td>\n",
       "    </tr>\n",
       "    <tr>\n",
       "      <th>4292</th>\n",
       "      <td>United States</td>\n",
       "      <td>2021</td>\n",
       "      <td>Sep</td>\n",
       "      <td>138317.533333</td>\n",
       "      <td>62395.681666</td>\n",
       "      <td>30.0</td>\n",
       "      <td>115018.602892</td>\n",
       "      <td>161616.463775</td>\n",
       "    </tr>\n",
       "    <tr>\n",
       "      <th>4293</th>\n",
       "      <td>United States</td>\n",
       "      <td>2021</td>\n",
       "      <td>Oct</td>\n",
       "      <td>80985.838710</td>\n",
       "      <td>36717.953309</td>\n",
       "      <td>31.0</td>\n",
       "      <td>67517.584702</td>\n",
       "      <td>94454.092718</td>\n",
       "    </tr>\n",
       "    <tr>\n",
       "      <th>4294</th>\n",
       "      <td>United States</td>\n",
       "      <td>2021</td>\n",
       "      <td>Nov</td>\n",
       "      <td>84910.333333</td>\n",
       "      <td>41307.383674</td>\n",
       "      <td>30.0</td>\n",
       "      <td>69485.902776</td>\n",
       "      <td>100334.763891</td>\n",
       "    </tr>\n",
       "    <tr>\n",
       "      <th>4295</th>\n",
       "      <td>United States</td>\n",
       "      <td>2021</td>\n",
       "      <td>Dec</td>\n",
       "      <td>200893.903226</td>\n",
       "      <td>144836.878947</td>\n",
       "      <td>31.0</td>\n",
       "      <td>147767.307118</td>\n",
       "      <td>254020.499334</td>\n",
       "    </tr>\n",
       "  </tbody>\n",
       "</table>\n",
       "</div>"
      ],
      "text/plain": [
       "            country  year month         dcases                       \\\n",
       "                                          mean            std  size   \n",
       "4284  United States  2021   Jan  198456.967742   48963.656236  31.0   \n",
       "4285  United States  2021   Feb   86034.071429   24096.956170  28.0   \n",
       "4286  United States  2021   Mar   58528.870968   11091.423385  31.0   \n",
       "4287  United States  2021   Apr   62969.866667   13326.331302  30.0   \n",
       "4288  United States  2021   May   29748.451613   11654.944186  31.0   \n",
       "4289  United States  2021   Jun   13276.666667    5477.556971  30.0   \n",
       "4290  United States  2021   Jul   42530.096774   38371.307282  31.0   \n",
       "4291  United States  2021   Aug  138009.096774   68559.671456  31.0   \n",
       "4292  United States  2021   Sep  138317.533333   62395.681666  30.0   \n",
       "4293  United States  2021   Oct   80985.838710   36717.953309  31.0   \n",
       "4294  United States  2021   Nov   84910.333333   41307.383674  30.0   \n",
       "4295  United States  2021   Dec  200893.903226  144836.878947  31.0   \n",
       "\n",
       "                                    \n",
       "          get_ci_lb      get_ci_ub  \n",
       "4284  180496.953637  216416.981847  \n",
       "4285   76690.247272   95377.895585  \n",
       "4286   54460.504025   62597.237911  \n",
       "4287   57993.732778   67946.000555  \n",
       "4288   25473.383571   34023.519655  \n",
       "4289   11231.313279   15322.020054  \n",
       "4290   28455.387633   56604.805916  \n",
       "4291  112861.206256  163156.987292  \n",
       "4292  115018.602892  161616.463775  \n",
       "4293   67517.584702   94454.092718  \n",
       "4294   69485.902776  100334.763891  \n",
       "4295  147767.307118  254020.499334  "
      ]
     },
     "execution_count": 592,
     "metadata": {},
     "output_type": "execute_result"
    }
   ],
   "source": [
    "statsus21=statsdcases[(statsdcases['country']=='United States')\n",
    "                       & (statsdcases['year']==2021)]\n",
    "statsus21"
   ]
  },
  {
   "cell_type": "code",
   "execution_count": 593,
   "id": "969cf903",
   "metadata": {},
   "outputs": [
    {
     "data": {
      "text/html": [
       "<div>\n",
       "<style scoped>\n",
       "    .dataframe tbody tr th:only-of-type {\n",
       "        vertical-align: middle;\n",
       "    }\n",
       "\n",
       "    .dataframe tbody tr th {\n",
       "        vertical-align: top;\n",
       "    }\n",
       "\n",
       "    .dataframe thead tr th {\n",
       "        text-align: left;\n",
       "    }\n",
       "</style>\n",
       "<table border=\"1\" class=\"dataframe\">\n",
       "  <thead>\n",
       "    <tr>\n",
       "      <th></th>\n",
       "      <th>country</th>\n",
       "      <th>year</th>\n",
       "      <th>month</th>\n",
       "      <th colspan=\"5\" halign=\"left\">dcases</th>\n",
       "    </tr>\n",
       "    <tr>\n",
       "      <th></th>\n",
       "      <th></th>\n",
       "      <th></th>\n",
       "      <th></th>\n",
       "      <th>mean</th>\n",
       "      <th>std</th>\n",
       "      <th>size</th>\n",
       "      <th>get_ci_lb</th>\n",
       "      <th>get_ci_ub</th>\n",
       "    </tr>\n",
       "  </thead>\n",
       "  <tbody>\n",
       "    <tr>\n",
       "      <th>4272</th>\n",
       "      <td>United States</td>\n",
       "      <td>2020</td>\n",
       "      <td>Jan</td>\n",
       "      <td>0.800000</td>\n",
       "      <td>1.032796</td>\n",
       "      <td>10.0</td>\n",
       "      <td>0.061183</td>\n",
       "      <td>1.538817</td>\n",
       "    </tr>\n",
       "    <tr>\n",
       "      <th>4273</th>\n",
       "      <td>United States</td>\n",
       "      <td>2020</td>\n",
       "      <td>Feb</td>\n",
       "      <td>0.586207</td>\n",
       "      <td>1.592779</td>\n",
       "      <td>29.0</td>\n",
       "      <td>-0.019654</td>\n",
       "      <td>1.192068</td>\n",
       "    </tr>\n",
       "    <tr>\n",
       "      <th>4274</th>\n",
       "      <td>United States</td>\n",
       "      <td>2020</td>\n",
       "      <td>Mar</td>\n",
       "      <td>6195.290323</td>\n",
       "      <td>8136.094990</td>\n",
       "      <td>31.0</td>\n",
       "      <td>3210.946587</td>\n",
       "      <td>9179.634058</td>\n",
       "    </tr>\n",
       "    <tr>\n",
       "      <th>4275</th>\n",
       "      <td>United States</td>\n",
       "      <td>2020</td>\n",
       "      <td>Apr</td>\n",
       "      <td>29444.100000</td>\n",
       "      <td>2951.205287</td>\n",
       "      <td>30.0</td>\n",
       "      <td>28342.101835</td>\n",
       "      <td>30546.098165</td>\n",
       "    </tr>\n",
       "    <tr>\n",
       "      <th>4276</th>\n",
       "      <td>United States</td>\n",
       "      <td>2020</td>\n",
       "      <td>May</td>\n",
       "      <td>22969.967742</td>\n",
       "      <td>3675.815070</td>\n",
       "      <td>31.0</td>\n",
       "      <td>21621.667889</td>\n",
       "      <td>24318.267595</td>\n",
       "    </tr>\n",
       "    <tr>\n",
       "      <th>4277</th>\n",
       "      <td>United States</td>\n",
       "      <td>2020</td>\n",
       "      <td>Jun</td>\n",
       "      <td>28578.800000</td>\n",
       "      <td>9530.864738</td>\n",
       "      <td>30.0</td>\n",
       "      <td>25019.916618</td>\n",
       "      <td>32137.683382</td>\n",
       "    </tr>\n",
       "    <tr>\n",
       "      <th>4278</th>\n",
       "      <td>United States</td>\n",
       "      <td>2020</td>\n",
       "      <td>Jul</td>\n",
       "      <td>61294.677419</td>\n",
       "      <td>7287.514718</td>\n",
       "      <td>31.0</td>\n",
       "      <td>58621.595440</td>\n",
       "      <td>63967.759399</td>\n",
       "    </tr>\n",
       "    <tr>\n",
       "      <th>4279</th>\n",
       "      <td>United States</td>\n",
       "      <td>2020</td>\n",
       "      <td>Aug</td>\n",
       "      <td>48365.354839</td>\n",
       "      <td>9820.975222</td>\n",
       "      <td>31.0</td>\n",
       "      <td>44762.992044</td>\n",
       "      <td>51967.717633</td>\n",
       "    </tr>\n",
       "    <tr>\n",
       "      <th>4280</th>\n",
       "      <td>United States</td>\n",
       "      <td>2020</td>\n",
       "      <td>Sep</td>\n",
       "      <td>39903.100000</td>\n",
       "      <td>6415.896956</td>\n",
       "      <td>30.0</td>\n",
       "      <td>37507.364704</td>\n",
       "      <td>42298.835296</td>\n",
       "    </tr>\n",
       "    <tr>\n",
       "      <th>4281</th>\n",
       "      <td>United States</td>\n",
       "      <td>2020</td>\n",
       "      <td>Oct</td>\n",
       "      <td>61870.935484</td>\n",
       "      <td>16595.228308</td>\n",
       "      <td>31.0</td>\n",
       "      <td>55783.756596</td>\n",
       "      <td>67958.114371</td>\n",
       "    </tr>\n",
       "    <tr>\n",
       "      <th>4282</th>\n",
       "      <td>United States</td>\n",
       "      <td>2020</td>\n",
       "      <td>Nov</td>\n",
       "      <td>149008.633333</td>\n",
       "      <td>33377.003387</td>\n",
       "      <td>30.0</td>\n",
       "      <td>136545.455442</td>\n",
       "      <td>161471.811224</td>\n",
       "    </tr>\n",
       "    <tr>\n",
       "      <th>4283</th>\n",
       "      <td>United States</td>\n",
       "      <td>2020</td>\n",
       "      <td>Dec</td>\n",
       "      <td>211725.193548</td>\n",
       "      <td>33854.121304</td>\n",
       "      <td>31.0</td>\n",
       "      <td>199307.401601</td>\n",
       "      <td>224142.985496</td>\n",
       "    </tr>\n",
       "  </tbody>\n",
       "</table>\n",
       "</div>"
      ],
      "text/plain": [
       "            country  year month         dcases                      \\\n",
       "                                          mean           std  size   \n",
       "4272  United States  2020   Jan       0.800000      1.032796  10.0   \n",
       "4273  United States  2020   Feb       0.586207      1.592779  29.0   \n",
       "4274  United States  2020   Mar    6195.290323   8136.094990  31.0   \n",
       "4275  United States  2020   Apr   29444.100000   2951.205287  30.0   \n",
       "4276  United States  2020   May   22969.967742   3675.815070  31.0   \n",
       "4277  United States  2020   Jun   28578.800000   9530.864738  30.0   \n",
       "4278  United States  2020   Jul   61294.677419   7287.514718  31.0   \n",
       "4279  United States  2020   Aug   48365.354839   9820.975222  31.0   \n",
       "4280  United States  2020   Sep   39903.100000   6415.896956  30.0   \n",
       "4281  United States  2020   Oct   61870.935484  16595.228308  31.0   \n",
       "4282  United States  2020   Nov  149008.633333  33377.003387  30.0   \n",
       "4283  United States  2020   Dec  211725.193548  33854.121304  31.0   \n",
       "\n",
       "                                    \n",
       "          get_ci_lb      get_ci_ub  \n",
       "4272       0.061183       1.538817  \n",
       "4273      -0.019654       1.192068  \n",
       "4274    3210.946587    9179.634058  \n",
       "4275   28342.101835   30546.098165  \n",
       "4276   21621.667889   24318.267595  \n",
       "4277   25019.916618   32137.683382  \n",
       "4278   58621.595440   63967.759399  \n",
       "4279   44762.992044   51967.717633  \n",
       "4280   37507.364704   42298.835296  \n",
       "4281   55783.756596   67958.114371  \n",
       "4282  136545.455442  161471.811224  \n",
       "4283  199307.401601  224142.985496  "
      ]
     },
     "execution_count": 593,
     "metadata": {},
     "output_type": "execute_result"
    }
   ],
   "source": [
    "statsus20=statsdcases[(statsdcases['country']=='United States')\n",
    "                       & (statsdcases['year']==2020)]\n",
    "statsus20"
   ]
  },
  {
   "cell_type": "code",
   "execution_count": 594,
   "id": "4bf4b30a",
   "metadata": {},
   "outputs": [],
   "source": [
    "statsus20.columns=['country','year','month','mean','std','size','lb','ub']"
   ]
  },
  {
   "cell_type": "code",
   "execution_count": 595,
   "id": "df752879",
   "metadata": {},
   "outputs": [],
   "source": [
    "statsus21.columns=['country','year','month','mean','std','size','lb','ub']"
   ]
  },
  {
   "cell_type": "code",
   "execution_count": 596,
   "id": "ef0ed7e0",
   "metadata": {},
   "outputs": [
    {
     "data": {
      "text/plain": [
       "4272    Jan\n",
       "4273    Feb\n",
       "4274    Mar\n",
       "4275    Apr\n",
       "4276    May\n",
       "4277    Jun\n",
       "4278    Jul\n",
       "4279    Aug\n",
       "4280    Sep\n",
       "4281    Oct\n",
       "4282    Nov\n",
       "4283    Dec\n",
       "Name: month, dtype: category\n",
       "Categories (12, object): ['Jan' < 'Feb' < 'Mar' < 'Apr' ... 'Sep' < 'Oct' < 'Nov' < 'Dec']"
      ]
     },
     "execution_count": 596,
     "metadata": {},
     "output_type": "execute_result"
    }
   ],
   "source": [
    "x=statsus20['month']\n",
    "x"
   ]
  },
  {
   "cell_type": "code",
   "execution_count": 597,
   "id": "a1b6e562",
   "metadata": {},
   "outputs": [
    {
     "data": {
      "text/plain": [
       "4272         0.800000\n",
       "4273         0.586207\n",
       "4274      6195.290323\n",
       "4275     29444.100000\n",
       "4276     22969.967742\n",
       "4277     28578.800000\n",
       "4278     61294.677419\n",
       "4279     48365.354839\n",
       "4280     39903.100000\n",
       "4281     61870.935484\n",
       "4282    149008.633333\n",
       "4283    211725.193548\n",
       "Name: mean, dtype: float64"
      ]
     },
     "execution_count": 597,
     "metadata": {},
     "output_type": "execute_result"
    }
   ],
   "source": [
    "y1=statsus20['mean']\n",
    "y1"
   ]
  },
  {
   "cell_type": "code",
   "execution_count": 598,
   "id": "e8d9fa52",
   "metadata": {},
   "outputs": [
    {
     "data": {
      "text/plain": [
       "4284    198456.967742\n",
       "4285     86034.071429\n",
       "4286     58528.870968\n",
       "4287     62969.866667\n",
       "4288     29748.451613\n",
       "4289     13276.666667\n",
       "4290     42530.096774\n",
       "4291    138009.096774\n",
       "4292    138317.533333\n",
       "4293     80985.838710\n",
       "4294     84910.333333\n",
       "4295    200893.903226\n",
       "Name: mean, dtype: float64"
      ]
     },
     "execution_count": 598,
     "metadata": {},
     "output_type": "execute_result"
    }
   ],
   "source": [
    "y2=statsus21['mean']\n",
    "y2"
   ]
  },
  {
   "cell_type": "code",
   "execution_count": 599,
   "id": "f074c89c",
   "metadata": {},
   "outputs": [],
   "source": [
    "ci_lb_ub20=[statsus20['lb'],statsus20['ub']]\n",
    "err20 = np.abs(ci_lb_ub20 - statsus20['mean'].to_numpy())"
   ]
  },
  {
   "cell_type": "code",
   "execution_count": 600,
   "id": "91928568",
   "metadata": {},
   "outputs": [],
   "source": [
    "ci_lb_ub21=[statsus21['lb'],statsus21['ub']]\n",
    "err21 = np.abs(ci_lb_ub21 - statsus21['mean'].to_numpy())"
   ]
  },
  {
   "cell_type": "code",
   "execution_count": 601,
   "id": "24a665c0",
   "metadata": {},
   "outputs": [
    {
     "data": {
      "image/png": "[encoded data removed]",
      "text/plain": [
       "<Figure size 432x288 with 1 Axes>"
      ]
     },
     "metadata": {
      "needs_background": "light"
     },
     "output_type": "display_data"
    }
   ],
   "source": [
    "fig, ax = plt.subplots()\n",
    "\n",
    "trans1 = Affine2D().translate(-0.1, 0.0) + ax.transData\n",
    "trans2 = Affine2D().translate(+0.1, 0.0) + ax.transData\n",
    "plt.errorbar('month', 'mean',  yerr=err20, data=statsus20,marker='s', capsize=2,\n",
    "             color='blue', markersize=4, linewidth=1, linestyle='--',transform=trans1)\n",
    "plt.errorbar('month', 'mean',  yerr=err21, data=statsus21,marker='s', capsize=2,\n",
    "             color='red', markersize=4, linewidth=1, linestyle='--',transform=trans2)\n",
    "plt.legend(['2020','2021'])\n",
    "plt.xlabel(\"Month\")\n",
    "plt.ylabel(\"Average Daily COVID CASES\")\n",
    "plt.title(\"United States\")\n",
    "plt.show()"
   ]
  },
  {
   "cell_type": "markdown",
   "id": "86980281",
   "metadata": {},
   "source": [
    "The last graph shows that as a whole 2021 has more daily cases than 2020 in America."
   ]
  },
  {
   "cell_type": "markdown",
   "id": "f4dbe5e4",
   "metadata": {},
   "source": [
    "The End"
   ]
  },
  {
   "cell_type": "code",
   "execution_count": null,
   "id": "8c09ff13",
   "metadata": {},
   "outputs": [],
   "source": []
  }
 ],
 "metadata": {
  "kernelspec": {
   "display_name": "Python 3 (ipykernel)",
   "language": "python",
   "name": "python3"
  },
  "language_info": {
   "codemirror_mode": {
    "name": "ipython",
    "version": 3
   },
   "file_extension": ".py",
   "mimetype": "text/x-python",
   "name": "python",
   "nbconvert_exporter": "python",
   "pygments_lexer": "ipython3",
   "version": "3.9.7"
  }
 },
 "nbformat": 4,
 "nbformat_minor": 5
}
